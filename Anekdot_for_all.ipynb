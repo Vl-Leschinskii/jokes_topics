{
  "nbformat": 4,
  "nbformat_minor": 0,
  "metadata": {
    "colab": {
      "provenance": [],
      "include_colab_link": true
    },
    "kernelspec": {
      "name": "python3",
      "display_name": "Python 3"
    },
    "language_info": {
      "name": "python"
    }
  },
  "cells": [
    {
      "cell_type": "markdown",
      "metadata": {
        "id": "view-in-github",
        "colab_type": "text"
      },
      "source": [
        "<a href=\"https://colab.research.google.com/github/Vl-Leschinskii/jokes_topics/blob/main/Anekdot_for_all.ipynb\" target=\"_parent\"><img src=\"https://colab.research.google.com/assets/colab-badge.svg\" alt=\"Open In Colab\"/></a>"
      ]
    },
    {
      "cell_type": "markdown",
      "source": [
        "### Нужные установки"
      ],
      "metadata": {
        "id": "ifOZnyHUMxTR"
      }
    },
    {
      "cell_type": "code",
      "source": [
        "!pip3 install pyLDAvis"
      ],
      "metadata": {
        "id": "Mtv0AM82bJ_b"
      },
      "execution_count": null,
      "outputs": []
    },
    {
      "cell_type": "code",
      "source": [
        "!pip install transformers sentencepiece"
      ],
      "metadata": {
        "id": "7AfNV1Px9i_v"
      },
      "execution_count": null,
      "outputs": []
    },
    {
      "cell_type": "code",
      "source": [
        "!pip install pymorphy2\n",
        "from pymorphy2 import MorphAnalyzer\n",
        "\n",
        "parser = MorphAnalyzer()"
      ],
      "metadata": {
        "id": "56dj8TTfLZRI"
      },
      "execution_count": null,
      "outputs": []
    },
    {
      "cell_type": "code",
      "source": [
        "import re"
      ],
      "metadata": {
        "id": "g55WGgnLUgFE"
      },
      "execution_count": null,
      "outputs": []
    },
    {
      "cell_type": "code",
      "source": [
        "import pandas as pd              # Пакет для работы с таблицами\n",
        "import numpy as np               # Пакет для работы с векторами и матрицами\n",
        "import matplotlib.pyplot as plt  # Пакет для строительства графиков\n",
        "import seaborn as sns            # Еще один пакет для графиков\n",
        "import pickle                    # Пакет для подгрузки данных специфического для питона формата\n",
        "\n",
        "#from dateutil.relativedelta import relativedelta # еще один пакет для работы с временем\n",
        "from wordcloud import WordCloud  # Пакет для построения облаков слов\n",
        "\n",
        "plt.style.use('ggplot')          # задаём красивый стиль для графиков matplotlib-а\n",
        "%matplotlib inline"
      ],
      "metadata": {
        "id": "XbWJXj9Lep1C"
      },
      "execution_count": null,
      "outputs": []
    },
    {
      "cell_type": "code",
      "source": [
        "import pyLDAvis\n",
        "import pyLDAvis.gensim_models as gensimvis"
      ],
      "metadata": {
        "id": "_dn123JEbQWM"
      },
      "execution_count": null,
      "outputs": []
    },
    {
      "cell_type": "code",
      "source": [
        "from sklearn.feature_extraction.text import TfidfVectorizer\n",
        "from sklearn.decomposition import NMF, LatentDirichletAllocation\n",
        "import os\n",
        "import requests\n",
        "from pathlib import Path\n",
        "import nltk\n",
        "from nltk import sent_tokenize, word_tokenize, regexp_tokenize\n",
        "from collections import Counter\n",
        "from nltk.corpus import stopwords as nltk_stopwords\n",
        "from nltk.tokenize import word_tokenize \n",
        "from nltk import download as nltk_download "
      ],
      "metadata": {
        "id": "9HAAUoSDfcuB"
      },
      "execution_count": null,
      "outputs": []
    },
    {
      "cell_type": "markdown",
      "source": [
        "### Функции"
      ],
      "metadata": {
        "id": "Si2Mz72rNQc4"
      }
    },
    {
      "cell_type": "code",
      "source": [
        "def embed_bert_cls(text, model, tokenizer):\n",
        "#    t = tokenizer(text, padding=True, truncation=True, return_tensors='pt')\n",
        "    t = tokenizer(text, padding=True, truncation=False, return_tensors='pt')\n",
        "\n",
        "    with torch.no_grad():\n",
        "        model_output = model(**{k: v.to(model.device) for k, v in t.items()})\n",
        "    embeddings = model_output.last_hidden_state[:, 0, :]\n",
        "    embeddings = torch.nn.functional.normalize(embeddings)\n",
        "    return embeddings[0].cpu().numpy()"
      ],
      "metadata": {
        "id": "3rLWNOiz-vI2"
      },
      "execution_count": null,
      "outputs": []
    },
    {
      "cell_type": "code",
      "source": [
        "def similarity(v1, v2):\n",
        "    n1 = np.linalg.norm(v1)\n",
        "    n2 = np.linalg.norm(v2)\n",
        "\n",
        "    if n1 < 1e-6 or n2 < 1e-6:\n",
        "        return 0.0\n",
        "    else:\n",
        "        return np.dot(v1, v2) / n1 / n2\n",
        "\n",
        "def word_similarity(model, w1, w2):\n",
        "    return similarity(model.get_word_vector(w1), model.get_word_vector(w2))\n",
        "\n",
        "def sentence_similarity(model, t1, t2):\n",
        "    return similarity(model.get_sentence_vector(t1), model.get_sentence_vector(t2))"
      ],
      "metadata": {
        "id": "QnWY9_D596l_"
      },
      "execution_count": null,
      "outputs": []
    },
    {
      "cell_type": "code",
      "source": [
        "def display_topics_old(model, feature_names, no_top_words):\n",
        "    for topic_idx, topic in enumerate(model.components_):\n",
        "      print(\"Topic %d:\" % (topic_idx))\n",
        "      print(\" \".join([feature_names[i] for i in topic.argsort()[:-no_top_words - 1:-1]]))"
      ],
      "metadata": {
        "id": "In2hko1EubfB"
      },
      "execution_count": null,
      "outputs": []
    },
    {
      "cell_type": "code",
      "source": [
        "def display_topics(model, feature_names, no_top_words):\n",
        "    topic_list=[]\n",
        "    topic_list_2=[]   \n",
        "    no_top_words=1000  \n",
        "    for topic_idx, topics in enumerate(model.components_):\n",
        "      sort_topix=topics.argsort()[:-no_top_words - 1:-1]\n",
        "      to_idx=[topic_idx]    \n",
        "      top_list=[]\n",
        "      print(\"Topic %d:\" % (topic_idx))\n",
        "      line=[]       \n",
        "      for i in sort_topix:\n",
        "        top_list=[]       \n",
        "        top_list.append(topic_idx)\n",
        "        top_list.append(feature_names[i])\n",
        "        top_list.append(topics[i])\n",
        "        topic_list.append(top_list)\n",
        "        line.append(feature_names[i])        \n",
        "     # to_idx.append(topic_list)\n",
        "      print(line[:10])           \n",
        "  #  topic_list_2.append(to_idx)                     \n",
        "#        print(\" \".join([feature_names[i] for i in topic.argsort()[:-no_top_words - 1:-1]]))\n",
        "    return pd.DataFrame(topic_list,columns=['topic','topic_word','topic_val'])#,topic_list_2"
      ],
      "metadata": {
        "id": "dbAK1MWpOBf7"
      },
      "execution_count": null,
      "outputs": []
    },
    {
      "cell_type": "code",
      "source": [
        "# облако слов топиков для модели gensim\n",
        "def plotWordCloud(topic_number,topics,head):\n",
        "    \"\"\"\n",
        "        Строит визуализацию слов на основе текстов топиков из Gensim\n",
        "    \"\"\"\n",
        "    # получаем частоты и слова топика    \n",
        "    text = dict(topics[topic_number][1])\n",
        "    #print(head+str(topic_number))    \n",
        "    # строим облако слов\n",
        "    wordcloud = WordCloud(background_color=\"white\", max_words=100, width=900, height=900, collocations=False)\n",
        "    wordcloud = wordcloud.generate_from_frequencies(text)\n",
        "#    wordcloud.generate(long_string)\n",
        "    plt.figure(figsize=(15, 10))\n",
        "    plt.title((head+\" номер {}\").format(topic_number))\n",
        "    plt.imshow(wordcloud, interpolation='bilinear')\n",
        "    plt.axis(\"off\");"
      ],
      "metadata": {
        "id": "QaQEa2tMcpVN"
      },
      "execution_count": null,
      "outputs": []
    },
    {
      "cell_type": "code",
      "source": [
        "# облако слов топиков для модели sklearn\n",
        "def plotWordCloud_2(topic_number,topics):\n",
        "    \"\"\"\n",
        "        Строит визуализацию слов на основе текстов топиков из Sklearn\n",
        "    \"\"\"\n",
        "    # получаем частоты и слова топика\n",
        "    \n",
        "#    text = dict(topics[topic_number][1])\n",
        "    topic=topic_number\n",
        "    words=topics[topics['topic']==topic]['topic_word'].values.astype('U')\n",
        "    long_string =','.join(words)\n",
        "    # строим облако слов\n",
        "    wordcloud = WordCloud(background_color=\"white\", max_words=100, width=900, height=900, collocations=False)\n",
        "  #  wordcloud = wordcloud.generate_from_frequencies(long_string)\n",
        "    wordcloud.generate(long_string)\n",
        "    plt.figure(figsize=(15, 10))\n",
        "    plt.title(\"Топик номер {}\".format(topic_number))\n",
        "    plt.imshow(wordcloud, interpolation='bilinear')\n",
        "    plt.axis(\"off\");"
      ],
      "metadata": {
        "id": "kUE7EKvwpqp6"
      },
      "execution_count": null,
      "outputs": []
    },
    {
      "cell_type": "code",
      "source": [
        "nltk_download(\"punkt\")\n",
        "!wget https://raw.githubusercontent.com/dhhse/dh2020/master/data/stop_ru.txt\n",
        "with open (\"stop_ru.txt\", \"r\") as stop_ru:\n",
        "    rus_stops = [word.strip() for word in stop_ru.readlines()]\n",
        "punctuation = '!\\\"#$%&\\'()*+,-./:;<=>?@[\\]^_`{|}~—»«...–'    \n",
        "filter_token = rus_stops + list (punctuation)\n",
        "from pymorphy2 import MorphAnalyzer\n",
        "parser = MorphAnalyzer()\n",
        "\n",
        "def preprocess_sklearn(input_text):\n",
        "    text = input_text.lower()\n",
        "    tokenized_text = word_tokenize(text)\n",
        "    clean_text = [word for word in tokenized_text if word not in filter_token]\n",
        "    lemmatized_text = [parser.parse(word)[0].normal_form for word in clean_text]\n",
        "    out_text = \" \".join(lemmatized_text)    \n",
        "    return out_text\n",
        "\n",
        "def preprocess_gemsim(input_text):\n",
        "    text = input_text.lower()\n",
        "    tokenized_text = word_tokenize(text)\n",
        "    clean_text = [word for word in tokenized_text if word not in filter_token]\n",
        "    lemmatized_text = [parser.parse(word)[0].normal_form for word in clean_text]    \n",
        "    return lemmatized_text"
      ],
      "metadata": {
        "id": "aXkNaCEeLkxJ"
      },
      "execution_count": null,
      "outputs": []
    },
    {
      "cell_type": "code",
      "source": [
        "def get_topic(words, lda):\n",
        "    \"\"\"\n",
        "    \"\"\"\n",
        "    bag = lda.id2word.doc2bow(words)\n",
        "    topics = lda.get_document_topics(bag)\n",
        "    topic_dictionary = {}\n",
        "    for topic in topics:\n",
        "        topic_dictionary[topic[1]] = str((topic[0])) \n",
        "    main_probability = max(topic_dictionary)\n",
        "    main_topic = topic_dictionary[main_probability]\n",
        "    return [main_topic, main_probability]"
      ],
      "metadata": {
        "id": "rNl_eIuNmTLY"
      },
      "execution_count": null,
      "outputs": []
    },
    {
      "cell_type": "code",
      "source": [
        "def lda_model_gensim(corpus,dictionary,num_topics):\n",
        "  ldamodel = models.ldamodel.LdaModel(\n",
        "    corpus, \n",
        "    id2word=dictionary, \n",
        "    eval_every=20, \n",
        "    num_topics=num_topics, \n",
        "    passes=5\n",
        "    )\n",
        "  return ldamodel"
      ],
      "metadata": {
        "id": "cO80-MELwn1f"
      },
      "execution_count": null,
      "outputs": []
    },
    {
      "cell_type": "code",
      "source": [
        "def topic_file(topics_gensim_np,file_name):\n",
        "  list_topic=[]\n",
        "  for ind_topiс,topiс in enumerate(topics_gensim_np):\n",
        "    list_word=topiс[1]\n",
        "    for words in list_word:\n",
        "      topic_word=[]\n",
        "      topic_word.append(ind_topiс)\n",
        "      topic_word.append(words[0])\n",
        "      topic_word.append(words[1])\n",
        "      list_topic.append(topic_word)\n",
        "  topic_gensim=pd.DataFrame(list_topic,columns=['topic','word_in topic','weght_topic'])\n",
        "  topic_gensim.to_csv(file_name+'.csv',index=False)\n",
        "  return topic_gensim"
      ],
      "metadata": {
        "id": "ueajAE7PdY5A"
      },
      "execution_count": null,
      "outputs": []
    },
    {
      "cell_type": "code",
      "source": [
        "def topics_max(mod_data,model):\n",
        "  top_n=[]\n",
        "  for i in range(mod_data.shape[0]):\n",
        "#for i in range(100):\n",
        "    top_max=[]\n",
        "    topic_list=model.transform(tfidf[i,:])\n",
        "    top_max.append(np.max(topic_list))\n",
        "    top_max.append(np.argmax(topic_list))  \n",
        "    top_n.append(top_max)\n",
        "  return np.array(top_n)"
      ],
      "metadata": {
        "id": "sRNG33HYdJa8"
      },
      "execution_count": null,
      "outputs": []
    },
    {
      "cell_type": "code",
      "source": [
        "#nltk.download(\"stopwords\") # поддерживает удаление стоп-слов\n",
        "#nltk.download('wordnet') # проводит лемматизацию"
      ],
      "metadata": {
        "id": "T9Ue78VKRa0P"
      },
      "execution_count": null,
      "outputs": []
    },
    {
      "cell_type": "code",
      "source": [
        "def make_bigrams(texts):\n",
        "    return [bigram_mod[doc] for doc in texts]"
      ],
      "metadata": {
        "id": "1BEPJEbnSdKr"
      },
      "execution_count": null,
      "outputs": []
    },
    {
      "cell_type": "code",
      "source": [
        "def topics_max(mod_data,model):\n",
        "  top_n=[]\n",
        "  for i in range(mod_data.shape[0]):\n",
        "#for i in range(100):\n",
        "    top_max=[]\n",
        "    topic_list=model.transform(tfidf[i,:])\n",
        "    top_max.append(np.max(topic_list))\n",
        "    top_max.append(np.argmax(topic_list))  \n",
        "    top_n.append(top_max)\n",
        "  return np.array(top_n)"
      ],
      "metadata": {
        "id": "kAk3Lfr43oYp"
      },
      "execution_count": null,
      "outputs": []
    },
    {
      "cell_type": "code",
      "source": [
        "import plotly.express as px"
      ],
      "metadata": {
        "id": "si0UG6avGpPn"
      },
      "execution_count": null,
      "outputs": []
    },
    {
      "cell_type": "markdown",
      "source": [
        "## Импорт данных"
      ],
      "metadata": {
        "id": "ZYyr1BeGIt5n"
      }
    },
    {
      "cell_type": "code",
      "execution_count": null,
      "metadata": {
        "id": "LUOU1I2rYuTA"
      },
      "outputs": [],
      "source": [
        "with open(\"/content/anek_utf8.txt\", \"r\") as file1:\n",
        "    # итерация по строкам\n",
        "  n=0\n",
        "  lines=[]\n",
        "  for line in file1:\n",
        "    if line>\" \":\n",
        "      lines.append(line[:-2])\n",
        "      n=n+1\n",
        "#  print(n)\n",
        "  line_new=[]\n",
        "for n in range(len(lines)-1):\n",
        "  if lines[n][:15]=='<|startoftext|>':\n",
        "    if lines[n+1][:15]!='<|startoftext|>':\n",
        "      line_new.append(lines[n][15:]+' '+lines[n+1][15:])\n",
        "    else:\n",
        "      line_new.append(lines[n][15:])  \n",
        "ds_line=pd.DataFrame(line_new,columns=['text_base'])              "
      ]
    },
    {
      "cell_type": "code",
      "source": [
        "ds_line.head()"
      ],
      "metadata": {
        "id": "UyUjMtl26Oro"
      },
      "execution_count": null,
      "outputs": []
    },
    {
      "cell_type": "markdown",
      "source": [
        "### Обрабока текста"
      ],
      "metadata": {
        "id": "TOHc59z4KVho"
      }
    },
    {
      "cell_type": "markdown",
      "source": [
        "Проведем токенизацию и лемматизацию текста с помощью библиотеки pymorphy2. С помощью нее можно приводить слова в начальную форму. Получим данные для формирования \"мешка слов\"."
      ],
      "metadata": {
        "id": "PZswngus5blf"
      }
    },
    {
      "cell_type": "code",
      "source": [
        "ds_line[\"text_processed_new\"] = ds_line[\"text_base\"].apply(lambda text: preprocess_sklearn(text))\n",
        "ds_line[\"text_processed\"] = ds_line[\"text_base\"].apply(lambda text: preprocess_gensim(text))"
      ],
      "metadata": {
        "id": "anV4VrVLRj_5"
      },
      "execution_count": null,
      "outputs": []
    },
    {
      "cell_type": "code",
      "source": [
        "ds_line.head()"
      ],
      "metadata": {
        "id": "rPua_ukTh0yV"
      },
      "execution_count": null,
      "outputs": []
    },
    {
      "cell_type": "markdown",
      "source": [
        "Сохраним данные для дальнейшей работы"
      ],
      "metadata": {
        "id": "HPnw1iFiAIwW"
      }
    },
    {
      "cell_type": "code",
      "source": [
        "ds_line['text_base'].to_csv('anekdot_texts.csv',index=False, index_label=False)\n",
        "ds_line.to_csv('anekdot_pr.csv',index=False, index_label=False)"
      ],
      "metadata": {
        "id": "gpqTzmw3Y_mb"
      },
      "execution_count": null,
      "outputs": []
    },
    {
      "cell_type": "markdown",
      "source": [
        "## Использование предобработанных данных для мешка слов (BOW)"
      ],
      "metadata": {
        "id": "xJ5UfoOp4JuW"
      }
    },
    {
      "cell_type": "code",
      "source": [
        "import gensim\n",
        "from gensim import corpora, models\n",
        "from ast import literal_eval\n",
        "ds_line = pd.read_csv('anekdot_pr.csv',converters={\"text_processed\": literal_eval})"
      ],
      "metadata": {
        "id": "_P7ebNq9Ln2Z"
      },
      "execution_count": null,
      "outputs": []
    },
    {
      "cell_type": "markdown",
      "source": [
        "### Словарь непосредствено из (bag of words) BOW"
      ],
      "metadata": {
        "id": "Ds9TBEDyYj2G"
      }
    },
    {
      "cell_type": "code",
      "source": [
        "dictionary = gensim.corpora.Dictionary(ds_line[\"text_processed\"].values) # составляем словарь из терминов             \n",
        "print('Размер словаря до фильтрации: {}'.format(len(dictionary)))\n",
        "#gensim_dictionary.filter_extremes(no_above=0.1, no_below=20)\n",
        "dictionary.filter_extremes(no_below=3, no_above=0.4, keep_n=3*10**6) # практически не фильтрует\n",
        "#dictionary.filter_extremes(no_above=0.1, no_below=20)\n",
        "\n",
        "dictionary.compactify()\n",
        "print('Размер словаря после фильтрации: {}'.format(len(dictionary)))\n",
        "print(dictionary)"
      ],
      "metadata": {
        "colab": {
          "base_uri": "https://localhost:8080/"
        },
        "id": "OFkOMf6W8Ic1",
        "outputId": "d7412d8f-f48d-46cf-c30a-3134bc49e8f8"
      },
      "execution_count": null,
      "outputs": [
        {
          "output_type": "stream",
          "name": "stdout",
          "text": [
            "Размер словаря до фильтрации: 70843\n",
            "Размер словаря после фильтрации: 25807\n",
            "Dictionary(25807 unique tokens: ['актуальный', 'бог', 'вопрос', 'дефицит', 'дзюба']...)\n"
          ]
        }
      ]
    },
    {
      "cell_type": "markdown",
      "source": [
        "### Создаем корпус"
      ],
      "metadata": {
        "id": "77rbGkB98hGl"
      }
    },
    {
      "cell_type": "code",
      "source": [
        "corpus = [dictionary.doc2bow(text) for text in ds_line['text_processed']]"
      ],
      "metadata": {
        "id": "V_-NRLpe8fx0"
      },
      "execution_count": null,
      "outputs": []
    },
    {
      "cell_type": "markdown",
      "source": [
        "## Получение словаря и корпуса на основании биграмм"
      ],
      "metadata": {
        "id": "vQ32u5pEBuyZ"
      }
    },
    {
      "cell_type": "code",
      "source": [
        "# Build the bigram  models\n",
        "texts=(ds_line[\"text_processed\"])\n",
        "bigram = models.Phrases(texts, min_count=3, threshold=5)\n",
        "bigram_mod = models.phrases.Phraser(bigram)\n",
        "texts_bi = make_bigrams(texts)\n",
        "dictionary_bi = corpora.Dictionary(texts_bi)                 # составляем словарь из терминов с учетом биграмм слов предлжений\n",
        "print('Размер словаря до фильтрации: {}'.format(len(dictionary_bi)))\n",
        "dictionary_bi.filter_extremes(no_below=3, no_above=0.4, keep_n=3*10**6)\n",
        "print('Размер словаря после фильтрации: {}'.format(len(dictionary_bi)))\n",
        "corpus_bi = [dictionary_bi.doc2bow(text) for text in texts_bi]  # составляем корпус документов по словарю полученному с использованием биграмм"
      ],
      "metadata": {
        "colab": {
          "base_uri": "https://localhost:8080/"
        },
        "id": "iqsmMx0NyOBV",
        "outputId": "ca4788e2-4f3f-4d72-ad30-e123c188b7e0"
      },
      "execution_count": null,
      "outputs": [
        {
          "output_type": "stream",
          "name": "stdout",
          "text": [
            "Размер словаря до фильтрации: 83999\n",
            "Размер словаря после фильтрации: 37984\n"
          ]
        }
      ]
    },
    {
      "cell_type": "markdown",
      "source": [
        "### Пример токенов из полученых словарей"
      ],
      "metadata": {
        "id": "WynVxkqFozrm"
      }
    },
    {
      "cell_type": "code",
      "source": [
        "print(dictionary_bi)\n",
        "print(dictionary)"
      ],
      "metadata": {
        "id": "ly0X7iTbWRoS"
      },
      "execution_count": null,
      "outputs": []
    },
    {
      "cell_type": "markdown",
      "source": [
        "## Формирование тем, на основании модели Latent Dirichlet allocation (LDA) из Gensim"
      ],
      "metadata": {
        "id": "J0FX9_-uZKUU"
      }
    },
    {
      "cell_type": "markdown",
      "source": [
        "количество топиков пока произвольно 20, вопрос числа топиков открытый. "
      ],
      "metadata": {
        "id": "p5sUcGEjpuaQ"
      }
    },
    {
      "cell_type": "code",
      "source": [
        "number_topics=20 "
      ],
      "metadata": {
        "id": "5_qw7fdNprQh"
      },
      "execution_count": null,
      "outputs": []
    },
    {
      "cell_type": "code",
      "source": [
        "ldamodel_base=lda_model_gensim(corpus,dictionary,number_topics)\n",
        "ldamodel_base.save('lda_20_base')\n",
        "ldamodel_bi=lda_model_gensim(corpus_bi,dictionary_bi,number_topics)\n",
        "ldamodel_bi.save('lda_20_bi')"
      ],
      "metadata": {
        "id": "-SAakhehN2GD"
      },
      "execution_count": null,
      "outputs": []
    },
    {
      "cell_type": "markdown",
      "source": [
        "### Получение сохранение топиков, для дальнейшей визуализации"
      ],
      "metadata": {
        "id": "sGEiyqmJcSzs"
      }
    },
    {
      "cell_type": "code",
      "source": [
        "topics_gensim_base = ldamodel_base.show_topics(num_topics=number_topics, num_words=100,formatted=False)\n",
        "topics_gensim_bi = ldamodel_bi.show_topics(num_topics=number_topics, num_words=100,formatted=False)\n",
        "with open('topics_base_cloud', 'wb') as f:\n",
        "    pickle.dump(topics_gensim_base, f)\n",
        "with open('topics_bi_cloud', 'wb') as f:\n",
        "    pickle.dump(topics_gensim_bi, f)\n",
        "\n",
        "topics_base=pd.DataFrame(topics_gensim_base)\n",
        "topics_base.columns=['topic num','topic_word']\n",
        "topics_bi=pd.DataFrame(topics_gensim_bi)\n",
        "topics_bi.columns=['topic num','topic_word']"
      ],
      "metadata": {
        "id": "wvAgOfRvWF2z"
      },
      "execution_count": null,
      "outputs": []
    },
    {
      "cell_type": "code",
      "source": [
        "#topics_base.to_csv('topic_gensim_base.csv',index=False)\n",
        "#topics_bi.to_csv('topic_gensim_bi.csv',index=False)"
      ],
      "metadata": {
        "id": "8CQ6-6gkOs4T"
      },
      "execution_count": null,
      "outputs": []
    },
    {
      "cell_type": "markdown",
      "source": [
        "## Визуализация"
      ],
      "metadata": {
        "id": "cnizGEsrbLWQ"
      }
    },
    {
      "cell_type": "markdown",
      "source": [
        "В библиотеке gensim есть встроенная интерактивная визаулизация расстояния между темами.\n",
        "Применим ее для обеих моделей"
      ],
      "metadata": {
        "id": "qp8X6rJ8-MSQ"
      }
    },
    {
      "cell_type": "code",
      "source": [
        "vis_base = gensimvis.prepare(ldamodel_base, corpus, dictionary)"
      ],
      "metadata": {
        "id": "kP-iZRCAnJX_"
      },
      "execution_count": null,
      "outputs": []
    },
    {
      "cell_type": "code",
      "source": [
        "vis_bi = gensimvis.prepare(ldamodel_bi, corpus_bi, dictionary_bi)"
      ],
      "metadata": {
        "id": "YhPYBykX03ZN"
      },
      "execution_count": null,
      "outputs": []
    },
    {
      "cell_type": "code",
      "source": [
        "pyLDAvis.enable_notebook()"
      ],
      "metadata": {
        "id": "Nu4_9b5r-Rex"
      },
      "execution_count": null,
      "outputs": []
    },
    {
      "cell_type": "code",
      "source": [
        "vis_base"
      ],
      "metadata": {
        "id": "5g8BGlw11Hs9"
      },
      "execution_count": null,
      "outputs": []
    },
    {
      "cell_type": "code",
      "source": [
        "vis_bi"
      ],
      "metadata": {
        "colab": {
          "base_uri": "https://localhost:8080/",
          "height": 862
        },
        "id": "j5bFbZyv-UOi",
        "outputId": "307ac65e-1250-4226-8e97-70f4ddfd2020"
      },
      "execution_count": null,
      "outputs": [
        {
          "output_type": "execute_result",
          "data": {
            "text/plain": [
              "PreparedData(topic_coordinates=              x         y  topics  cluster      Freq\n",
              "topic                                               \n",
              "7      0.196563  0.066397       1        1  8.173471\n",
              "5      0.177412 -0.063959       2        1  6.367893\n",
              "10    -0.170029  0.329922       3        1  6.272427\n",
              "16     0.123890  0.021254       4        1  6.034704\n",
              "11     0.144613  0.023943       5        1  5.152347\n",
              "19     0.134491  0.056501       6        1  4.974916\n",
              "6      0.059737 -0.021964       7        1  4.766146\n",
              "14     0.053475  0.028162       8        1  4.662136\n",
              "18     0.024300  0.010867       9        1  4.607687\n",
              "8      0.040930 -0.013847      10        1  4.564252\n",
              "1      0.061022 -0.152231      11        1  4.557942\n",
              "13    -0.014604 -0.068855      12        1  4.550547\n",
              "4     -0.133300 -0.152846      13        1  4.513166\n",
              "0     -0.032999  0.135781      14        1  4.492763\n",
              "17    -0.158618 -0.078000      15        1  4.456513\n",
              "3     -0.104840  0.027386      16        1  4.446377\n",
              "15    -0.089683 -0.101210      17        1  4.441501\n",
              "12    -0.113249 -0.000267      18        1  4.394881\n",
              "9     -0.183099 -0.082801      19        1  4.315318\n",
              "2     -0.016009  0.035767      20        1  4.255014, topic_info=           Term          Freq         Total Category  logprob  loglift\n",
              "23           ''  14209.000000  14209.000000  Default  30.0000  30.0000\n",
              "24           ``  11179.000000  11179.000000  Default  29.0000  29.0000\n",
              "321        жена   6371.000000   6371.000000  Default  28.0000  28.0000\n",
              "27      женщина   4895.000000   4895.000000  Default  27.0000  27.0000\n",
              "193     девушка   3919.000000   3919.000000  Default  26.0000  26.0000\n",
              "...         ...           ...           ...      ...      ...      ...\n",
              "1776  согласный    191.833943    192.717569  Topic20  -5.4539   3.1525\n",
              "243          ..    771.766068  15067.285762  Topic20  -4.0619   0.1855\n",
              "74          ...    354.912702  11924.610024  Topic20  -4.8387  -0.3574\n",
              "48         один    243.178435   3001.333035  Topic20  -5.2167   0.6441\n",
              "125       место    199.340633    811.857468  Topic20  -5.4155   1.7528\n",
              "\n",
              "[860 rows x 6 columns], token_table=      Topic      Freq      Term\n",
              "term                           \n",
              "23        3  0.999906        ''\n",
              "2443     20  0.997358     ''_.-\n",
              "243       1  0.126632        ..\n",
              "243       2  0.110969        ..\n",
              "243       3  0.007765        ..\n",
              "...     ...       ...       ...\n",
              "1080      7  0.996235   экзамен\n",
              "1843      7  0.994194        эх\n",
              "3910      9  0.994109  являться\n",
              "1056      9  0.996710      язык\n",
              "1641      8  0.997257      яйцо\n",
              "\n",
              "[1320 rows x 3 columns], R=30, lambda_step=0.01, plot_opts={'xlab': 'PC1', 'ylab': 'PC2'}, topic_order=[8, 6, 11, 17, 12, 20, 7, 15, 19, 9, 2, 14, 5, 1, 18, 4, 16, 13, 10, 3])"
            ],
            "text/html": [
              "\n",
              "<link rel=\"stylesheet\" type=\"text/css\" href=\"https://cdn.jsdelivr.net/gh/bmabey/pyLDAvis@3.4.0/pyLDAvis/js/ldavis.v1.0.0.css\">\n",
              "\n",
              "\n",
              "<div id=\"ldavis_el3741398542895274085161847390\" style=\"background-color:white;\"></div>\n",
              "<script type=\"text/javascript\">\n",
              "\n",
              "var ldavis_el3741398542895274085161847390_data = {\"mdsDat\": {\"x\": [0.1965627147190753, 0.17741155680447382, -0.17002904807240865, 0.12389001278894551, 0.14461275726224035, 0.13449127416380005, 0.05973660734362682, 0.053474949806934895, 0.024299632960670482, 0.040929648823798154, 0.06102178302528253, -0.014604435868970353, -0.13329972973267357, -0.03299876216217112, -0.15861828847326814, -0.10484006901462838, -0.08968275142060678, -0.11324949718994815, -0.18309891508293116, -0.01600944068124181], \"y\": [0.0663973093423179, -0.06395891202159246, 0.3299215362921939, 0.021253787674595678, 0.023943359618914587, 0.05650143995026036, -0.02196360300488196, 0.028161773044257363, 0.010866862960698859, -0.013847021281714417, -0.1522310802114836, -0.06885512860150846, -0.15284643090015895, 0.13578121114706299, -0.07800020461263527, 0.02738607389970578, -0.10120998066599934, -0.00026731323945534925, -0.08280075876328886, 0.035767079372709974], \"topics\": [1, 2, 3, 4, 5, 6, 7, 8, 9, 10, 11, 12, 13, 14, 15, 16, 17, 18, 19, 20], \"cluster\": [1, 1, 1, 1, 1, 1, 1, 1, 1, 1, 1, 1, 1, 1, 1, 1, 1, 1, 1, 1], \"Freq\": [8.173471170351808, 6.3678926319708005, 6.2724270937896955, 6.03470384389439, 5.15234663306761, 4.974915672399176, 4.766145537145051, 4.662135794740483, 4.607687125179031, 4.564252187989624, 4.5579416350552595, 4.550547488029922, 4.513165688449732, 4.492762655407199, 4.456513491305798, 4.4463774443537565, 4.441501207328851, 4.3948808711788345, 4.315317816930672, 4.25501401143231]}, \"tinfo\": {\"Term\": [\"''\", \"``\", \"\\u0436\\u0435\\u043d\\u0430\", \"\\u0436\\u0435\\u043d\\u0449\\u0438\\u043d\\u0430\", \"\\u0434\\u0435\\u0432\\u0443\\u0448\\u043a\\u0430\", \"\\u043c\\u0443\\u0436\\u0447\\u0438\\u043d\\u0430\", \"\\u043c\\u0443\\u0436\", \"\\u043b\\u044e\\u0431\\u0438\\u0442\\u044c\", \"\\u043f\\u0430\\u043f\\u0430\", \"\\u043c\\u0443\\u0436\\u0438\\u043a\", \"...\", \"\\u043c\\u0430\\u043c\\u0430\", \"\\u0445\\u043e\\u0440\\u043e\\u0448\\u0438\\u0439\", \"\\u0434\\u0440\\u0443\\u0433\", \"\\u0440\\u0430\\u0431\\u043e\\u0442\\u0430\\u0442\\u044c\", \"\\u0434\\u0435\\u043d\\u044c\\u0433\\u0430\", \"\\u0440\\u0435\\u0431\\u0451\\u043d\\u043e\\u043a\", \"\\u043f\\u0438\\u0442\\u044c\", \"\\u0434\\u043e\\u043a\\u0442\\u043e\\u0440\", \"\\u043c\\u0430\\u0448\\u0438\\u043d\\u0430\", \"\\u043f\\u043e\\u0441\\u043c\\u043e\\u0442\\u0440\\u0435\\u0442\\u044c\", \"\\u043f\\u0430\\u0440\\u0435\\u043d\\u044c\", \"\\u043c\\u043e\\u043b\\u043e\\u0434\\u043e\\u0439\", \"\\u0441\\u043e\\u0431\\u0430\\u043a\\u0430\", \"\\u0441\\u043f\\u0430\\u0442\\u044c\", \"\\u0432\\u043e\\u0434\\u043a\\u0430\", \"\\u0440\\u0443\\u0441\\u0441\\u043a\\u0438\\u0439\", \"\\u0435\\u0432\\u0440\\u0435\\u0439\", \"\\u0442\\u0432\\u043e\\u0439\", \"\\u043f\\u0440\\u0438\\u0445\\u043e\\u0434\\u0438\\u0442\\u044c\", \"\\u043c\\u0443\\u0436\", \"\\u043f\\u0440\\u0438\\u0445\\u043e\\u0434\\u0438\\u0442\\u044c\", \"\\u0441\\u044b\\u043d\", \"\\u043d\\u043e\\u0447\\u044c\", \"\\u043e\\u0442\\u0435\\u0446\", \"\\u043c\\u0430\\u043b\\u044c\\u0447\\u0438\\u043a\", \"\\u0434\\u043e\\u043c\\u043e\\u0439\", \"\\u0443\\u0439\\u0442\\u0438\", \"\\u0437\\u0430\\u0431\\u044b\\u0442\\u044c\", \"\\u043c\\u0443\\u0436_\\u0436\\u0435\\u043d\\u0430\", \"\\u0432\\u043c\\u0435\\u0441\\u0442\\u0435\", \"\\u0441\\u0442\\u043e\\u0440\\u043e\\u043d\\u0430\", \"\\u043f\\u043e\\u043f\\u0440\\u043e\\u0431\\u043e\\u0432\\u0430\\u0442\\u044c\", \"\\u0432\\u0435\\u0440\\u043d\\u0443\\u0442\\u044c\\u0441\\u044f\", \"\\u0437\\u0430\\u043d\\u0438\\u043c\\u0430\\u0442\\u044c\\u0441\\u044f\", \"\\u0443\\u0445\\u043e\\u0434\\u0438\\u0442\\u044c\", \"\\u0436\\u0430\\u043b\\u043e\\u0432\\u0430\\u0442\\u044c\\u0441\\u044f\", \"\\u043f\\u0440\\u0430\\u0437\\u0434\\u043d\\u0438\\u043a\", \"\\u0433\\u043e\\u0442\\u043e\\u0432\\u0438\\u0442\\u044c\", \"\\u0432\\u044b\\u0431\\u0438\\u0440\\u0430\\u0442\\u044c\", \"\\u0441\\u043b\\u0443\\u0447\\u0430\\u0439\\u043d\\u043e\", \"\\u043c\\u0435\\u0448\\u0430\\u0442\\u044c\", \"\\u043f\\u0440\\u043e\\u0432\\u043e\\u0434\\u0438\\u0442\\u044c\", \"\\u0434\\u0435\\u0442\\u0441\\u043a\\u0438\\u0439\", \"\\u0433\\u0443\\u043b\\u044f\\u0442\\u044c\", \"\\u0432\\u0441\\u0442\\u0440\\u0435\\u0447\\u0430\\u0442\\u044c\", \"\\u043e\\u0431\\u043d\\u0430\\u0440\\u0443\\u0436\\u0438\\u0442\\u044c\", \"\\u043e\\u0442\\u0434\\u044b\\u0445\\u0430\\u0442\\u044c\", \"\\u0441\\u043f\\u0430\\u0441\\u0442\\u0438\", \"\\u0443\\u0447\\u0438\\u0442\\u0435\\u043b\\u044c\", \"\\u0436\\u0435\\u043d\\u0430\", \"\\u043c\\u0430\\u043c\\u0430\", \"\\u0431\\u0430\\u0431\\u0430\", \"\\u0432\\u043e\\u0432\\u043e\\u0447\\u043a\\u0430\", \"\\u0440\\u0435\\u0431\\u0451\\u043d\\u043e\\u043a\", \"\\u0443\\u0442\\u0440\\u043e\", \"\\u0434\\u043e\\u043c\", \"\\u0441\\u043b\\u0443\\u0448\\u0430\\u0442\\u044c\", \"...\", \"\\u0441\\u043f\\u0440\\u0430\\u0448\\u0438\\u0432\\u0430\\u0442\\u044c\", \"\\u0432\\u0440\\u0430\\u0447\", \"\\u0434\\u043e\\u0440\\u043e\\u0433\\u0430\", \"\\u0437\\u043d\\u0430\\u0442\\u044c\", \"..\", \"\\u043c\\u043e\\u0439\", \"\\u0440\\u0430\\u0431\\u043e\\u0442\\u0430\", \"\\u043f\\u0440\\u0438\\u0439\\u0442\\u0438\", \"\\u0445\\u043e\\u0442\\u0435\\u0442\\u044c\", \"\\u0432\\u0437\\u044f\\u0442\\u044c\", \"\\u0434\\u0435\\u043b\\u0430\\u0442\\u044c\", \"\\u0432\\u0438\\u0434\\u0435\\u0442\\u044c\", \"\\u0432\\u0447\\u0435\\u0440\\u0430\", \"\\u0434\\u0443\\u043c\\u0430\\u0442\\u044c\", \"\\u0436\\u0435\\u043d\\u0449\\u0438\\u043d\\u0430\", \"\\u043c\\u0443\\u0436\\u0447\\u0438\\u043d\\u0430\", \"\\u043c\\u0438\\u043b\\u044b\\u0439\", \"\\u043a\\u0440\\u0430\\u0441\\u0438\\u0432\\u044b\\u0439\", \"\\u043d\\u0435\\u0442.-\", \"\\u0436\\u0435\\u043d\\u0441\\u043a\\u0438\\u0439\", \"\\u043f\\u0443\\u0441\\u0442\\u044c\", \"\\u0441\\u0442\\u043e\\u044f\\u0442\\u044c\", \"\\u0430\\u0431\\u0440\\u0430\\u043c\", \"\\u043f\\u0440\\u0435\\u0437\\u0435\\u0440\\u0432\\u0430\\u0442\\u0438\\u0432\", \"\\u0430\\u043c\\u0435\\u0440\\u0438\\u043a\\u0430\\u043d\\u0441\\u043a\\u0438\\u0439\", \"\\u043f\\u043e\\u0434\\u0430\\u0440\\u043e\\u043a\", \"\\u043f\\u0440\\u0438\\u0447\\u0451\\u043c\", \"\\u043f\\u043e\\u0437\\u0434\\u043d\\u043e\", \"\\u0443\\u0436\\u0430\\u0441\", \"\\u0431\\u0435\\u0440\\u0435\\u043c\\u0435\\u043d\\u043d\\u044b\\u0439\", \"\\u0432\\u0441\\u0442\\u0440\\u0435\\u0442\\u0438\\u0442\\u044c\", \"\\u043f\\u0430\\u0441\\u043f\\u043e\\u0440\\u0442\", \"\\u0441\\u0437\\u0430\\u0434\\u0438\", \"\\u0443\\u0434\\u043e\\u0432\\u043e\\u043b\\u044c\\u0441\\u0442\\u0432\\u0438\\u0435\", \"\\u0443\\u043c\\u0438\\u0440\\u0430\\u0442\\u044c\", \"\\u043e\\u0444\\u0438\\u0446\\u0438\\u0430\\u043d\\u0442\", \"\\u0444\\u0443\\u0442\\u0431\\u043e\\u043b\", \"\\u0441\\u0442\\u0440\\u0430\\u0448\\u043d\\u043e\", \"\\u0432\\u0438\\u043d\\u043e\\u0432\\u0430\\u0442\\u044b\\u0439\", \"\\u0433\\u0435\\u043d\\u0435\\u0440\\u0430\\u043b\", \"\\u0430\\u043d\\u0435\\u043a\\u0434\\u043e\\u0442\", \"\\u0437\\u0430\\u0431\\u044b\\u0432\\u0430\\u0442\\u044c\", \"\\u043a\\u043e\\u043c\\u0430\\u043d\\u0434\\u0430\", \"\\u0434\\u0435\\u0432\\u043a\\u0430\", \"\\u043d\\u043e\\u0433\\u0430\", \"\\u043f\\u043e\\u0441\\u043b\\u0443\\u0448\\u0430\\u0442\\u044c\", \"\\u043f\\u0440\\u043e\\u0431\\u043b\\u0435\\u043c\\u0430\", \"\\u043c\\u0443\\u0436\\u0438\\u043a\", \"\\u0442\\u0451\\u0449\\u0430\", \"\\u0441\\u0442\\u043e\\u0438\\u0442\\u044c\", \"\\u043a\\u0443\\u043f\\u0438\\u0442\\u044c\", \"\\u0445\\u043e\\u0442\\u0435\\u0442\\u044c\", \"\\u043e\\u043a\\u043d\\u043e\", \"\\u0434\\u0430\\u0442\\u044c\", \"..\", \"...\", \"\\u0434\\u043e\\u0440\\u043e\\u0433\\u043e\\u0439\", \"\\u0441\\u043c\\u043e\\u0442\\u0440\\u0435\\u0442\\u044c\", \"\\u0441\\u043a\\u0430\\u0437\\u0430\\u0442\\u044c\", \"\\u0432\\u0438\\u0434\\u0435\\u0442\\u044c\", \"\\u0434\\u0435\\u043d\\u044c\\u0433\\u0430\", \"\\u0437\\u043d\\u0430\\u0442\\u044c\", \"\\u0441\\u0438\\u0434\\u0435\\u0442\\u044c\", \"\\u0438\\u0434\\u0442\\u0438\", \"\\u0434\\u0443\\u043c\\u0430\\u0442\\u044c\", \"\\u0432\\u0447\\u0435\\u0440\\u0430\", \"\\u0434\\u043e\\u043b\\u0436\\u043d\\u044b\\u0439\", \"''\", \"``\", \"\\u0441\\u043b\\u043e\\u0432\\u043e\", \"\\u0441\\u0442\\u043e\\u043b\", \"\\u043b\\u0438\\u0431\\u043e\", \"\\u0432\\u044b\\u0439\\u0442\\u0438_\\u0437\\u0430\\u043c\\u0443\\u0436\", \"\\u043e\\u0442\\u043a\\u0440\\u044b\\u0442\\u044c\", \"\\u0433\\u043e\\u0432\\u043e\\u0440\\u0438\\u0442\\u044c_``\", \"\\u043f\\u043e\\u0437\\u043d\\u0430\\u043a\\u043e\\u043c\\u0438\\u0442\\u044c\\u0441\\u044f\", \"\\u043b\\u0435\\u0442\\u0435\\u0442\\u044c\", \"\\u0441\\u0432\\u043e\\u0431\\u043e\\u0434\\u043d\\u044b\\u0439\", \"\\u0433\\u043e\\u043b\\u0443\\u0431\\u043e\\u0439\", \"\\u0444\\u043e\\u0442\\u043e\\u0433\\u0440\\u0430\\u0444\\u0438\\u044f\", \"\\u0434\\u0430\\u0447\\u0430\", \"\\u0436\\u0438\\u0442\\u0435\\u043b\\u044c\", \"\\u0441\\u0430\\u0439\\u0442\", \"\\u043d\\u0430\\u0434\\u043e\\u0435\\u0441\\u0442\\u044c\", \"\\u0437\\u0430\\u0432\\u0435\\u0441\\u0442\\u0438\", \"\\u0441\\u043a\\u043e\\u0440\\u044b\\u0439\", \"\\u043f\\u0435\\u0440\\u0435\\u0436\\u0438\\u0432\\u0430\\u0442\\u044c\", \"\\u0441\\u043e\\u0437\\u0434\\u0430\\u0442\\u044c\", \"\\u0437\\u0430\\u0441\\u0442\\u0430\\u0432\\u0438\\u0442\\u044c\", \"\\u0443\\u043d\\u0438\\u0442\\u0430\\u0437\", \"\\u0436\\u0435\\u043d\\u0438\\u0445\", \"\\u043c\\u043e\\u0439\\u0448\\u0430\", \"\\u0444\\u0440\\u0430\\u0437\\u0430\", \"\\u043d\\u0435\\u0434\\u043e\\u0441\\u0442\\u0430\\u0442\\u043e\\u043a\", \"\\u043a\\u043e\\u043c\\u0430\\u043d\\u0434\\u0438\\u0440\", \"\\u043f\\u043e\\u0437\\u0432\\u043e\\u043b\\u0438\\u0442\\u044c\", \"\\u043f\\u043e\\u043c\\u0438\\u0434\\u043e\\u0440\", \"\\u043f\\u043e\\u043a\\u0430\\u0437\\u0430\\u0442\\u044c\", \"\\u043f\\u0438\\u0441\\u0430\\u0442\\u044c\", \"\\u043f\\u0438\\u0432\\u043e\", \"\\u0441\\u0442\\u0430\\u0440\\u044b\\u0439\", \"\\u043d\\u043e\\u0432\\u043e\\u0441\\u0442\\u044c\", \"\\u043f\\u043e\\u0445\\u043e\\u0436\\u0438\\u0439\", \"\\u043b\\u044e\\u0431\\u043e\\u0432\\u044c\", \"\\u0434\\u0435\\u0442\\u0441\\u0442\\u0432\\u043e\", \"\\u043f\\u043e\\u0434\\u0443\\u043c\\u0430\\u0442\\u044c\", \"\\u043d\\u043e\\u0432\\u044b\\u0439\", \"\\u043e\\u0442\\u0432\\u0435\\u0442\", \"\\u0432\\u043e\\u043f\\u0440\\u043e\\u0441\", \"\\u043e\\u0434\\u0438\\u043d\", \"\\u0437\\u043d\\u0430\\u0442\\u044c\", \"\\u043f\\u043e\\u0441\\u043b\\u0435\\u0434\\u043d\\u0438\\u0439\", \"\\u0440\\u043e\\u0441\\u0441\\u0438\\u044f\", \"\\u0434\\u0443\\u043c\\u0430\\u0442\\u044c\", \"\\u0434\\u0435\\u0432\\u0443\\u0448\\u043a\\u0430\", \"\\u0445\\u043e\\u0440\\u043e\\u0448\\u0438\\u0439\", \"\\u043f\\u0430\\u0440\\u0435\\u043d\\u044c\", \"\\u0433\\u043b\\u0430\\u0437\", \"\\u0431\\u043e\\u044f\\u0442\\u044c\\u0441\\u044f\", \"\\u043f\\u043b\\u043e\\u0445\\u043e\\u0439\", \"\\u0441\\u0432\\u0435\\u0442\", \"\\u043d\\u0430\\u0441\\u0442\\u043e\\u044f\\u0449\\u0438\\u0439\", \"\\u0441\\u0442\\u0443\\u0434\\u0435\\u043d\\u0442\", \"\\u0441\\u0442\\u043e\\u043b\\u044c\\u043a\\u043e\", \"\\u0441\\u0447\\u0430\\u0441\\u0442\\u043b\\u0438\\u0432\\u044b\\u0439\", \"\\u0441\\u043b\\u0443\\u0447\\u0438\\u0442\\u044c\\u0441\\u044f\", \"\\u0436\\u0435\\u043b\\u0430\\u043d\\u0438\\u0435\", \"\\u043f\\u0440\\u0435\\u043a\\u0440\\u0430\\u0441\\u043d\\u044b\\u0439\", \"\\u043e\\u0431\\u0440\\u0430\\u0449\\u0430\\u0442\\u044c\\u0441\\u044f\", \"\\u0431\\u0435\\u0434\\u043d\\u044b\\u0439\", \"\\u0432\\u0438\\u043d\\u043e\", \"\\u0442\\u0440\\u0435\\u0442\\u0438\\u0439\", \"\\u043f\\u043e\\u043b\\u0443\\u0447\\u0430\\u0442\\u044c\\u0441\\u044f\", \"\\u0431\\u0443\\u043a\\u0432\\u0430\", \"\\u0447\\u0438\\u043d\\u043e\\u0432\\u043d\\u0438\\u043a\", \"\\u0441\\u043c\\u044b\\u0441\\u043b\", \"\\u0437\\u0430\\u043f\\u043e\\u043c\\u043d\\u0438\\u0442\\u044c\", \"\\u043f\\u043e\\u0433\\u043e\\u0434\\u0430\", \"\\u0432\\u0441\\u0442\\u0440\\u0435\\u0442\\u0438\\u0442\\u044c\\u0441\\u044f\", \"\\u0443\\u0432\\u0430\\u0436\\u0430\\u0435\\u043c\\u044b\\u0439\", \"\\u0437\\u0430\\u0431\\u0440\\u0430\\u0442\\u044c\", \"\\u0432\\u0435\\u0437\\u0442\\u0438\", \"\\u043d\\u0430\\u0447\\u0438\\u043d\\u0430\\u0442\\u044c\\u0441\\u044f\", \"\\u043f\\u0440\\u043e\\u0434\\u043e\\u043b\\u0436\\u0430\\u0442\\u044c\", \"\\u0436\\u0438\\u0437\\u043d\\u044c\", \"\\u0434\\u0440\\u0443\\u0433\\u043e\\u0439\", \"\\u0432\\u0438\\u0434\", \"\\u0433\\u043e\\u0440\\u043e\\u0434\", \"\\u0443\\u0445\\u043e\", \"\\u0443\\u0432\\u0438\\u0434\\u0435\\u0442\\u044c\", \"\\u0437\\u0432\\u0430\\u0442\\u044c\", \"...\", \"\\u043e\\u0434\\u0438\\u043d\", \"\\u0434\\u0430\\u0432\\u0430\\u0442\\u044c\", \"..\", \"\\u0447\\u0435\\u043b\\u043e\\u0432\\u0435\\u043a\", \"\\u043c\\u0435\\u0441\\u0442\\u043e\", \"\\u0437\\u043d\\u0430\\u0442\\u044c\", \"\\u0445\\u043e\\u0442\\u0435\\u0442\\u044c\", \"\\u043a\\u0430\\u043a\\u043e\\u0439\", \"\\u0442\\u0430\\u043a\\u043e\\u0439\", \"\\u0441\\u043c\\u043e\\u0442\\u0440\\u0435\\u0442\\u044c\", \"\\u043f\\u043e\\u0441\\u043c\\u043e\\u0442\\u0440\\u0435\\u0442\\u044c\", \"\\u043d\\u0440\\u0430\\u0432\\u0438\\u0442\\u044c\\u0441\\u044f\", \"\\u043f\\u043e\\u0441\\u0442\\u0430\\u0432\\u0438\\u0442\\u044c\", \"\\u0443\\u043c\\u0435\\u0442\\u044c\", \"\\u0441\\u0442\\u0440\\u0430\\u0448\\u043d\\u044b\\u0439\", \"\\u043a\\u0443\\u0445\\u043d\\u044f\", \"\\u043f\\u0440\\u0430\\u0432\\u0438\\u043b\\u044c\\u043d\\u043e\", \"\\u0434\\u0430.-\", \"\\u0441\\u044a\\u0435\\u0441\\u0442\\u044c\", \"\\u043e\\u0431\\u044f\\u0437\\u0430\\u0442\\u0435\\u043b\\u044c\\u043d\\u043e\", \"\\u043a\\u043e\\u043c\\u043f\\u044c\\u044e\\u0442\\u0435\\u0440\", \"\\u0443\\u0434\\u0430\\u0442\\u044c\\u0441\\u044f\", \"\\u0430\\u0440\\u043c\\u0438\\u044f\", \"\\u043f\\u0430\\u0446\\u0438\\u0435\\u043d\\u0442\", \"\\u0445\\u043e\\u043b\\u043e\\u0434\\u0438\\u043b\\u044c\\u043d\\u0438\\u043a\", \"\\u0440\\u043e\\u0434\\u0438\\u0442\\u044c\\u0441\\u044f\", \"\\u0443\\u0441\\u043b\\u044b\\u0448\\u0430\\u0442\\u044c\", \"\\u0431\\u044b\\u0441\\u0442\\u0440\\u044b\\u0439\", \"\\u043f\\u0440\\u0430\\u0432\\u0438\\u043b\\u043e\", \"\\u0442\\u0440\\u0443\\u0434\\u043d\\u043e\", \"\\u0438\\u0441\\u043f\\u043e\\u043b\\u044c\\u0437\\u043e\\u0432\\u0430\\u0442\\u044c\", \"\\u043a\\u043e\\u0440\\u043c\\u0438\\u0442\\u044c\", \"\\u0441\\u0438\\u0434\\u043e\\u0440\\u043e\\u0432\", \"\\u0431\\u0435\\u0433\\u0430\\u0442\\u044c\", \"30\", \"\\u0440\\u0435\\u043a\\u043b\\u0430\\u043c\\u0430\", \"\\u0442\\u0438\\u043f\", \"\\u043f\\u043e\\u0432\\u043e\\u0434\", \"\\u0434\\u043e\\u043b\\u0433\\u0438\\u0439\", \"\\u043f\\u043e\\u0445\\u043e\\u0436\\u0435\", \"\\u0440\\u0430\\u0431\\u043e\\u0442\\u0430\\u0442\\u044c\", \"\\u0434\\u043e\\u043a\\u0442\\u043e\\u0440\", \"\\u043c\\u0435\\u0441\\u044f\\u0446\", \"\\u0443\\u043c\\u0435\\u0440\\u0435\\u0442\\u044c\", \"5\", \"\\u043f\\u043b\\u0430\\u043a\\u0430\\u0442\\u044c\", \"\\u0438\\u0434\\u0442\\u0438\", \"\\u0440\\u0430\\u0431\\u043e\\u0442\\u0430\", \"..\", \"...\", \"\\u0445\\u043e\\u0442\\u0435\\u0442\\u044c\", \"\\u0432\\u0438\\u0434\\u0435\\u0442\\u044c\", \"\\u0434\\u0435\\u043b\\u0430\\u0442\\u044c\", \"\\u043d\\u0443\\u0436\\u043d\\u044b\\u0439\", \"\\u0440\\u0430\\u0437\\u0433\\u043e\\u0432\\u0430\\u0440\\u0438\\u0432\\u0430\\u0442\\u044c\", \"\\u0440\\u0430\\u0432\\u043d\\u043e\", \"\\u0443\\u043c\\u043d\\u044b\\u0439\", \"\\u043d\\u0430\\u0437\\u0432\\u0430\\u0442\\u044c\", \"\\u0431\\u043e\\u043b\\u044c\\u0448\\u0438\\u0439\", \"\\u0432\\u0430\\u0441\\u044f\", \"\\u043f\\u0440\\u0438\\u0439\\u0442\\u0438\\u0441\\u044c\", \"\\u0434\\u0443\\u0440\\u0430\\u043a\", \"\\u043f\\u044b\\u0442\\u0430\\u0442\\u044c\\u0441\\u044f\", \"\\u0442\\u043e\\u0447\\u043d\\u043e\", \"\\u0436\\u0435\\u043d\\u0430_\\u043c\\u0443\\u0436\", \"\\u0441\\u043b\\u0443\\u0447\\u0430\\u0439\", \"\\u0433\\u043e\\u0442\\u043e\\u0432\\u044b\\u0439\", \"\\u043d\\u043e\\u0441\\u0438\\u0442\\u044c\", \"\\u043e\\u0442\\u043a\\u0440\\u044b\\u0432\\u0430\\u0442\\u044c\", \"\\u0441\\u043e\\u0441\\u0435\\u0434\\u043a\\u0430\", \"\\u0436\\u0438\\u0432\\u043e\\u0442\\u043d\\u043e\\u0435\", \"\\u0445\\u043e\\u0437\\u044f\\u0438\\u043d\", \"\\u0437\\u043d\\u0430\\u043a\\u043e\\u043c\\u044b\\u0439\", \"\\u0436\\u0435\\u043d\\u0430\\u0442\\u044b\\u0439\", \"\\u043d\\u0435\\u043d\\u0430\\u0432\\u0438\\u0434\\u0435\\u0442\\u044c\", \"\\u0431\\u0440\\u0430\\u0442\", \"\\u0433\\u043e\\u043b\\u044b\\u0439\", \"\\u0441\\u043b\\u0435\\u0434\\u043e\\u0432\\u0430\\u0442\\u044c\", \"\\u043f\\u043e\\u0431\\u0435\\u0434\\u0430\", \"\\u0432\\u044b\\u0437\\u044b\\u0432\\u0430\\u0442\\u044c\", \"\\u0440\\u0430\\u0434\\u0438\", \"\\u0433\\u043b\\u0443\\u043f\\u044b\\u0439\", \"\\u043e\\u0442\\u043d\\u043e\\u0441\\u0438\\u0442\\u044c\\u0441\\u044f\", \"\\u0437\\u0432\\u043e\\u043d\\u0438\\u0442\\u044c\", \"\\u0441\\u0435\\u043c\\u044c\\u044f\", \"\\u043f\\u043e\\u043b\\u043d\\u044b\\u0439\", \"\\u0441\\u043c\\u043e\\u0447\\u044c\", \"\\u0432\\u0442\\u043e\\u0440\\u043e\\u0439\", \"\\u0441\\u0432\\u043e\\u0439\", \"...\", \"\\u0436\\u0435\\u043d\\u0430\", \"\\u043f\\u043e\\u0439\\u0442\\u0438\", \"\\u043c\\u0443\\u0436\\u0438\\u043a\", \"..\", \"\\u0433\\u043e\\u0432\\u043e\\u0440\\u0438\\u0442\\u044c\", \"\\u043e\\u0434\\u0438\\u043d\", \"\\u0437\\u043d\\u0430\\u0442\\u044c\", \"\\u043f\\u043e\\u043c\\u043d\\u0438\\u0442\\u044c\", \"\\u043a\\u0442\\u043e-\\u0442\\u043e\", \"\\u0435\\u0445\\u0430\\u0442\\u044c\", \"\\u043d\\u043e\\u0447\\u044c\\u044e\", \"\\u043f\\u043e\\u043a\\u0430\\u0437\\u044b\\u0432\\u0430\\u0442\\u044c\", \"\\u043b\\u0435\\u0442\\u043e\", \"\\u043a\\u043e\\u043d\\u0435\\u0446\", \"\\u043f\\u043e\\u0439\\u043c\\u0430\\u0442\\u044c\", \"\\u043f\\u043e\\u043b\\u0443\\u0447\\u0438\\u0442\\u044c\\u0441\\u044f\", \"\\u0431\\u0435\\u0436\\u0430\\u0442\\u044c\", \"\\u0432\\u0441\\u0442\\u0430\\u0432\\u0430\\u0442\\u044c\", \"\\u043b\\u0435\\u0441\", \"\\u043e\\u0431\\u044a\\u044f\\u0432\\u043b\\u0435\\u043d\\u0438\\u0435\", \"\\u0441\\u043c\\u0435\\u0440\\u0442\\u044c\", \"\\u044d\\u043a\\u0437\\u0430\\u043c\\u0435\\u043d\", \"\\u0438\\u0432\\u0430\\u043d\\u043e\\u0432\", \"\\u0448\\u0435\\u0444\", \"\\u043f\\u0440\\u043e\\u0441\\u043d\\u0443\\u0442\\u044c\\u0441\\u044f\", \"\\u043c\\u0435\\u043d\\u044f\\u0442\\u044c\", \"\\u043d\\u0430\\u0443\\u0447\\u0438\\u0442\\u044c\\u0441\\u044f\", \"\\u043d\\u0438\\u0447\\u0442\\u043e\", \"\\u0433\\u043b\\u0430\\u0432\\u043d\\u044b\\u0439\", \"\\u044d\\u0445\", \"\\u043e\\u0448\\u0438\\u0431\\u043a\\u0430\", \"\\u043f\\u0440\\u043e\\u0441\\u044b\\u043f\\u0430\\u0442\\u044c\\u0441\\u044f\", \"\\u0432\\u043a\\u043b\\u044e\\u0447\\u0438\\u0442\\u044c\", \"\\u0445\\u0440\\u0435\\u043d\\u043e\\u0432\\u044b\\u0439\", \"\\u043f\\u0440\\u043e\\u043f\\u0430\\u0441\\u0442\\u044c\", \"\\u0437\\u0438\\u043c\\u0430\", \"\\u0434\\u043b\\u0438\\u043d\\u043d\\u044b\\u0439\", \"\\u0438\\u0441\\u043a\\u0430\\u0442\\u044c\", \"\\u0432\\u044b\\u043f\\u0438\\u0442\\u044c\", \"\\u0443\\u043b\\u0438\\u0446\\u0430\", \"\\u043d\\u0435\\u0434\\u0435\\u043b\\u044f\", \"\\u0434\\u0440\\u0443\\u0433_\\u0434\\u0440\\u0443\\u0433\", \"\\u043f\\u043e\\u0434\\u0440\\u0443\\u0433\\u0430\", \"..\", \"\\u043c\\u0443\\u0436\\u0438\\u043a\", \"\\u0432\\u0447\\u0435\\u0440\\u0430\", \"\\u043d\\u0430\\u0439\\u0442\\u0438\", \"\\u0434\\u0435\\u043d\\u044c\", \"\\u0434\\u043e\\u0440\\u043e\\u0433\\u0430\", \"\\u0435\\u0432\\u0440\\u0435\\u0439\", \"\\u0434\\u0435\\u0432\\u043e\\u0447\\u043a\\u0430\", \"\\u043f\\u043e\\u0434\\u0430\\u0440\\u0438\\u0442\\u044c\", \"\\u0440\\u0430\\u0437\", \"\\u0440\\u0430\\u0441\\u0441\\u043a\\u0430\\u0437\\u044b\\u0432\\u0430\\u0442\\u044c\", \"\\u0440\\u0430\\u0441\\u0441\\u043a\\u0430\\u0437\\u0430\\u0442\\u044c\", \"\\u044f\\u0439\\u0446\\u043e\", \"\\u0434\\u043e\\u0431\\u0440\\u044b\\u0439\", \"\\u0447\\u0443\\u0432\\u0441\\u0442\\u0432\\u043e\\u0432\\u0430\\u0442\\u044c\", \"\\u0432\\u0435\\u0440\\u0438\\u0442\\u044c\", \"\\u0440\\u043e\\u0436\\u0434\\u0435\\u043d\\u0438\\u0435\", \"\\u043f\\u0440\\u0438\\u0445\\u043e\\u0434\\u0438\\u0442\\u044c\\u0441\\u044f\", \"\\u0441\\u043f\\u0438\\u043d\\u0430\", \"\\u0441\\u0445\\u043e\\u0434\\u0438\\u0442\\u044c\", \"\\u0438\\u0434\\u0438\\u043e\\u0442\", \"\\u0432\\u043e\\u0439\\u043d\\u0430\", \"\\u0434\\u043e\\u0447\\u043a\\u0430\", \"\\u0444\\u0440\\u0430\\u0437\\u0430_``\", \"\\u0437\\u0430\\u043a\\u043e\\u043d\\u0447\\u0438\\u0442\\u044c\\u0441\\u044f\", \"\\u0434\\u0435\\u0434_\\u043c\\u043e\\u0440\\u043e\\u0437\", \"\\u043a\\u0430\\u043a\\u043e\\u0439-\\u043d\\u0438\\u0431\\u0443\\u0434\\u044c\", \"\\u043f\\u043e\\u043b\\u043e\\u0432\\u0438\\u043d\\u0430\", \"\\u0438\\u0433\\u0440\\u0430\", \"\\u0434\\u043e\\u0441\\u0442\\u0430\\u0442\\u044c\", \"\\u043f\\u0435\\u0442\\u044c\", \"4\", \"\\u043f\\u043e\\u0434\\u044a\\u0435\\u0437\\u0434\", \"\\u0437\\u043b\\u043e\\u0439\", \"\\u043d\\u0430\\u0441\\u0442\\u0440\\u043e\\u0435\\u043d\\u0438\\u0435\", \"\\u0433\\u0440\\u044f\\u0437\\u043d\\u044b\\u0439\", \"\\u043f\\u043b\\u043e\\u0445\\u043e\", \"\\u0447\\u0451\\u0440\\u043d\\u044b\\u0439\", \"\\u043d\\u0435\\u0441\\u0442\\u0438\", \"\\u043f\\u0430\\u043b\\u0435\\u0446\", \"\\u0441\\u043e\\u0441\\u0435\\u0434\", \"\\u043f\\u043e\\u043f\\u0440\\u043e\\u0441\\u0438\\u0442\\u044c\", \"...\", \"..\", \"\\u0434\\u0443\\u043c\\u0430\\u0442\\u044c\", \"\\u0437\\u043d\\u0430\\u0442\\u044c\", \"\\u0440\\u0443\\u043a\\u0430\", \"\\u0434\\u0440\\u0443\\u0433\", \"\\u0431\\u043b\\u043e\\u043d\\u0434\\u0438\\u043d\\u043a\\u0430\", \"\\u0436\\u0435\\u043d\\u0438\\u0442\\u044c\\u0441\\u044f\", \"\\u0443\\u0442\\u0440\\u043e\\u043c\", \"\\u0441\\u0432\\u0430\\u0434\\u044c\\u0431\\u0430\", \"\\u0433\\u043e\\u0441\\u0442\\u044c\", \"\\u043d\\u0435\\u043a\\u043e\\u0442\\u043e\\u0440\\u044b\\u0439\", \"\\u0436\\u043e\\u043f\\u0430\", \"\\u043f\\u0435\\u0440\\u0435\\u0441\\u0442\\u0430\\u0442\\u044c\", \"\\u0447\\u0435\", \"\\u044f\\u0437\\u044b\\u043a\", \"\\u0440\\u0443\\u0431\\u043b\\u044c\", \"\\u0441\\u043e\\u043b\\u0434\\u0430\\u0442\", \"\\u043f\\u043e\\u043b\\u043e\\u0436\\u0438\\u0442\\u044c\", \"\\u043e\\u0442\\u043a\\u0443\\u0434\\u0430\", \"\\u043f\\u0440\\u0438\\u0434\\u0443\\u043c\\u0430\\u0442\\u044c\", \"\\u043a\\u043e\\u043c\\u043d\\u0430\\u0442\\u0430\", \"\\u0441\\u0443\\u0434\\u0438\\u0442\\u044c\", \"\\u043c\\u0435\\u0434\\u0432\\u0435\\u0434\\u044c\", \"\\u0441\\u0442\\u0435\\u043d\\u0430\", \"\\u0443\\u043b\\u044b\\u0431\\u0430\\u0442\\u044c\\u0441\\u044f\", \"\\u0432\\u044b\\u0440\\u0430\\u0441\\u0442\\u0438\", \"\\u043e\\u0434\\u0435\\u0436\\u0434\\u0430\", \"\\u043d\\u0435\\u0432\\u0435\\u0441\\u0442\\u0430\", \"\\u043d\\u0435\\u0443\\u0436\\u0435\\u043b\\u0438\", \"\\u0441\\u0435\\u0441\\u0442\\u044c\", \"\\u0447\\u0430\\u0441\\u044b\", \"\\u043d\\u0430\\u0447\\u0430\\u0442\\u044c\\u0441\\u044f\", \"\\u044f\\u0432\\u043b\\u044f\\u0442\\u044c\\u0441\\u044f\", \"\\u0441\\u043f\\u043e\\u0440\\u0438\\u0442\\u044c\", \"\\u0431\\u043e\\u0433\", \"..\", \"...\", \"\\u0437\\u043d\\u0430\\u0442\\u044c\", \"\\u0432\\u0435\\u0447\\u0435\\u0440\\u043e\\u043c\", \"\\u0441\\u0442\\u0430\\u0442\\u044c\", \"\\u0441\\u043f\\u0430\\u0442\\u044c\", \"\\u0432\\u043e\\u0434\\u0430\", \"\\u0432\\u0441\\u0442\\u0440\\u0435\\u0447\\u0430\\u0442\\u044c\\u0441\\u044f\", \"\\u0441\\u0447\\u0430\\u0441\\u0442\\u0438\\u0435\", \"\\u0433\\u043b\\u0430\\u0432\\u043d\\u043e\\u0435\", \"\\u0447\\u0442\\u043e-\\u043d\\u0438\\u0431\\u0443\\u0434\\u044c\", \"\\u0443\\u043f\\u0430\\u0441\\u0442\\u044c\", \"\\u0433\\u0440\\u0443\\u0434\\u044c\", \"\\u0432\\u0435\\u0441\\u0442\\u0438\", \"\\u043e\\u0431\\u0435\\u0449\\u0430\\u0442\\u044c\", \"\\u0434\\u043e\\u043b\\u043b\\u0430\\u0440\", \"\\u0434\\u0435\\u0440\\u0435\\u0432\\u043e\", \"\\u0448\\u043a\\u0430\\u0444\", \"\\u043a\\u0440\\u043e\\u0432\\u0430\\u0442\\u044c\", \"\\u0441\\u0430\\u0440\\u0430\", \"\\u043f\\u0430\\u0434\\u0430\\u0442\\u044c\", \"\\u043a\\u0440\\u0430\\u0441\\u043d\\u044b\\u0439\", \"\\u0443\\u043c\", \"\\u0441\\u0438\\u043b\\u0430\", \"100\", \"\\u0447\\u0430\\u0441\\u0442\\u044c\", \"\\u0442\\u044b\\u0441\\u044f\\u0447\\u0430\", \"\\u043c\\u044b\\u0441\\u043b\\u044c\", \"\\u0443\\u0431\\u0440\\u0430\\u0442\\u044c\", \"\\u0430\\u043f\\u0442\\u0435\\u043a\\u0430\", \"\\u0441\\u0447\\u0438\\u0442\\u0430\\u0442\\u044c\\u0441\\u044f\", \"\\u043f\\u0440\\u043e\\u0434\\u0430\\u0432\\u0430\\u0442\\u044c\", \"\\u0437\\u0430\\u0445\\u043e\\u0442\\u0435\\u0442\\u044c\", \"\\u0442\\u043e\\u0432\\u0430\\u0440\\u0438\\u0449\", \"\\u0442\\u0440\\u0430\\u043c\\u0432\\u0430\\u0439\", \"\\u0441\\u044b\\u043d\\u043e\\u043a\", \"\\u0442\\u0432\\u043e\\u0439\", \"\\u0438\\u0437-\\u0437\\u0430\", \"\\u0432\\u044b\\u0445\\u043e\\u0434\\u0438\\u0442\\u044c\", \"\\u043b\\u0438\\u0446\\u043e\", \"\\u0433\\u043e\\u043b\\u043e\\u0432\\u0430\", \"\\u0441\\u043a\\u043e\\u0440\\u043e\", \"\\u0441\\u043a\\u0430\\u0437\\u0430\\u0442\\u044c\", \"\\u043e\\u0434\\u0438\\u043d\", \"...\", \"..\", \"\\u043c\\u0430\\u0448\\u0438\\u043d\\u0430\", \"\\u043f\\u044c\\u044f\\u043d\\u044b\\u0439\", \"\\u0437\\u0430\\u0445\\u043e\\u0434\\u0438\\u0442\\u044c\", \"\\u0441\\u043b\\u043e\\u0432\\u043e_``\", \"\\u0445\\u0432\\u0430\\u0442\\u0438\\u0442\\u044c\", \"\\u0437\\u0443\\u0431\", \"\\u0441\\u0438\\u043b\\u044c\\u043d\\u044b\\u0439\", \"\\u0447\\u0443\\u0436\\u043e\\u0439\", \"\\u043b\\u0451\\u0433\\u043a\\u0438\\u0439\", \"\\u043b\\u043e\\u0448\\u0430\\u0434\\u044c\", \"\\u0440\\u044b\\u0431\\u0430\", \"\\u0431\\u0438\\u0442\\u044c\", \"\\u043c\\u044f\\u0441\\u043e\", \"\\u043d\\u0438\\u043a\\u0430\\u043a\", \"\\u043a\\u043e\\u0437\\u0451\\u043b\", \"\\u0432\\u0441\\u0442\\u0430\\u0442\\u044c\", \"\\u043d\\u043e\\u0441\", \"\\u0437\\u0430\\u0439\\u0442\\u0438\", \"\\u043e\\u0433\\u0440\\u043e\\u043c\\u043d\\u044b\\u0439\", \"\\u0447\\u0443\\u0432\\u0441\\u0442\\u0432\\u043e\", \"\\u043d\\u043e\\u0432\\u044b\\u0439_\\u0440\\u0443\\u0441\\u0441\\u043a\\u0438\\u0439\", \"\\u0441\\u043e\\u0431\\u0441\\u0442\\u0432\\u0435\\u043d\\u043d\\u044b\\u0439\", \"\\u0432\\u0438\\u0434\\u043d\\u043e\", \"\\u0441\\u0438\\u0433\\u0430\\u0440\\u0435\\u0442\\u0430\", \"\\u0441\\u043f\\u043e\\u0441\\u043e\\u0431\\u043d\\u044b\\u0439\", \"\\u0437\\u0430\\u044f\\u0446\", \"\\u0437\\u0435\\u043b\\u0451\\u043d\\u044b\\u0439\", \"\\u0441\\u043e\\u0431\\u0440\\u0430\\u0442\\u044c\", \"\\u0434\\u043e\\u043b\\u0433\", \"\\u043b\\u0435\\u0447\\u0438\\u0442\\u044c\", \"\\u0432\\u043d\\u0438\\u043c\\u0430\\u043d\\u0438\\u0435\", \"\\u0431\\u0440\\u0430\\u0442\\u044c\", \"\\u043f\\u043e\\u0442\\u0435\\u0440\\u044f\\u0442\\u044c\", \"\\u043f\\u0440\\u044f\\u043c\\u043e\", \"\\u0441\\u043e\\u0432\\u0435\\u0440\\u0448\\u0435\\u043d\\u043d\\u043e\", \"\\u043f\\u0440\\u0438\\u0439\\u0442\\u0438\", \"\\u043f\\u043e\\u0434\\u0445\\u043e\\u0434\\u0438\\u0442\\u044c\", \"\\u043c\\u0443\\u0436\\u0438\\u043a\", \"\\u0438\\u0434\\u0442\\u0438\", \"..\", \"...\", \"\\u0441\\u043f\\u0440\\u0430\\u0448\\u0438\\u0432\\u0430\\u0442\\u044c\", \"\\u043f\\u043e\\u044f\\u0432\\u0438\\u0442\\u044c\\u0441\\u044f\", \"\\u043f\\u0438\\u0442\\u044c\", \"\\u0443\\u0437\\u043d\\u0430\\u0442\\u044c\", \"\\u0435\\u0441\\u0442\\u044c\", \"\\u0434\\u0443\\u0440\\u0430\", \"\\u043f\\u0440\\u0435\\u0434\\u0441\\u0442\\u0430\\u0432\\u043b\\u044f\\u0442\\u044c\", \"\\u0437\\u0430\\u0440\\u043f\\u043b\\u0430\\u0442\\u0430\", \"\\u0434\\u0432\\u043e\\u0435\", \"\\u043f\\u043e\\u043b\", \"\\u043b\\u044e\\u0441\\u044f\", \"\\u0440\\u0430\\u0437\\u043d\\u044b\\u0439\", \"\\u043f\\u043e\\u043b\\u0443\\u0447\\u0430\\u0442\\u044c\", \"\\u043e\\u0440\\u0430\\u0442\\u044c\", \"\\u043f\\u0435\\u0442\\u0440\\u043e\\u0432\\u0438\\u0447\", \"\\u043e\\u0431\\u044b\\u0447\\u043d\\u044b\\u0439\", \"\\u043d\\u043e\\u043c\\u0435\\u0440\", \"\\u043f\\u043e\\u043b\\u044c\\u0437\\u043e\\u0432\\u0430\\u0442\\u044c\\u0441\\u044f\", \"\\u0430\\u043b\\u043a\\u043e\\u0433\\u043e\\u043b\\u044c\", \"\\u043f\\u043e\\u0435\\u0437\\u0434\", \"\\u0441\\u043e\\u0441\\u0442\\u043e\\u044f\\u043d\\u0438\\u0435\", \"\\u0432\\u0441\\u0442\\u0440\\u0435\\u0447\\u0430\", \"\\u043f\\u043e\\u0447\\u0435\\u043c\\u0443-\\u0442\\u043e\", \"\\u0432\\u0430\\u043d\\u043d\\u0430\\u044f\", \"\\u0432\\u043e\\u043e\\u0431\\u0449\\u0435-\\u0442\\u043e\", \"\\u0442\\u0451\\u043f\\u043b\\u044b\\u0439\", \"\\u043a\\u043e\\u043d\\u044c\", \"\\u0431\\u0438\\u043b\\u0435\\u0442\", \"\\u0446\\u0432\\u0435\\u0442\", \"\\u0443\\u0431\\u0438\\u0432\\u0430\\u0442\\u044c\", \"\\u043e\\u0442\\u043a\\u0430\\u0437\\u0430\\u0442\\u044c\\u0441\\u044f\", \"\\u043e\\u0442\\u0434\\u0430\\u0432\\u0430\\u0442\\u044c\", \"\\u043f\\u0440\\u0438\\u0441\\u043b\\u0430\\u0442\\u044c\", \"\\u043e\\u0439\", \"\\u043a\\u0432\\u0430\\u0440\\u0442\\u0438\\u0440\\u0430\", \"\\u043c\\u0430\\u043b\\u0435\\u043d\\u044c\\u043a\\u0438\\u0439\", \"\\u0434\\u0435\\u043b\\u043e\", \"\\u0441\\u0435\\u043a\\u0441\", \"...\", \"..\", \"\\u0434\\u043e\\u0441\\u0442\\u0430\\u0442\\u043e\\u0447\\u043d\\u043e\", \"\\u043d\\u0430\\u0440\\u043e\\u0434\", \"\\u043d\\u0430\\u0432\\u0435\\u0440\\u043d\\u043e\\u0435\", \"\\u043d\\u0430\\u0437\\u044b\\u0432\\u0430\\u0442\\u044c\", \"\\u0431\\u044b\\u0441\\u0442\\u0440\\u043e\", \"\\u043f\\u0440\\u0435\\u0437\\u0438\\u0434\\u0435\\u043d\\u0442\", \"\\u0443\\u0431\\u0438\\u0442\\u044c\", \"\\u0442\\u0440\\u0430\\u043c\\u043f\", \"\\u043f\\u0440\\u0435\\u0434\\u043b\\u0430\\u0433\\u0430\\u0442\\u044c\", \"\\u0431\\u0435\\u043b\\u044b\\u0439\", \"\\u0443\\u0441\\u043f\\u0435\\u0442\\u044c\", \"\\u043f\\u0440\\u043e\\u0434\\u0430\\u0442\\u044c\", \"\\u0433\\u043b\\u044f\\u0434\\u0435\\u0442\\u044c\", \"\\u0441\\u043d\\u0438\\u043c\\u0430\\u0442\\u044c\", \"\\u0430\\u043c\\u0435\\u0440\\u0438\\u043a\\u0430\", \"\\u0443\\u043a\\u0440\\u0430\\u0441\\u0442\\u044c\", \"\\u0431\\u0430\\u0440\", \"\\u0430\\u043c\\u0435\\u0440\\u0438\\u043a\\u0430\\u043d\\u0435\\u0446\", \"\\u043f\\u043e\\u0434\\u043e\\u0439\\u0442\\u0438\", \"\\u0441\\u0430\\u0434\\u0438\\u0442\\u044c\\u0441\\u044f\", \"\\u0438\\u0441\\u0442\\u043e\\u0440\\u0438\\u044f\", \"\\u0441\\u043b\\u043e\\u043d\", \"\\u0441\\u0442\\u0430\\u0440\\u0430\\u0442\\u044c\\u0441\\u044f\", \"\\u0432\\u0441\\u044f\\u043a\\u0438\\u0439\", \"\\u0431\\u044b\\u0432\\u0448\\u0438\\u0439\", \"\\u0443\\u0441\\u0442\\u0430\\u0442\\u044c\", \"\\u043d\\u0435\\u0433\\u0440\", \"\\u0441\\u0443\\u043f\\u0440\\u0443\\u0433\", \"\\u043e\\u0442\\u043f\\u0440\\u0430\\u0432\\u0438\\u0442\\u044c\", \"\\u0440\\u0435\\u0431\\u044f\\u0442\\u0430\", \"\\u0445\\u0440\\u0435\\u043d\", \"\\u043f\\u0440\\u043e\\u0441\\u0438\\u0442\\u044c\", \"\\u0430\\u0432\\u0442\\u043e\\u0431\\u0443\\u0441\", \"\\u0447\\u0442\\u043e-\\u0442\\u043e\", \"\\u0437\\u0430\\u043c\\u0435\\u0442\\u0438\\u0442\\u044c\", \"\\u0431\\u0430\\u043d\\u043a\", \"\\u0441\\u043b\\u0435\\u0434\\u0443\\u044e\\u0449\\u0438\\u0439\", \"\\u043f\\u0430\\u0440\\u0430\", \"..\", \"\\u0440\\u043e\\u0441\\u0441\\u0438\\u044f\", \"\\u043e\\u0434\\u0438\\u043d\", \"\\u043e\\u0442\\u0432\\u0435\\u0447\\u0430\\u0442\\u044c\", \"\\u0440\\u043e\\u0434\\u0438\\u0442\\u0435\\u043b\\u044c\", \"\\u043c\\u0430\\u0442\\u044c\", \"\\u043e\\u0441\\u0442\\u0430\\u043b\\u044c\\u043d\\u043e\\u0439\", \"\\u0438\\u043c\\u0435\\u0442\\u044c\", \"\\u043f\\u0440\\u043e\\u0441\\u0442\\u0438\\u0442\\u044c\", \"\\u0442\\u0435\\u043b\\u0435\\u0432\\u0438\\u0437\\u043e\\u0440\", \"\\u0436\\u0440\\u0430\\u0442\\u044c\", \"\\u0434\\u0435\\u043f\\u0443\\u0442\\u0430\\u0442\", \"\\u0440\\u0430\\u0437\\u043d\\u0438\\u0446\\u0430\", \"\\u043c\\u0443\\u0436\\u0441\\u043a\\u043e\\u0439\", \"\\u0440\\u043e\\u0442\", \"\\u0434\\u0430\\u043c\\u0430\", \"\\u0437\\u0432\\u043e\\u043d\\u043e\\u043a\", \"\\u0441\\u043c\\u0435\\u044f\\u0442\\u044c\\u0441\\u044f\", \"\\u043b\\u0435\\u0433\\u043a\\u043e\", \"\\u0431\\u043e\\u0433\\u0430\\u0442\\u044b\\u0439\", \"\\u0436\\u0438\\u0432\\u043e\\u0439\", \"\\u0437\\u0434\\u0440\\u0430\\u0432\\u0441\\u0442\\u0432\\u0443\\u0439\\u0442\\u0435\", \"\\u043e\\u0442\\u0434\\u0430\\u0442\\u044c\", \"\\u043e\\u0431\\u0440\\u0430\\u0442\\u043d\\u043e\", \"\\u043f\\u0440\\u043e\\u0432\\u0435\\u0441\\u0442\\u0438\", \"\\u043f\\u0440\\u0438\\u0435\\u0437\\u0436\\u0430\\u0442\\u044c\", \"\\u043b\\u044e\\u0431\\u043e\\u0432\\u043d\\u0438\\u043a\", \"\\u043c\\u043e\\u043b\\u0447\\u0430\\u0442\\u044c\", \"\\u0432\\u044b\\u0431\\u0440\\u0430\\u0442\\u044c\", \"\\u0438\\u043d\\u0442\\u0435\\u0440\\u0435\\u0441\\u043d\\u044b\\u0439\", \"\\u0431\\u0443\\u0434\\u0443\\u0449\\u0435\\u0435\", \"\\u0432\\u0435\\u0440\\u043d\\u0443\\u0442\\u044c\", \"\\u043f\\u043e\\u0440\\u044f\\u0434\\u043e\\u043a\", \"\\u043f\\u043e\\u0441\\u043b\\u0435\\u0434\\u043d\\u0438\\u0439\", \"\\u043f\\u043e\\u0441\\u0442\\u043e\\u044f\\u043d\\u043d\\u043e\", \"\\u0432\\u043e\\u043f\\u0440\\u043e\\u0441\", \"\\u0440\\u0435\\u0431\\u0451\\u043d\\u043e\\u043a\", \"\\u043f\\u0440\\u0430\\u0432\\u0438\\u0442\\u0435\\u043b\\u044c\\u0441\\u0442\\u0432\\u043e\", \"\\u0447\\u0435\\u043b\\u043e\\u0432\\u0435\\u043a\", \"..\", \"\\u043e\\u0441\\u0442\\u0430\\u0442\\u044c\\u0441\\u044f\", \"\\u0441\\u043e\\u0431\\u0430\\u043a\\u0430\", \"\\u0436\\u0434\\u0430\\u0442\\u044c\", \"\\u0443\\u043a\\u0440\\u0430\\u0438\\u043d\\u0430\", \"\\u0438\\u043d\\u0442\\u0435\\u0440\\u043d\\u0435\\u0442\", \"\\u043a\\u0430\\u0436\\u0434\\u044b\\u0439\", \"\\u0442\\u0430\\u043a\\u0438\", \"\\u0447\\u0442\\u043e\", \"\\u043f\\u043e\\u0441\\u043b\\u0430\\u0442\\u044c\", \"\\u0437\\u0430\\u0432\\u0442\\u0440\\u0430\", \"\\u0441\\u043d\\u044f\\u0442\\u044c\", \"\\u043f\\u043e\\u0437\\u0432\\u043e\\u043d\\u0438\\u0442\\u044c\", \"\\u043d\\u0430\\u0445\\u043e\\u0434\\u0438\\u0442\\u044c\\u0441\\u044f\", \"\\u0441\\u0442\\u0430\\u0432\\u0438\\u0442\\u044c\", \"\\u0443\\u0447\\u0438\\u0442\\u044c\\u0441\\u044f\", \"\\u043f\\u0440\\u0438\\u0432\\u0435\\u0442\", \"\\u0442\\u0440\\u0438\", \"\\u0432\\u044b\\u0445\\u043e\\u0434\\u043d\\u043e\\u0439\", \"\\u043f\\u0440\\u0438\\u0440\\u043e\\u0434\\u0430\", \"\\u043a\\u043b\\u0430\\u0441\\u0442\\u044c\", \"\\u043c\\u0435\\u0447\\u0442\\u0430\\u0442\\u044c\", \"\\u043d\\u0430\\u0434\\u0435\\u044f\\u0442\\u044c\\u0441\\u044f\", \"\\u043a\\u0430\\u0447\\u0435\\u0441\\u0442\\u0432\\u043e\", \"\\u0444\\u0430\\u043c\\u0438\\u043b\\u0438\\u044f\", \"\\u043c\\u0438\\u043b\\u0438\\u0446\\u0438\\u044f\", \"\\u0443\\u043a\\u0440\\u0430\\u0438\\u043d\\u0441\\u043a\\u0438\\u0439\", \"\\u043d\\u0430\\u043f\\u0438\\u0441\\u0430\\u0442\\u044c_``\", \"\\u0446\\u0435\\u043b\\u044c\", \"\\u043a\\u043b\\u0430\\u0441\\u0441\", \"\\u043d\\u0435\\u0447\\u0435\\u0433\\u043e\", \"\\u0441\\u044d\\u0440\", \"\\u043f\\u043e\\u043b\\u0443\\u0447\\u0438\\u0442\\u044c\", \"\\u043f\\u0440\\u043e\\u0439\\u0442\\u0438\", \"..\", \"\\u0437\\u043d\\u0430\\u0442\\u044c\", \"\\u043d\\u043e\\u0432\\u044b\\u0439\", \"\\u043c\\u043e\\u043b\\u043e\\u0434\\u043e\\u0439\", \"\\u0432\\u043e\\u0434\\u043a\\u0430\", \"\\u0432\\u0435\\u0447\\u0435\\u0440\", \"\\u043d\\u0430\\u0447\\u0430\\u043b\\u044c\\u043d\\u0438\\u043a\", \"\\u0432\\u044b\\u0433\\u043b\\u044f\\u0434\\u0435\\u0442\\u044c\", \"\\u0441\\u043e\\u043d\", \"\\u043e\\u0441\\u0442\\u0430\\u0432\\u0430\\u0442\\u044c\\u0441\\u044f\", \"\\u0432\\u043e\\u0437\\u0440\\u0430\\u0441\\u0442\", \"\\u0437\\u0430\\u043f\\u0440\\u0435\\u0442\\u0438\\u0442\\u044c\", \"\\u043b\\u044e\\u0431\\u043e\\u0432\\u043d\\u0438\\u0446\\u0430\", \"\\u0447\\u0430\\u0439\", \"\\u0434\\u0435\\u0434\", \"\\u043a\\u043e\\u0444\\u0435\", \"\\u0447\\u043b\\u0435\\u043d\", \"\\u0441\\u0443\\u0434\", \"\\u0446\\u0435\\u043d\\u0430\", \"\\u043e\\u0447\\u0435\\u0440\\u0435\\u0434\\u043d\\u043e\\u0439\", \"\\u0431\\u0430\\u0431\\u043a\\u0430\", \"\\u043f\\u0440\\u043e\\u0448\\u043b\\u044b\\u0439\", \"\\u0433\\u043e\\u0441\\u0443\\u0434\\u0430\\u0440\\u0441\\u0442\\u0432\\u043e\", \"\\u043a\\u043e\\u0440\\u043e\\u0432\\u0430\", \"\\u0432\\u044b\\u0438\\u0433\\u0440\\u0430\\u0442\\u044c\", \"\\u0431\\u0443\\u0445\\u0430\\u0442\\u044c\", \"\\u0440\\u0430\\u0437\\u043c\\u0435\\u0440\", \"\\u0441\\u0443\\u0434\\u044c\\u044f\", \"\\u043d\\u0430\\u043f\\u0438\\u0442\\u044c\\u0441\\u044f\", \"\\u043f\\u043e\\u0441\\u0430\\u0434\\u0438\\u0442\\u044c\", \"\\u043f\\u043e\\u043f\", \"\\u0432\\u0437\\u0433\\u043b\\u044f\\u0434\", \"\\u043e\\u0442\\u043f\\u0443\\u0441\\u043a\", \"\\u043d\\u0438\\u043a\\u0430\\u043a\\u043e\\u0439\", \"\\u0441\\u0438\\u043b\\u044c\\u043d\\u043e\", \"\\u043f\\u0440\\u043e\\u0441\\u0442\\u043e\\u0439\", \"\\u0440\\u043e\\u0441\\u0441\\u0438\\u044f\", \"..\", \"...\", \"\\u0432\\u044b\\u0439\\u0442\\u0438\", \"\\u043f\\u0430\\u043f\\u0430\", \"\\u043c\\u0438\\u0440\", \"\\u043f\\u0443\\u0442\\u0438\\u043d\", \"\\u0434\\u043e\\u0447\\u044c\", \"10\", \"\\u043f\\u0440\\u0430\\u0432\\u043e\", \"\\u0437\\u0435\\u043c\\u043b\\u044f\", \"\\u0435\\u0434\\u0438\\u043d\\u0441\\u0442\\u0432\\u0435\\u043d\\u043d\\u044b\\u0439\", \"\\u043e\\u0431\\u044a\\u044f\\u0441\\u043d\\u0438\\u0442\\u044c\", \"20\", \"\\u043a\\u043d\\u0438\\u0433\\u0430\", \"\\u043e\\u0442\\u043d\\u043e\\u0448\\u0435\\u043d\\u0438\\u0435\", \"\\u0434\\u0438\\u0432\\u0430\\u043d\", \"\\u0441\\u043e\\u0431\\u0440\\u0430\\u0442\\u044c\\u0441\\u044f\", \"\\u043e\\u0434\\u043d\\u043e\\u0432\\u0440\\u0435\\u043c\\u0435\\u043d\\u043d\\u043e\", \"\\u0432\\u044b\\u0441\\u043e\\u043a\\u0438\\u0439\", \"\\u0432\\u0440\\u0430\\u0442\\u044c\", \"\\u0443\\u0447\\u0438\\u0442\\u044c\", \"\\u043f\\u0440\\u043e\\u0441\\u0442\\u0438\\u0442\\u0443\\u0442\\u043a\\u0430\", \"\\u043f\\u043b\\u0430\\u0442\\u0438\\u0442\\u044c\", \"\\u0442\\u0440\\u0435\\u0431\\u043e\\u0432\\u0430\\u0442\\u044c\", \"\\u0434\\u043e\\u0447\\u0435\\u043d\\u044c\\u043a\\u0430\", \"\\u0448\\u0442\\u0438\\u0440\\u043b\\u0438\\u0446\", \"\\u043f\\u043e\\u044f\\u0432\\u043b\\u044f\\u0442\\u044c\\u0441\\u044f\", \"\\u0441\\u043e\\u0431\\u0438\\u0440\\u0430\\u0442\\u044c\", \"3\", \"\\u043a\\u0438\\u0442\\u0430\\u0439\\u0441\\u043a\\u0438\\u0439\", \"40\", \"\\u043c\\u043d\\u0435\\u043d\\u0438\\u0435\", \"\\u0433\\u0440\\u0443\\u043f\\u043f\\u0430\", \"\\u0434\\u0435\\u043d\\u044c\\u0433\\u0430\", \"\\u0440\\u043e\\u0441\\u0441\\u0438\\u044f\\u043d\\u0438\\u043d\", \"\\u0434\\u0432\\u0435\\u0440\\u044c\", \"\\u043f\\u043e\\u043c\\u043e\\u0447\\u044c\", \"\\u0431\\u0443\\u0442\\u044b\\u043b\\u043a\\u0430\", \"\\u043a\\u043e\\u0442\\u043e\\u0440\\u044b\\u0439\", \"\\u0438\\u0433\\u0440\\u0430\\u0442\\u044c\", \"..\", \"\\u043d\\u0438\\u043a\\u0442\\u043e\", \"\\u0440\\u0443\\u0441\\u0441\\u043a\\u0438\\u0439\", \"\\u0441\\u0442\\u0440\\u0430\\u043d\\u0430\", \"\\u0445\\u043e\\u0442\\u0435\\u0442\\u044c\\u0441\\u044f\", \"\\u043b\\u044e\\u0431\\u043e\\u0439\", \"\\u043a\\u0440\\u0438\\u0447\\u0430\\u0442\\u044c\", \"\\u0432\\u0435\\u0449\\u044c\", \"\\u0440\\u0430\\u0431\\u0438\\u043d\\u043e\\u0432\\u0438\\u0447\", \"\\u043c\\u043e\\u0437\\u0433\", \"\\u0441\\u0442\\u0430\\u043d\\u043e\\u0432\\u0438\\u0442\\u044c\\u0441\\u044f\", \"\\u043a\\u043e\\u0448\\u043a\\u0430\", \"\\u0432\\u043b\\u0430\\u0441\\u0442\\u044c\", \"\\u043c\\u0430\\u0448\\u0430\", \"\\u0445\\u0432\\u0430\\u0442\\u0430\\u0442\\u044c\", \"\\u0440\\u0435\\u0441\\u0442\\u043e\\u0440\\u0430\\u043d\", \"\\u043c\\u043e\\u043c\\u0435\\u043d\\u0442\", \"\\u0434\\u0438\\u0440\\u0435\\u043a\\u0442\\u043e\\u0440\", \"\\u0433\\u0440\\u0430\\u0436\\u0434\\u0430\\u043d\\u0438\\u043d\", \"\\u0437\\u0430\\u0434\\u043d\\u0438\\u0446\\u0430\", \"\\u043c\\u043e\\u0440\\u0435\", \"\\u043d\\u043e\\u0440\\u043c\\u0430\\u043b\\u044c\\u043d\\u043e\", \"\\u043f\\u0440\\u043e\\u0444\\u0435\\u0441\\u0441\\u043e\\u0440\", \"\\u043f\\u043b\\u044f\\u0436\", \"\\u0434\\u043e\\u043a\\u0430\\u0437\\u0430\\u0442\\u044c\", \"\\u0434\\u0435\\u0440\\u0435\\u0432\\u043d\\u044f\", \"\\u043c\\u0435\\u0447\\u0442\\u0430\", \"\\u0431\\u044b\\u0432\\u0430\\u0442\\u044c\", \"\\u043c\\u043e\\u0439_\\u0436\\u0435\\u043d\\u0430\", \"\\u0441\\u0442\\u043e\", \"\\u0432\\u0440\\u0430\\u0433\", \"\\u0441\\u043e\\u0432\\u0435\\u0442\", \"\\u043d\\u0430\\u0447\\u0438\\u043d\\u0430\\u0442\\u044c\", \"\\u043b\\u044e\\u0431\\u0438\\u043c\\u044b\\u0439\", \"\\u0440\\u043e\\u0441\\u0441\\u0438\\u044f\", \"..\", \"\\u0436\\u0438\\u0442\\u044c\", \"\\u043b\\u044e\\u0431\\u0438\\u0442\\u044c\", \"\\u043a\\u0430\\u043a-\\u0442\\u043e\", \"\\u0431\\u043e\\u043b\\u044c\\u0448\\u043e\\u0439\", \"\\u0441\\u0448\\u0430\", \"\\u0441\\u0430\\u043c\\u043e\\u043b\\u0451\\u0442\", \"\\u0435\\u0437\\u0434\\u0438\\u0442\\u044c\", \"\\u0430\\u0433\\u0430\", \"\\u0432\\u0435\\u0441\\u043d\\u0430\", \"\\u043f\\u0440\\u0438\\u043d\\u0438\\u043c\\u0430\\u0442\\u044c\", \"\\u043d\\u043e\\u0441\\u043a\\u0430\", \"\\u043c\\u0430\\u0434\\u0430\\u043c\", \"\\u043d\\u0430\\u0434\\u0435\\u0442\\u044c\", \"\\u0432\\u043e\\u043b\\u043d\\u043e\\u0432\\u0430\\u0442\\u044c\\u0441\\u044f\", \"\\u0443\\u0433\\u043e\\u043b\", \"\\u043f\\u043e\\u0431\\u0435\\u0434\\u0438\\u0442\\u044c\", \"\\u0433\\u0435\\u0439\", \"\\u0441\\u0440\\u0435\\u0434\\u0438\", \"\\u043e\\u0442\\u0441\\u0443\\u0442\\u0441\\u0442\\u0432\\u0438\\u0435\", \"\\u043f\\u0440\\u043e\\u0431\\u043e\\u0432\\u0430\\u0442\\u044c\", \"\\u043a\\u043e\\u0433\\u0434\\u0430-\\u043d\\u0438\\u0431\\u0443\\u0434\\u044c\", \"\\u0441\\u043e\\u0432\\u0440\\u0435\\u043c\\u0435\\u043d\\u043d\\u044b\\u0439\", \"\\u043f\\u0440\\u0438\\u0447\\u0438\\u043d\\u0430\", \"\\u043f\\u043e\\u043b\\u0435\", \"\\u0442\\u0440\\u043e\\u0435\", \"\\u043f\\u0430\\u0441\\u0441\\u0430\\u0436\\u0438\\u0440\", \"\\u0443\\u0440\\u043e\\u0432\\u0435\\u043d\\u044c\", \"\\u0436\\u0435\\u043b\\u0430\\u0442\\u044c\", \"\\u0441\\u043a\\u0430\\u0437\\u043a\\u0430\", \"\\u043f\\u043b\\u0430\\u0442\\u044c\\u0435\", \"\\u0432\\u0435\\u043b\\u0438\\u043a\\u0438\\u0439\", \"\\u0430\\u0432\\u0442\\u043e\\u043c\\u043e\\u0431\\u0438\\u043b\\u044c\", \"\\u043f\\u043e\\u043c\\u043e\\u0449\\u044c\", \"\\u043f\\u0440\\u043e\\u0445\\u043e\\u0434\\u0438\\u0442\\u044c\", \"\\u0442\\u0443\\u0430\\u043b\\u0435\\u0442\", \"\\u0447\\u0438\\u0442\\u0430\\u0442\\u044c\", \"\\u0440\\u0435\\u0437\\u0443\\u043b\\u044c\\u0442\\u0430\\u0442\", \"\\u043f\\u043e\\u0441\\u0442\\u0435\\u043b\\u044c\", \"..\", \"\\u0437\\u0430\\u044f\\u0432\\u0438\\u0442\\u044c\", \"\\u043e\\u0442\\u0432\\u0435\\u0442\", \"\\u0440\\u043e\\u0441\\u0441\\u0438\\u044f\", \"\\u043a\\u0443\\u043f\\u0438\\u0442\\u044c\", \"\\u0431\\u0430\\u0431\\u0443\\u0448\\u043a\\u0430\", \"\\u043f\\u043e\\u043f\\u0430\\u0441\\u0442\\u044c\", \"\\u0431\\u043e\\u043b\\u044c\\u043d\\u043e\\u0439\", \"\\u0432\\u0441\\u0451-\\u0442\\u0430\\u043a\\u0438\", \"\\u043d\\u0430\\u043f\\u0440\\u0438\\u043c\\u0435\\u0440\", \"\\u0431\\u0440\\u043e\\u0441\\u0438\\u0442\\u044c\", \"\\u043e\\u0442\\u0432\\u0435\\u0442\\u0438\\u0442\\u044c\", \"\\u0438\\u0437\\u044f\", \"''_.-\", \"\\u043e\\u043a\\u0430\\u0437\\u044b\\u0432\\u0430\\u0442\\u044c\\u0441\\u044f\", \"\\u0434\\u0443\\u0448\\u0430\", \"\\u043e\\u0447\\u0435\\u0440\\u0435\\u0434\\u044c\", \"\\u043f\\u043e\\u043c\\u043e\\u0433\\u0430\\u0442\\u044c\", \"\\u043d\\u0430\\u0437\\u044b\\u0432\\u0430\\u0442\\u044c\\u0441\\u044f\", \"\\u0442\\u0435\\u043b\\u043e\", \"\\u0442\\u0440\\u0443\\u0441\", \"\\u0431\\u043e\\u043b\\u0435\\u0442\\u044c\", \"\\u0440\\u044b\\u043d\\u043e\\u043a\", \"\\u0441\\u0435\\u0440\\u0434\\u0446\\u0435\", \"\\u0441\\u0447\\u0451\\u0442\", \"\\u0433\\u0430\\u0438\\u0448\\u043d\\u0438\\u043a\", \"\\u043f\\u0440\\u0438\\u043d\\u0446\\u0438\\u043f\", \"\\u0441\\u0432\\u0438\\u043d\\u044c\\u044f\", \"50\", \"\\u0441\\u0432\\u043e\\u043b\\u043e\\u0447\\u044c\", \"\\u0442\\u0430\\u0431\\u043b\\u0435\\u0442\\u043a\\u0430\", \"\\u0440\\u0430\\u0434\\u043e\\u0441\\u0442\\u044c\", \"\\u043f\\u043e\\u043d\\u044f\\u0442\\u043d\\u043e\", \"\\u0441\\u0443\\u043f\", \"\\u0441\\u043e\\u0433\\u043b\\u0430\\u0441\\u043d\\u044b\\u0439\", \"..\", \"...\", \"\\u043e\\u0434\\u0438\\u043d\", \"\\u043c\\u0435\\u0441\\u0442\\u043e\"], \"Freq\": [14209.0, 11179.0, 6371.0, 4895.0, 3919.0, 3689.0, 3976.0, 2295.0, 1899.0, 3108.0, 11924.0, 2200.0, 1647.0, 1435.0, 1429.0, 1902.0, 2206.0, 1068.0, 1349.0, 1041.0, 1069.0, 1097.0, 981.0, 955.0, 959.0, 947.0, 929.0, 909.0, 1206.0, 1084.0, 3976.0600214057563, 1083.185212685117, 1010.4975811369027, 900.2721498755055, 877.2601523500034, 778.0632545834912, 682.7526386126331, 641.3516525013684, 480.5126173641192, 477.39141070922363, 454.23723214241704, 430.2838164926097, 405.46460410707573, 403.1279593346403, 369.7870664952234, 337.6415609610543, 314.29379805487446, 288.73705660172817, 286.44634199929106, 284.09620486351696, 257.73439233371226, 229.60012832876325, 219.9170821752577, 212.72360761075137, 207.42886742877462, 207.25090055008607, 206.23863248218666, 203.38250164908, 198.2293210176744, 197.3463230222977, 5758.6917553382855, 1962.1147292408925, 660.8301343906627, 339.231093679732, 1528.3578220498205, 582.2278757742432, 1176.9438660545288, 554.4929496375603, 3264.6733399981745, 1148.62112997269, 439.4826010763594, 712.1558062621507, 1096.5168705490166, 1908.4997260850512, 614.2257070909493, 663.2096018794301, 518.1047874924202, 690.1226365934798, 519.9569902623064, 591.5075343456724, 589.2408974971279, 554.5610730411632, 487.5882292182718, 4894.9398749139455, 3688.62844660926, 686.0310836317824, 666.416464805731, 432.5069122040016, 426.2713979639853, 384.94092424617185, 379.1827364673244, 375.5585853290716, 334.8564144328216, 332.9776599807525, 306.2992967795429, 202.82769660302364, 201.89495758857277, 201.00137621280481, 199.46790247901444, 197.94266012758783, 194.9633058142687, 188.43422642904073, 188.0366522228041, 186.94340906192093, 186.02136928261075, 184.05819239851883, 183.83820987629693, 181.81180597928577, 171.3581065705464, 170.72322801468482, 165.5235715488261, 164.70704028539276, 163.18474998570568, 715.3081270458005, 200.6971743097379, 494.40875065926804, 1763.1027488924478, 376.4515731706274, 722.8557579971043, 768.8083012957123, 1006.5820427665598, 309.8615329278718, 563.9771455787749, 1672.4009748138328, 1407.303354828059, 456.61339794787943, 576.1122961719956, 467.23325569738824, 474.8832556809729, 434.64504110679616, 572.8384864121465, 394.6821014525029, 430.74517770766147, 427.20224704055, 391.34122232667676, 336.68496838599685, 14208.441042418111, 11178.807901795957, 694.7525854626149, 380.8184945094685, 322.2334623042239, 289.0374231050656, 273.6241993833878, 267.9912303177457, 248.92204612820274, 246.04002080872218, 191.05108540916152, 189.62109621741223, 186.75805618683725, 186.5837884660645, 185.0459492943896, 182.46118067421605, 177.74155170248002, 170.5034487701281, 168.08590146690335, 165.30924911639715, 161.99725469720477, 160.5638499996718, 157.67827070795687, 151.36052350301267, 148.10803888729416, 146.15060021454792, 145.501823352425, 135.06162220724423, 135.00458941472152, 131.05481852365537, 419.79160019395266, 543.9498817487837, 472.2909703507691, 401.6932966011577, 277.78822402915347, 228.87956587160534, 365.3816084098841, 230.6406591172745, 282.68630548550533, 380.915267173339, 228.68526667096623, 243.2662147130357, 269.40192651736567, 255.46440130132578, 209.37139687789457, 195.092536475745, 193.5230038720235, 3918.6326527971164, 1647.1081511223847, 1096.7928468373289, 900.1771573551832, 861.6019620258375, 763.7087232049383, 527.1124116562587, 437.66102895709207, 400.6942559232802, 385.57563106135825, 371.6315798866057, 357.62621854686364, 315.5228023273865, 283.84910073216355, 276.7411773599564, 271.5907386470651, 267.8459339003118, 257.31926573171137, 245.82969344604086, 241.05328818537618, 230.44836148411034, 222.4250338305288, 222.1067301637165, 219.74858313213144, 211.17914798769363, 198.6373559076118, 187.87836928427646, 187.68366288392076, 175.04248972036712, 173.12522227937012, 879.7651650133156, 604.1516091813429, 354.5524803476644, 436.0873323127088, 301.5970761126188, 453.67517892328044, 349.1318446884379, 1728.556233365756, 854.1378712972855, 639.5190779934098, 1378.3608601030778, 513.9575771345521, 355.6104433443973, 561.1631477216293, 484.7346243073158, 360.1400241238448, 326.0800811722782, 307.22014485161304, 1069.0465233967695, 718.8294589065717, 488.1335350574762, 451.7951062649615, 450.191167152779, 441.69113406329785, 409.90969399424756, 405.00885598965027, 402.8002992169283, 377.79350386056007, 369.24398114358274, 362.6003651484391, 360.65841541904183, 344.1419725968273, 340.28494110229656, 336.65003159266695, 328.11521927569106, 319.48006282124845, 291.92313621514927, 270.171484457721, 260.25174611449444, 253.88560567126763, 249.7155864048853, 232.089949091842, 227.64695333058793, 226.75664554768403, 210.22636433371562, 210.17056844367588, 199.70246329077432, 194.4949185012677, 1422.7160833814592, 1018.4756056736701, 558.2756036828105, 488.3551515303498, 265.7504279184622, 277.91360336431103, 622.4238667488028, 594.4390242113908, 1161.0590138304028, 950.9428384808903, 359.13007563057795, 322.90159570405325, 308.09530007100744, 789.0716447008587, 723.9886229480403, 687.1123358912067, 589.7925020273709, 553.9256135237296, 527.0693154704513, 512.0858482524101, 503.1124024973555, 492.82922795227154, 463.9152309238034, 446.8311604110241, 404.7758241189031, 359.7766120898668, 325.17713378120567, 306.8512785202753, 299.2076470245267, 292.06893445206134, 266.8145929034141, 261.28247382119656, 257.61444736207807, 248.06486834674286, 235.11938071242682, 225.48943541479798, 221.94553373908224, 217.88006880223804, 209.83585055958184, 205.3301892565885, 193.92258230723704, 190.6822567582901, 190.497777946308, 580.8890991603159, 446.32675399667744, 356.8361042688204, 461.7591302327897, 326.60661882608315, 387.47759808619486, 888.8976472645811, 611.592777395329, 369.1752694259723, 466.2380678555184, 639.0797054924778, 373.25071608448616, 363.82121059143583, 292.8770146139267, 865.1138037905256, 820.0724852866932, 510.53531759653333, 494.8468304538968, 472.2270823775081, 448.48401587663614, 419.79913391079947, 386.97912893444635, 330.1973044978619, 315.55860242601204, 312.96753955691696, 311.2516521925016, 285.61493232144153, 282.61308805613163, 280.1736511961693, 249.1668454500775, 244.88694707355498, 243.77976156291936, 235.09878090774092, 234.2081739202505, 216.95502794474385, 210.22453995477304, 209.33606064142776, 208.1250633373381, 207.45075430057815, 201.5158995357081, 187.14415042596661, 187.0575587644673, 186.62018144143852, 183.42761807720868, 647.2911757963001, 383.8706905325696, 473.66342609270356, 353.85510036568724, 307.8429077827141, 338.2908366596772, 1039.381352123869, 443.29253772462135, 337.0245432088491, 291.93678997037716, 252.89612046267158, 240.21981200262127, 908.3373979777928, 698.4108136224334, 522.4653884590754, 481.59453819429945, 462.9456426806215, 429.70229547494233, 427.2901122698146, 426.8824631425917, 422.78067676630604, 381.4691061984788, 324.3180433648308, 310.72251957508007, 300.04734528072674, 298.8132826905847, 291.5967450246133, 284.9683985757604, 273.62022814038033, 269.0402819625434, 262.85180959716655, 251.1812295036592, 237.77649392190295, 233.32370938832995, 228.36708114556035, 227.79265814963742, 223.6306987003197, 197.65624042027372, 195.62487889475705, 183.27663701716, 182.38554493374113, 174.10986055088853, 457.29106625475833, 315.7911918637577, 207.11075441289123, 264.49050236902025, 401.9047142972614, 257.2412365892105, 579.5399713397705, 476.1773149238626, 299.25958346867196, 301.3593515549788, 240.87486971926975, 1434.386344538589, 740.0247107932242, 719.6582858527163, 665.3314392016204, 579.9323803544636, 516.2901448298082, 487.1665970327535, 416.47797657492873, 402.4998526409847, 385.59739849062726, 375.3531786521687, 354.0704451928474, 351.3760397446359, 335.20174097010005, 333.66652072516223, 326.2811934110266, 302.7243475766305, 295.6332525381226, 292.71477667827264, 279.7602157878293, 265.4444830908235, 261.98546250950477, 255.44601060587377, 240.46403404898282, 232.04011223530506, 223.50190614832522, 220.6231675812888, 220.25863781951213, 217.4012371389467, 199.80677091834715, 346.24965772737374, 712.922159213721, 426.39317705377783, 257.7604479697877, 227.59882555813658, 228.0035446865927, 958.4050938965408, 697.5382425898998, 505.6668677431249, 492.0115918607396, 434.56644940143065, 382.10281614064206, 364.6008994703359, 357.6879532792787, 350.0013217166154, 314.4822355030679, 309.40496163665495, 301.5830459675135, 297.5396140488684, 291.6212142731611, 284.2300045080602, 283.65998418652435, 271.16559461141645, 258.7895618365143, 258.0947586077619, 244.1936561439428, 241.54795847668717, 238.0641128521666, 230.2523401324185, 228.6320431504113, 224.95330959759127, 222.79420481381493, 220.0903587148275, 216.7241981720098, 209.42221501470684, 189.40296608304357, 644.636917552641, 843.9207956410578, 409.8102639781421, 424.95639668703143, 409.7508840624883, 523.0147593607229, 281.80140626093225, 622.7770031887954, 421.47962649740776, 517.9453893820271, 461.2079247561088, 1041.0408780952107, 651.0723190649197, 558.7368981179765, 434.4953611787877, 431.3725217072288, 388.03780244041013, 376.75243514400444, 376.7127691082147, 326.91870199297534, 314.25282696506036, 309.95158872338106, 302.06218413820295, 298.75004779009595, 294.12980428764274, 289.728417131475, 266.8017614802071, 250.81994896208573, 250.43956643623684, 235.902009038597, 215.41018613890384, 214.03055043411143, 210.4375096848617, 210.00049014173234, 186.75903284565922, 184.8714751177547, 184.8329158851056, 183.76846193932835, 181.18858207717392, 180.11172970025495, 166.2681378718315, 220.8221181020161, 589.9897990202765, 268.70081207304736, 262.4561840339217, 208.30468885291083, 395.03083063958087, 302.93499344319423, 434.7913583500308, 350.49275922274245, 471.3446165149972, 392.40920529331174, 294.61147607060985, 227.90957114286687, 1067.464241114227, 813.4049066581009, 675.1003667004063, 470.7724025907501, 470.2612863375225, 458.22228409409024, 437.1691431006237, 330.7955731169049, 319.74152332477007, 318.8986145806393, 293.9915641725498, 284.19249051266286, 281.19003969913206, 269.9484288151201, 262.7259204045136, 246.05787380320103, 244.12620886137563, 243.9398085855873, 233.46982787318018, 226.04783768240068, 222.24783924574527, 194.2389989549923, 191.86649178008085, 187.7254589705849, 185.96855265858093, 183.0954658687859, 179.2288432856526, 178.2316911037302, 177.2945218608549, 175.26072742660654, 296.47716162256825, 546.4944451641499, 482.6340232064681, 467.07292636270245, 460.7809459875405, 313.3669017734442, 681.6464318586848, 715.8789429624545, 194.81384847616906, 593.0643409118161, 568.8895373176081, 518.8956805658345, 479.8824689335106, 474.76582536727335, 452.9151465901269, 356.6279576943235, 346.7624824541828, 318.4431807449193, 317.6907305569427, 316.15273087448026, 313.8504582417162, 311.95111154819136, 300.3526938872508, 297.92099078903294, 295.79298213053954, 284.1628378433596, 266.8674428220536, 266.0561223624996, 261.87879062098705, 248.89179616696947, 237.2316743138942, 228.8738890902552, 228.34545146633286, 227.74127288751532, 217.96909562572253, 213.67056950037593, 205.88342074895812, 205.53681898079554, 202.7026327434255, 606.8284273786563, 286.420542647359, 701.8507135457043, 339.50538754700517, 306.0516859880125, 272.512014792113, 274.59669546208556, 593.2500069883291, 302.82929691429865, 253.77572614744136, 855.0993915050152, 621.9567265458404, 514.4862697362012, 463.2860943078958, 443.2864590032784, 407.490332280283, 357.19888455626347, 353.79358556573726, 345.1871533319887, 341.6497470954707, 335.3800967696775, 328.5855218062821, 323.40953610521467, 319.2234070327735, 306.3031685033554, 292.46509978506776, 291.8572609900713, 289.336886596445, 288.2448088455449, 273.55511784078345, 271.3246564791519, 257.2880962931628, 253.62180063813292, 252.86536874128848, 245.90732373392888, 241.93908125372576, 238.83923343473788, 234.6575123451459, 231.87067538828285, 222.46664069787792, 622.2722499581893, 360.96826089022295, 426.63733146237115, 369.28517681043314, 258.4164517429122, 295.0712314850261, 301.2877876574002, 261.7846134779336, 954.2785928747551, 732.1449940304158, 647.3626339263552, 573.1141276916992, 560.4162331211439, 538.8100621403679, 491.01459565102556, 451.75701806701545, 415.0759750716686, 401.2957759433863, 367.6380849033012, 348.96324834691245, 335.1764250057874, 321.2513458164204, 306.5994396297966, 281.37456829728114, 254.5436423506926, 252.80363871982976, 252.47769684104432, 248.9790630798401, 239.5771625713501, 231.2278123180164, 225.54648949409432, 223.25744137038703, 222.85041300502198, 219.39926370023483, 219.02172729237742, 214.41385488030352, 212.83805739683874, 205.7747226427119, 323.7515598538167, 255.77631435374036, 390.624934226878, 318.8638308457046, 235.11521960061316, 980.8530939088155, 947.027700214264, 451.6397127836959, 420.57650608139835, 418.9985996185238, 319.72079952418727, 311.8824608297811, 301.7815909814548, 299.1468100114521, 291.5454190348536, 275.84548966526404, 275.1338176419822, 274.16796613277455, 272.4548448210839, 267.013510509014, 262.34852188158095, 254.07548457093722, 249.89086965143733, 236.99574863473842, 235.85808112873696, 232.94163709327805, 231.89056467516173, 231.23837497043476, 217.5119192976737, 217.14353027014414, 211.129425073244, 210.8937424725893, 198.76035285617382, 187.06473739941953, 185.14784497663996, 359.67178141165437, 295.85128888975737, 274.6986391537211, 297.28172195485064, 342.1072220451222, 271.3408437307891, 227.06263768337047, 1898.6855891272892, 804.6396398393058, 672.2813814909241, 518.6856221255729, 428.01445211359874, 424.5978062723869, 400.89777535953215, 348.3482981382836, 325.01758134448085, 309.545062831691, 294.24460765802525, 278.51568274092836, 270.467053462835, 248.1359686730432, 246.98667184993087, 242.31093721829677, 240.6124408857553, 238.50504083213718, 226.38009879434122, 223.93955343805027, 220.01423459250876, 218.46875849938334, 203.74321319859695, 201.58909872189642, 199.08602053246807, 198.00550982580688, 189.79196381809084, 188.76638177775, 184.8354633022028, 184.74545524168343, 1038.7709338681311, 228.65075965586826, 289.79102799735597, 336.04251201859194, 236.14389256433154, 316.0155769281433, 242.68617779400847, 331.1100005791096, 238.4935365339154, 928.49860247, 801.7474212956897, 769.6038315256397, 737.2164442086453, 667.7769609743756, 476.4595309773646, 468.47971042020777, 448.5744642942923, 420.0850349621269, 414.2514003448466, 340.8555106689238, 329.71242340808607, 317.3559755048287, 308.1831251406579, 304.7814077057067, 287.7352203433072, 285.123688961863, 284.86827071472385, 278.4677873970314, 269.2683754324153, 265.4664660920537, 260.9115612507565, 248.27917022728852, 244.45108736181274, 242.70774517544308, 221.649290083441, 221.0748092348489, 206.21807821175264, 198.54723029743803, 192.23151987986802, 524.6007070052215, 386.9818211370279, 678.5092704971579, 793.7704897437761, 316.7056906082125, 2294.935472197242, 689.8182280017401, 602.5666347681587, 386.9870864095731, 339.8175480042593, 317.4549007098715, 268.67388161370684, 258.4419117402942, 249.10183121683147, 244.6914340415955, 237.31174879125976, 236.6019800669209, 234.86551504809051, 233.5810385771413, 228.58439631472098, 227.09334852391675, 216.31999159024872, 213.59631126806536, 210.2459522431081, 206.05637341562854, 205.86896043195603, 202.36906053761408, 199.74957616094477, 193.16016698577891, 192.38553512103874, 182.8454669711495, 180.12333201752008, 176.39883503176577, 173.70205047325075, 165.8140130616793, 359.2566543666307, 268.6513785072295, 348.0351193828858, 320.04616623335704, 312.8449604662861, 222.7668246392388, 266.8891502893559, 790.4362854330805, 220.25718844649322, 232.83856307998258, 257.3040970959442, 243.19259589972478, 696.0408949809157, 540.0959187925478, 491.768977460722, 484.0075039194419, 404.4800367716594, 403.2530446416019, 396.06062726461744, 391.55710567562494, 352.0488023813348, 343.42648057977607, 328.94938450065905, 315.3548452289144, 313.17428429416475, 285.0952388142471, 284.22132367850634, 273.62920171143327, 248.12456030719144, 244.3633457871844, 239.28984959536535, 227.06240607684418, 214.23584840574384, 212.0671645510868, 209.57892670849043, 208.3171382822742, 199.14483878953862, 197.85324285827454, 197.44111444114253, 195.65523159143808, 191.9104445969721, 191.83394284206992, 771.7660683580369, 354.9127024566664, 243.17843484072387, 199.3406331854411], \"Total\": [14209.0, 11179.0, 6371.0, 4895.0, 3919.0, 3689.0, 3976.0, 2295.0, 1899.0, 3108.0, 11924.0, 2200.0, 1647.0, 1435.0, 1429.0, 1902.0, 2206.0, 1068.0, 1349.0, 1041.0, 1069.0, 1097.0, 981.0, 955.0, 959.0, 947.0, 929.0, 909.0, 1206.0, 1084.0, 3976.9481300034226, 1084.0733212827838, 1011.3856897345696, 901.1602584731725, 878.1482609476703, 778.9513631811582, 683.6407472103, 642.2397827161234, 481.4007259617862, 478.2795193068906, 455.125340740084, 431.17192509027666, 406.3527127047427, 404.07428806293416, 370.6751750928904, 338.5296695587213, 315.18190665254144, 289.62516519939516, 287.33445059695805, 284.98431346118394, 258.62250093137925, 230.48823692643012, 220.80519077292456, 213.61171620841824, 208.3169760264415, 208.13900914775294, 207.12674107985353, 204.27061024674688, 199.11742961534128, 198.23443161996457, 6371.126885632745, 2200.3968691956575, 751.4950378144288, 362.65365449576746, 2206.4700821037964, 720.2896743188168, 1842.4554028351445, 758.235515013806, 11924.610023700865, 2889.3372302832713, 612.4046664234746, 1769.9403114914621, 4664.5209910452495, 15067.285761530587, 1647.57557937245, 2084.526194195345, 1154.9253095247816, 3389.458338993102, 1252.6706910305043, 2355.350282207806, 2368.162422356225, 2159.158717260028, 2596.704427706982, 4895.828265165093, 3689.5168368604072, 686.9194738829301, 667.3048550568788, 433.3953024551494, 427.1597882151331, 385.8293144973197, 380.0711267184722, 376.44697558021943, 335.74480468396945, 333.8660502372197, 307.1876870306907, 203.71608685417132, 202.78334783972045, 201.8897664639525, 200.35629273016212, 198.8310503787355, 195.85169606541638, 189.32261668018842, 188.92504247395178, 187.83179931306861, 186.90975953375843, 184.9465826496665, 184.7266001274446, 182.70019623043345, 172.24649682169408, 171.6116182658325, 166.4119617999738, 165.59543053654045, 164.07314023685336, 841.604332097272, 208.01453413477506, 607.6134188276623, 3108.173290134409, 533.2604822839156, 1497.0568684787283, 1712.5371828126783, 3389.458338993102, 449.7676887881394, 1601.9457588465768, 15067.285761530587, 11924.610023700865, 1182.4245437626569, 2183.085721117234, 2068.0544658829663, 2368.162422356225, 1902.1105979256868, 4664.5209910452495, 1556.1821858238695, 2092.689877728965, 2596.704427706982, 2159.158717260028, 1115.0585207355143, 14209.328794732752, 11179.695654110597, 695.6403377772585, 381.7062468241123, 323.1212146188677, 289.92517541970943, 274.5119516980316, 268.8789826323895, 249.80979844284641, 246.92777312336585, 191.9388377238052, 190.5088485320559, 187.64580850148093, 187.47154078070818, 185.93370160903328, 183.34893298885973, 178.6293040171237, 171.39120108477178, 168.97365378154703, 166.19700143104083, 162.88500701184844, 161.45160231431547, 158.56602302260055, 152.24827581765635, 148.99579120752153, 147.0383525291916, 146.38957566706867, 135.9493745218879, 135.8923417293652, 131.94257083829905, 526.2321831061278, 720.8116123671737, 619.7329182100285, 521.739393215498, 357.47020936702324, 295.8590241071299, 679.3621033818467, 378.82686553124415, 717.9133405752794, 2013.6242724557148, 601.630428555882, 809.8979088081044, 3001.3330351278237, 4664.5209910452495, 832.4834136193336, 2065.1920137129628, 2596.704427706982, 3919.5187457865068, 1647.994244111775, 1097.6789398267192, 901.0632503445737, 862.4880550152279, 764.5948161943288, 527.9985046456492, 438.54712194648266, 401.5803489126708, 386.46172405074884, 372.5176728759963, 358.51231153625423, 316.4088953167771, 284.73519372155414, 277.627270349347, 272.4768316364557, 268.7320268897024, 258.20535872110196, 246.7157864354313, 241.93938117476662, 231.33445447350078, 223.31112681991925, 222.99282315310694, 220.6346761215219, 212.06524097708407, 199.52344889700225, 188.7644622736669, 188.5697558733112, 175.92858270975756, 174.01131526876057, 1146.9489144102463, 791.8325717214865, 418.1336703209757, 564.0622610383949, 374.0987314969204, 720.5340731462372, 487.5641916585522, 11924.610023700865, 3001.3330351278237, 1993.2801706980213, 15067.285761530587, 2273.49797852668, 811.857467716167, 4664.5209910452495, 3389.458338993102, 1618.3428124419133, 1118.9496639056836, 2183.085721117234, 1069.9310624633003, 719.7139979731027, 489.01807412400717, 452.67964533149245, 451.07570621930995, 442.57567312982883, 410.79423306077854, 405.89339505618125, 403.68483828345927, 378.67804292709104, 370.1285202101137, 363.4849042149701, 361.5429544855728, 345.0265116633583, 341.16948016882753, 337.5345706591979, 328.99975834222204, 320.36460188777943, 292.80767528168025, 271.056023524252, 261.1362851810254, 254.77014473779852, 250.6001254714162, 232.97448815837288, 228.53149239711883, 227.64118461421492, 211.1109034002465, 211.05510751020677, 200.5870023573052, 195.3794575677986, 1429.6281589184334, 1349.841190061548, 692.6090381528629, 616.7769241136224, 292.3040643424568, 342.01038605842933, 2092.689877728965, 2084.526194195345, 15067.285761530587, 11924.610023700865, 3389.458338993102, 2368.162422356225, 2355.350282207806, 789.9570248325487, 724.8740030797303, 687.9977160228967, 590.6778821590609, 554.8109936554196, 527.9546956021413, 512.9712283841001, 503.9977826290457, 493.7146080839617, 464.80061105549356, 447.71654054271426, 405.66120425059324, 360.66199222155694, 326.06251391289584, 307.73665865196546, 300.09302715621686, 292.9543145837515, 267.6999730351043, 262.16785395288673, 258.49982749376824, 248.95024847843288, 236.00476084411684, 226.374815546488, 222.83091387077226, 218.76544893392807, 210.72123069127187, 206.21556938827854, 194.80796243892706, 191.56763688998012, 191.38315807799802, 682.2092849807278, 647.188413422453, 473.38283927699365, 732.9709700036149, 446.372543038055, 932.119043325588, 11924.610023700865, 6371.126885632745, 1173.513593004325, 3108.173290134409, 15067.285761530587, 2393.4964102621475, 3001.3330351278237, 4664.5209910452495, 865.9983814323588, 820.9570629285264, 511.4198952383666, 495.7314080957301, 473.1116600193414, 449.3685935184694, 420.68371155263276, 387.86370657627964, 331.0818821396952, 316.44318006784533, 313.85211719875025, 312.136232023996, 286.4995099632748, 283.4976656979649, 281.0582288380026, 250.0514230919107, 245.77152471538818, 244.66433920475257, 235.98335854957412, 235.0927515620837, 217.83960558657705, 211.10911759660624, 210.22063828326097, 209.0096409791713, 208.33533194241136, 202.4004771775413, 188.02872806779982, 187.9421364063005, 187.50475908327172, 184.31219571904188, 658.3949837486583, 480.065946359527, 652.8617031062531, 502.4080513207696, 435.74788120102653, 587.8099993306172, 15067.285761530587, 3108.173290134409, 2159.158717260028, 1178.1440272873651, 828.3009318686078, 1769.9403114914621, 909.2218767476348, 699.2952923922754, 523.3498672289174, 482.4790169641416, 463.83012145046365, 430.58677424478446, 428.1745910396567, 427.7669419124338, 423.6651555361482, 382.35358496832094, 325.20252213467296, 311.6069983449222, 300.9318240505689, 299.6977614604268, 292.48122379445545, 285.8528773456025, 274.50470691022247, 269.92476073238555, 263.7362883670087, 252.0657082735013, 238.66097269174503, 234.20818815817202, 229.25155991540242, 228.6771369194795, 224.51517747016177, 198.5407191901158, 196.50935766459912, 184.16111578700207, 183.2700237035832, 174.9943393207306, 592.3552843923734, 428.0382474412342, 226.244628051418, 350.12507701184296, 801.6978070333195, 355.26938773768575, 11924.610023700865, 15067.285761530587, 2596.704427706982, 4664.5209910452495, 1318.5063555182676, 1435.2709374207648, 740.9093036754002, 720.5428787348923, 666.2160320837963, 580.8169732366396, 517.1747377119842, 488.05118991492964, 417.3625694571049, 403.3844455231609, 386.4819913728034, 376.23777153434486, 354.95503807502354, 352.260632626812, 336.0863338522762, 334.5511136073384, 327.16578629320276, 303.60894045880667, 296.5178454202987, 293.5993695604488, 280.64480867000543, 266.32907597299965, 262.8700553916809, 256.33060348804986, 241.34862693115886, 232.9247051174811, 224.38649903050126, 221.50776046346485, 221.14323070168817, 218.28583002112273, 200.6913638005232, 507.05116824010076, 15067.285761530587, 11924.610023700865, 4664.5209910452495, 421.07631957716956, 1361.04284978491, 959.2899929458603, 698.4231416392192, 506.5517667924444, 492.89649091005913, 435.4513484507502, 382.9877151899616, 365.4857985196554, 358.57285232859823, 350.8862207659349, 315.3671345523874, 310.2898606859745, 302.467945016833, 298.4245130981879, 292.50611332248064, 285.1149035573797, 284.5448832358439, 272.050493660736, 259.6744608858338, 258.9796576570814, 245.07855519326222, 242.4328575260066, 238.94901190148602, 231.13723918173793, 229.51694219973072, 225.8382086469107, 223.67910386313434, 220.9752577641469, 217.60909722132922, 210.30711406402625, 190.28786513236298, 832.1719079974946, 1206.1963675375016, 645.7091803631934, 735.916954174077, 715.5775720892941, 1181.3435215103093, 355.9890938971423, 2068.0544658829663, 3001.3330351278237, 11924.610023700865, 15067.285761530587, 1041.925044436272, 651.9564854322742, 559.6210644590379, 435.37952752360536, 432.25668804829036, 388.92196878147166, 377.63660148506597, 377.5969354492762, 327.8028683340369, 315.1369933061219, 310.8357550644426, 302.9463504792645, 299.6342141311575, 295.01397062870427, 290.6125834725365, 267.68592782126865, 251.7041153031472, 251.32373277729832, 236.78617537965846, 216.2943524799653, 214.9147167751729, 211.32167602592318, 210.88465648279382, 187.6431991867207, 185.75564145881617, 185.71708222616707, 184.65262828038982, 182.0727484182354, 180.99589604131643, 167.15230421289297, 222.1980270982183, 801.9045232337311, 315.7740729520418, 395.8859645864046, 243.45843858081554, 1154.9253095247816, 706.9669390615992, 3108.173290134409, 2092.689877728965, 15067.285761530587, 11924.610023700865, 2889.3372302832713, 364.0278797373317, 1068.3491139688967, 814.2897795127709, 675.9852395550763, 471.6572754454202, 471.1461591921926, 459.10715694876035, 438.05401595529383, 331.680445971575, 320.6263961794402, 319.7834874353094, 294.8764370272199, 285.07736336733296, 282.07491255380216, 270.8333016697902, 263.6107932591837, 246.94274665787108, 245.01108171604568, 244.82468144025734, 234.35470072785023, 226.93271053707073, 223.13271210041532, 195.12387180966235, 192.7513646347509, 188.61033182525495, 186.85342551325098, 183.98033872345596, 180.11371614032265, 179.11656395840026, 178.17939471552495, 176.1456002812766, 330.65910772934706, 721.631763117154, 770.0181143948889, 878.315816197473, 1392.571085734014, 789.6926237858654, 11924.610023700865, 15067.285761530587, 245.43745364572933, 593.9475066052263, 569.7727030110183, 519.7788462592447, 480.7656346269209, 475.64899106068367, 453.7983122835372, 357.51112338773385, 347.64564814759314, 319.3263464383296, 318.573896250353, 317.0358965678906, 314.7336239351265, 312.8342772416017, 301.2358595806611, 298.80415648244326, 296.67614782394986, 285.04600353676994, 267.7506085154639, 266.9392880559099, 262.76195631439737, 249.7749618603797, 238.11484000730442, 229.75705478366544, 229.2286171597431, 228.62443858092556, 218.85226131913277, 214.55373519378617, 206.76658644236835, 206.41998467420578, 203.58579843683574, 737.8967963578455, 317.8891269289472, 1224.3286555820612, 436.175360386848, 392.8231026262463, 431.5509289486176, 462.17141193756174, 15067.285761530587, 2065.1920137129628, 3001.3330351278237, 855.9827183278646, 622.8400533686898, 515.3695965590506, 464.169421564884, 444.16978582612785, 408.3736591031324, 358.0822113791129, 354.6769123885867, 346.07048015483815, 342.5330739183201, 336.2634235925269, 329.4688486291315, 324.2928629280641, 320.1067338556229, 307.18649533109937, 293.3484266079172, 292.74058781292075, 290.22021341929445, 289.12813566839435, 274.4384446636329, 272.2079833020013, 258.17142311601225, 254.50512746098232, 253.74869556413788, 246.79065055677827, 242.82240807657516, 239.72256025758728, 235.5408391679953, 232.75400221113225, 223.34996752072732, 832.4834136193336, 456.3683050968921, 809.8979088081044, 2206.4700821037964, 364.6834507035278, 2273.49797852668, 15067.285761530587, 660.1869516335244, 955.1623853483447, 733.0287865040054, 648.2464263999449, 573.9979201652889, 561.3000255947336, 539.6938546139576, 491.89838812461517, 452.64081054060506, 415.9597675452582, 402.1795684169759, 368.5218773768908, 349.84704082050206, 336.060217479377, 322.13513829001, 307.48323210338623, 282.25836077087075, 255.42743482428222, 253.68743119341937, 253.36148931463393, 249.8628555534297, 240.4609550449397, 232.111604791606, 226.43028196768392, 224.14123384397664, 223.73420547861159, 220.28305617382443, 219.90551976596703, 215.29764735389313, 213.72184987042834, 206.65851511630152, 700.1984736371229, 494.28702238662396, 15067.285761530587, 4664.5209910452495, 2013.6242724557148, 981.736837031881, 947.9114433373294, 452.52345591051755, 421.4602492044638, 419.8823427415893, 320.60454264725274, 312.7662039528466, 302.6653341045203, 300.03055313451756, 292.42916215791905, 276.7292327883295, 276.0175607650477, 275.05170925584, 273.33858794414937, 267.89725363207947, 263.2322650046464, 254.95922769400266, 250.77461277450277, 237.87949175780386, 236.7418242518024, 233.8253802163435, 232.77430779822717, 232.1221180935002, 218.39566242073914, 218.02727339320958, 212.01316819630944, 211.77748559565475, 199.64409597923927, 187.94848052248497, 186.0315880997054, 429.66729808657203, 363.64230388821534, 374.6440824776496, 2065.1920137129628, 15067.285761530587, 11924.610023700865, 764.6887726265425, 1899.5686227271915, 805.522673439208, 673.1644150908263, 519.5686557254751, 428.897485713501, 425.48083987228915, 401.7808089594344, 349.2313317381859, 325.9006149443831, 310.42809643159325, 295.1276412579275, 279.3987163408306, 271.35008706273726, 249.01900227294547, 247.86970544983313, 243.19397081819903, 241.49547448565755, 239.38807443203945, 227.26313239424348, 224.82258703795253, 220.89726819241102, 219.3517920992856, 204.6262467984992, 202.47213232179868, 199.96905413237033, 198.88854342570914, 190.6749974179931, 189.64941537765228, 185.71849690210507, 185.6284888415857, 1902.1105979256868, 267.73568735118556, 410.1009637540671, 549.8909164911843, 307.0583237396132, 778.3464409586875, 492.8214263779473, 15067.285761530587, 842.6604645254321, 929.3812088597589, 802.6300276854486, 770.4864379153986, 738.0990505984041, 668.6595673641344, 477.34213736712337, 469.36231680996656, 449.4570706840511, 420.9676413518857, 415.1340067346054, 341.7381170586826, 330.59502979784486, 318.23858189458747, 309.0657315304167, 305.6640140954655, 288.617826733066, 286.0062953516218, 285.75087715405573, 279.35039378679016, 270.1509818221741, 266.34907248181247, 261.7941676405153, 249.16177661704737, 245.3336937515716, 243.59035156520193, 222.53189647319985, 221.95741562460776, 207.1006846015115, 199.42983668719688, 193.11412626962687, 795.557047125696, 591.1877411168889, 2065.1920137129628, 15067.285761530587, 1756.329960485989, 2295.8192619932424, 690.7020177977404, 603.450424564159, 387.8708762055734, 340.7013378002596, 318.33869050587174, 269.5576714097071, 259.32570153629445, 249.98562101283176, 245.5752238375958, 238.19553858726005, 237.4857698629212, 235.7493048440908, 234.4648283731416, 229.46818611072126, 227.97713831991703, 217.203781386249, 214.48010106406565, 211.12974203910838, 206.94016321162883, 206.7527502279563, 203.25285033361436, 200.63336595694506, 194.0439567817792, 193.26932491703903, 183.72926547770814, 181.00712181352037, 177.28262482776606, 174.58584026925104, 166.6978028576796, 434.1465572530592, 311.45594282015986, 472.18030977102137, 428.0511006845609, 512.0014456301968, 267.5056205921072, 505.32438062740175, 15067.285761530587, 295.0303487298297, 601.630428555882, 2065.1920137129628, 1712.5371828126783, 696.9245210290806, 540.9795448407126, 492.65260350888684, 484.89112996760673, 405.36366281982424, 404.13667068976673, 396.9442533127823, 392.4407317237898, 352.9324284332558, 344.3101066279409, 329.8330105488239, 316.23847127707927, 314.0579103423296, 285.97886486241197, 285.1049497266712, 274.5128277595981, 249.0081863553563, 245.24697183534923, 240.1734756435302, 227.94603212500903, 215.11947445390868, 212.95079059925163, 210.46255275665527, 209.20076433043903, 200.02846483770347, 198.73686890643938, 198.32474048930737, 196.53885763960292, 192.79407064513694, 192.71756889023476, 15067.285761530587, 11924.610023700865, 3001.3330351278237, 811.857467716167], \"Category\": [\"Default\", \"Default\", \"Default\", \"Default\", \"Default\", \"Default\", \"Default\", \"Default\", \"Default\", \"Default\", \"Default\", \"Default\", \"Default\", \"Default\", \"Default\", \"Default\", \"Default\", \"Default\", \"Default\", \"Default\", \"Default\", \"Default\", \"Default\", \"Default\", \"Default\", \"Default\", \"Default\", \"Default\", \"Default\", \"Default\", \"Topic1\", \"Topic1\", \"Topic1\", \"Topic1\", \"Topic1\", \"Topic1\", \"Topic1\", \"Topic1\", \"Topic1\", \"Topic1\", \"Topic1\", \"Topic1\", \"Topic1\", \"Topic1\", \"Topic1\", \"Topic1\", \"Topic1\", \"Topic1\", \"Topic1\", \"Topic1\", \"Topic1\", \"Topic1\", \"Topic1\", \"Topic1\", \"Topic1\", \"Topic1\", \"Topic1\", \"Topic1\", \"Topic1\", \"Topic1\", \"Topic1\", \"Topic1\", \"Topic1\", \"Topic1\", \"Topic1\", \"Topic1\", \"Topic1\", \"Topic1\", \"Topic1\", \"Topic1\", \"Topic1\", \"Topic1\", \"Topic1\", \"Topic1\", \"Topic1\", \"Topic1\", \"Topic1\", \"Topic1\", \"Topic1\", \"Topic1\", \"Topic1\", \"Topic1\", \"Topic1\", \"Topic2\", \"Topic2\", \"Topic2\", \"Topic2\", \"Topic2\", \"Topic2\", \"Topic2\", \"Topic2\", \"Topic2\", \"Topic2\", \"Topic2\", \"Topic2\", \"Topic2\", \"Topic2\", \"Topic2\", \"Topic2\", \"Topic2\", \"Topic2\", \"Topic2\", \"Topic2\", \"Topic2\", \"Topic2\", \"Topic2\", \"Topic2\", \"Topic2\", \"Topic2\", \"Topic2\", \"Topic2\", \"Topic2\", \"Topic2\", \"Topic2\", \"Topic2\", \"Topic2\", \"Topic2\", \"Topic2\", \"Topic2\", \"Topic2\", \"Topic2\", \"Topic2\", \"Topic2\", \"Topic2\", \"Topic2\", \"Topic2\", \"Topic2\", \"Topic2\", \"Topic2\", \"Topic2\", \"Topic2\", \"Topic2\", \"Topic2\", \"Topic2\", \"Topic2\", \"Topic2\", \"Topic3\", \"Topic3\", \"Topic3\", \"Topic3\", \"Topic3\", \"Topic3\", \"Topic3\", \"Topic3\", \"Topic3\", \"Topic3\", \"Topic3\", \"Topic3\", \"Topic3\", \"Topic3\", \"Topic3\", \"Topic3\", \"Topic3\", \"Topic3\", \"Topic3\", \"Topic3\", \"Topic3\", \"Topic3\", \"Topic3\", \"Topic3\", \"Topic3\", \"Topic3\", \"Topic3\", \"Topic3\", \"Topic3\", \"Topic3\", \"Topic3\", \"Topic3\", \"Topic3\", \"Topic3\", \"Topic3\", \"Topic3\", \"Topic3\", \"Topic3\", \"Topic3\", \"Topic3\", \"Topic3\", \"Topic3\", \"Topic3\", \"Topic3\", \"Topic3\", \"Topic3\", \"Topic3\", \"Topic4\", \"Topic4\", \"Topic4\", \"Topic4\", \"Topic4\", \"Topic4\", \"Topic4\", \"Topic4\", \"Topic4\", \"Topic4\", \"Topic4\", \"Topic4\", \"Topic4\", \"Topic4\", \"Topic4\", \"Topic4\", \"Topic4\", \"Topic4\", \"Topic4\", \"Topic4\", \"Topic4\", \"Topic4\", \"Topic4\", \"Topic4\", \"Topic4\", \"Topic4\", \"Topic4\", \"Topic4\", \"Topic4\", \"Topic4\", \"Topic4\", \"Topic4\", \"Topic4\", \"Topic4\", \"Topic4\", \"Topic4\", \"Topic4\", \"Topic4\", \"Topic4\", \"Topic4\", \"Topic4\", \"Topic4\", \"Topic4\", \"Topic4\", \"Topic4\", \"Topic4\", \"Topic4\", \"Topic4\", \"Topic5\", \"Topic5\", \"Topic5\", \"Topic5\", \"Topic5\", \"Topic5\", \"Topic5\", \"Topic5\", \"Topic5\", \"Topic5\", \"Topic5\", \"Topic5\", \"Topic5\", \"Topic5\", \"Topic5\", \"Topic5\", \"Topic5\", \"Topic5\", \"Topic5\", \"Topic5\", \"Topic5\", \"Topic5\", \"Topic5\", \"Topic5\", \"Topic5\", \"Topic5\", \"Topic5\", \"Topic5\", \"Topic5\", \"Topic5\", \"Topic5\", \"Topic5\", \"Topic5\", \"Topic5\", \"Topic5\", \"Topic5\", \"Topic5\", \"Topic5\", \"Topic5\", \"Topic5\", \"Topic5\", \"Topic5\", \"Topic5\", \"Topic6\", \"Topic6\", \"Topic6\", \"Topic6\", \"Topic6\", \"Topic6\", \"Topic6\", \"Topic6\", \"Topic6\", \"Topic6\", \"Topic6\", \"Topic6\", \"Topic6\", \"Topic6\", \"Topic6\", \"Topic6\", \"Topic6\", \"Topic6\", \"Topic6\", \"Topic6\", \"Topic6\", \"Topic6\", \"Topic6\", \"Topic6\", \"Topic6\", \"Topic6\", \"Topic6\", \"Topic6\", \"Topic6\", \"Topic6\", \"Topic6\", \"Topic6\", \"Topic6\", \"Topic6\", \"Topic6\", \"Topic6\", \"Topic6\", \"Topic6\", \"Topic6\", \"Topic6\", \"Topic6\", \"Topic6\", \"Topic6\", \"Topic6\", \"Topic7\", \"Topic7\", \"Topic7\", \"Topic7\", \"Topic7\", \"Topic7\", \"Topic7\", \"Topic7\", \"Topic7\", \"Topic7\", \"Topic7\", \"Topic7\", \"Topic7\", \"Topic7\", \"Topic7\", \"Topic7\", \"Topic7\", \"Topic7\", \"Topic7\", \"Topic7\", \"Topic7\", \"Topic7\", \"Topic7\", \"Topic7\", \"Topic7\", \"Topic7\", \"Topic7\", \"Topic7\", \"Topic7\", \"Topic7\", \"Topic7\", \"Topic7\", \"Topic7\", \"Topic7\", \"Topic7\", \"Topic7\", \"Topic7\", \"Topic7\", \"Topic7\", \"Topic7\", \"Topic7\", \"Topic7\", \"Topic8\", \"Topic8\", \"Topic8\", \"Topic8\", \"Topic8\", \"Topic8\", \"Topic8\", \"Topic8\", \"Topic8\", \"Topic8\", \"Topic8\", \"Topic8\", \"Topic8\", \"Topic8\", \"Topic8\", \"Topic8\", \"Topic8\", \"Topic8\", \"Topic8\", \"Topic8\", \"Topic8\", \"Topic8\", \"Topic8\", \"Topic8\", \"Topic8\", \"Topic8\", \"Topic8\", \"Topic8\", \"Topic8\", \"Topic8\", \"Topic8\", \"Topic8\", \"Topic8\", \"Topic8\", \"Topic8\", \"Topic8\", \"Topic8\", \"Topic8\", \"Topic8\", \"Topic8\", \"Topic8\", \"Topic9\", \"Topic9\", \"Topic9\", \"Topic9\", \"Topic9\", \"Topic9\", \"Topic9\", \"Topic9\", \"Topic9\", \"Topic9\", \"Topic9\", \"Topic9\", \"Topic9\", \"Topic9\", \"Topic9\", \"Topic9\", \"Topic9\", \"Topic9\", \"Topic9\", \"Topic9\", \"Topic9\", \"Topic9\", \"Topic9\", \"Topic9\", \"Topic9\", \"Topic9\", \"Topic9\", \"Topic9\", \"Topic9\", \"Topic9\", \"Topic9\", \"Topic9\", \"Topic9\", \"Topic9\", \"Topic9\", \"Topic9\", \"Topic10\", \"Topic10\", \"Topic10\", \"Topic10\", \"Topic10\", \"Topic10\", \"Topic10\", \"Topic10\", \"Topic10\", \"Topic10\", \"Topic10\", \"Topic10\", \"Topic10\", \"Topic10\", \"Topic10\", \"Topic10\", \"Topic10\", \"Topic10\", \"Topic10\", \"Topic10\", \"Topic10\", \"Topic10\", \"Topic10\", \"Topic10\", \"Topic10\", \"Topic10\", \"Topic10\", \"Topic10\", \"Topic10\", \"Topic10\", \"Topic10\", \"Topic10\", \"Topic10\", \"Topic10\", \"Topic10\", \"Topic10\", \"Topic10\", \"Topic10\", \"Topic10\", \"Topic10\", \"Topic10\", \"Topic11\", \"Topic11\", \"Topic11\", \"Topic11\", \"Topic11\", \"Topic11\", \"Topic11\", \"Topic11\", \"Topic11\", \"Topic11\", \"Topic11\", \"Topic11\", \"Topic11\", \"Topic11\", \"Topic11\", \"Topic11\", \"Topic11\", \"Topic11\", \"Topic11\", \"Topic11\", \"Topic11\", \"Topic11\", \"Topic11\", \"Topic11\", \"Topic11\", \"Topic11\", \"Topic11\", \"Topic11\", \"Topic11\", \"Topic11\", \"Topic11\", \"Topic11\", \"Topic11\", \"Topic11\", \"Topic11\", \"Topic11\", \"Topic11\", \"Topic11\", \"Topic11\", \"Topic11\", \"Topic11\", \"Topic11\", \"Topic11\", \"Topic12\", \"Topic12\", \"Topic12\", \"Topic12\", \"Topic12\", \"Topic12\", \"Topic12\", \"Topic12\", \"Topic12\", \"Topic12\", \"Topic12\", \"Topic12\", \"Topic12\", \"Topic12\", \"Topic12\", \"Topic12\", \"Topic12\", \"Topic12\", \"Topic12\", \"Topic12\", \"Topic12\", \"Topic12\", \"Topic12\", \"Topic12\", \"Topic12\", \"Topic12\", \"Topic12\", \"Topic12\", \"Topic12\", \"Topic12\", \"Topic12\", \"Topic12\", \"Topic12\", \"Topic12\", \"Topic12\", \"Topic12\", \"Topic12\", \"Topic12\", \"Topic12\", \"Topic13\", \"Topic13\", \"Topic13\", \"Topic13\", \"Topic13\", \"Topic13\", \"Topic13\", \"Topic13\", \"Topic13\", \"Topic13\", \"Topic13\", \"Topic13\", \"Topic13\", \"Topic13\", \"Topic13\", \"Topic13\", \"Topic13\", \"Topic13\", \"Topic13\", \"Topic13\", \"Topic13\", \"Topic13\", \"Topic13\", \"Topic13\", \"Topic13\", \"Topic13\", \"Topic13\", \"Topic13\", \"Topic13\", \"Topic13\", \"Topic13\", \"Topic13\", \"Topic13\", \"Topic13\", \"Topic13\", \"Topic13\", \"Topic13\", \"Topic13\", \"Topic13\", \"Topic13\", \"Topic14\", \"Topic14\", \"Topic14\", \"Topic14\", \"Topic14\", \"Topic14\", \"Topic14\", \"Topic14\", \"Topic14\", \"Topic14\", \"Topic14\", \"Topic14\", \"Topic14\", \"Topic14\", \"Topic14\", \"Topic14\", \"Topic14\", \"Topic14\", \"Topic14\", \"Topic14\", \"Topic14\", \"Topic14\", \"Topic14\", \"Topic14\", \"Topic14\", \"Topic14\", \"Topic14\", \"Topic14\", \"Topic14\", \"Topic14\", \"Topic14\", \"Topic14\", \"Topic14\", \"Topic14\", \"Topic14\", \"Topic14\", \"Topic14\", \"Topic14\", \"Topic15\", \"Topic15\", \"Topic15\", \"Topic15\", \"Topic15\", \"Topic15\", \"Topic15\", \"Topic15\", \"Topic15\", \"Topic15\", \"Topic15\", \"Topic15\", \"Topic15\", \"Topic15\", \"Topic15\", \"Topic15\", \"Topic15\", \"Topic15\", \"Topic15\", \"Topic15\", \"Topic15\", \"Topic15\", \"Topic15\", \"Topic15\", \"Topic15\", \"Topic15\", \"Topic15\", \"Topic15\", \"Topic15\", \"Topic15\", \"Topic15\", \"Topic15\", \"Topic15\", \"Topic15\", \"Topic15\", \"Topic16\", \"Topic16\", \"Topic16\", \"Topic16\", \"Topic16\", \"Topic16\", \"Topic16\", \"Topic16\", \"Topic16\", \"Topic16\", \"Topic16\", \"Topic16\", \"Topic16\", \"Topic16\", \"Topic16\", \"Topic16\", \"Topic16\", \"Topic16\", \"Topic16\", \"Topic16\", \"Topic16\", \"Topic16\", \"Topic16\", \"Topic16\", \"Topic16\", \"Topic16\", \"Topic16\", \"Topic16\", \"Topic16\", \"Topic16\", \"Topic16\", \"Topic16\", \"Topic16\", \"Topic16\", \"Topic16\", \"Topic16\", \"Topic16\", \"Topic17\", \"Topic17\", \"Topic17\", \"Topic17\", \"Topic17\", \"Topic17\", \"Topic17\", \"Topic17\", \"Topic17\", \"Topic17\", \"Topic17\", \"Topic17\", \"Topic17\", \"Topic17\", \"Topic17\", \"Topic17\", \"Topic17\", \"Topic17\", \"Topic17\", \"Topic17\", \"Topic17\", \"Topic17\", \"Topic17\", \"Topic17\", \"Topic17\", \"Topic17\", \"Topic17\", \"Topic17\", \"Topic17\", \"Topic17\", \"Topic17\", \"Topic17\", \"Topic17\", \"Topic17\", \"Topic17\", \"Topic17\", \"Topic17\", \"Topic17\", \"Topic17\", \"Topic18\", \"Topic18\", \"Topic18\", \"Topic18\", \"Topic18\", \"Topic18\", \"Topic18\", \"Topic18\", \"Topic18\", \"Topic18\", \"Topic18\", \"Topic18\", \"Topic18\", \"Topic18\", \"Topic18\", \"Topic18\", \"Topic18\", \"Topic18\", \"Topic18\", \"Topic18\", \"Topic18\", \"Topic18\", \"Topic18\", \"Topic18\", \"Topic18\", \"Topic18\", \"Topic18\", \"Topic18\", \"Topic18\", \"Topic18\", \"Topic18\", \"Topic18\", \"Topic18\", \"Topic18\", \"Topic18\", \"Topic19\", \"Topic19\", \"Topic19\", \"Topic19\", \"Topic19\", \"Topic19\", \"Topic19\", \"Topic19\", \"Topic19\", \"Topic19\", \"Topic19\", \"Topic19\", \"Topic19\", \"Topic19\", \"Topic19\", \"Topic19\", \"Topic19\", \"Topic19\", \"Topic19\", \"Topic19\", \"Topic19\", \"Topic19\", \"Topic19\", \"Topic19\", \"Topic19\", \"Topic19\", \"Topic19\", \"Topic19\", \"Topic19\", \"Topic19\", \"Topic19\", \"Topic19\", \"Topic19\", \"Topic19\", \"Topic19\", \"Topic19\", \"Topic19\", \"Topic19\", \"Topic19\", \"Topic19\", \"Topic19\", \"Topic19\", \"Topic20\", \"Topic20\", \"Topic20\", \"Topic20\", \"Topic20\", \"Topic20\", \"Topic20\", \"Topic20\", \"Topic20\", \"Topic20\", \"Topic20\", \"Topic20\", \"Topic20\", \"Topic20\", \"Topic20\", \"Topic20\", \"Topic20\", \"Topic20\", \"Topic20\", \"Topic20\", \"Topic20\", \"Topic20\", \"Topic20\", \"Topic20\", \"Topic20\", \"Topic20\", \"Topic20\", \"Topic20\", \"Topic20\", \"Topic20\", \"Topic20\", \"Topic20\", \"Topic20\", \"Topic20\"], \"logprob\": [30.0, 29.0, 28.0, 27.0, 26.0, 25.0, 24.0, 23.0, 22.0, 21.0, 20.0, 19.0, 18.0, 17.0, 16.0, 15.0, 14.0, 13.0, 12.0, 11.0, 10.0, 9.0, 8.0, 7.0, 6.0, 5.0, 4.0, 3.0, 2.0, 1.0, -3.0753, -4.3757, -4.4451, -4.5606, -4.5865, -4.7065, -4.8372, -4.8998, -5.1885, -5.195, -5.2447, -5.2989, -5.3583, -5.3641, -5.4504, -5.5413, -5.613, -5.6978, -5.7058, -5.714, -5.8114, -5.927, -5.9701, -6.0033, -6.0285, -6.0294, -6.0343, -6.0482, -6.0739, -6.0784, -2.7049, -3.7816, -4.8698, -5.5367, -4.0314, -4.9965, -4.2927, -5.0453, -3.2724, -4.317, -5.2777, -4.795, -4.3634, -3.8093, -4.943, -4.8662, -5.1132, -4.8265, -5.1096, -4.9807, -4.9845, -5.0452, -5.1739, -2.6178, -2.9007, -4.5828, -4.6118, -5.0441, -5.0586, -5.1606, -5.1757, -5.1853, -5.3, -5.3056, -5.3891, -5.8014, -5.806, -5.8104, -5.8181, -5.8257, -5.8409, -5.875, -5.8771, -5.8829, -5.8878, -5.8985, -5.8997, -5.9107, -5.97, -5.9737, -6.0046, -6.0095, -6.0188, -4.541, -5.8119, -4.9103, -3.6389, -5.1829, -4.5305, -4.4689, -4.1994, -5.3776, -4.7787, -3.6917, -3.8643, -4.9899, -4.7574, -4.9669, -4.9506, -5.0392, -4.7631, -5.1356, -5.0482, -5.0565, -5.1441, -5.2946, -1.537, -1.7768, -4.555, -5.1563, -5.3233, -5.432, -5.4868, -5.5076, -5.5815, -5.5931, -5.8461, -5.8536, -5.8688, -5.8697, -5.878, -5.8921, -5.9183, -5.9598, -5.9741, -5.9908, -6.011, -6.0199, -6.038, -6.0789, -6.1007, -6.114, -6.1184, -6.1929, -6.1933, -6.223, -5.0588, -4.7997, -4.941, -5.1029, -5.4717, -5.6654, -5.1977, -5.6577, -5.4543, -5.156, -5.6663, -5.6044, -5.5024, -5.5555, -5.7545, -5.8251, -5.8332, -2.7865, -3.6532, -4.0598, -4.2574, -4.3012, -4.4218, -4.7926, -4.9785, -5.0668, -5.1052, -5.1421, -5.1805, -5.3057, -5.4115, -5.4369, -5.4557, -5.4696, -5.5096, -5.5553, -5.5749, -5.6199, -5.6554, -5.6568, -5.6675, -5.7073, -5.7685, -5.8242, -5.8252, -5.8949, -5.906, -4.2803, -4.6561, -5.1891, -4.9821, -5.3509, -4.9426, -5.2045, -3.6049, -4.3099, -4.5992, -3.8313, -4.8178, -5.1861, -4.73, -4.8764, -5.1735, -5.2728, -5.3324, -3.9274, -4.3243, -4.7113, -4.7887, -4.7922, -4.8113, -4.886, -4.898, -4.9035, -4.9675, -4.9904, -5.0086, -5.014, -5.0608, -5.0721, -5.0828, -5.1085, -5.1352, -5.2254, -5.3028, -5.3402, -5.365, -5.3816, -5.4548, -5.4741, -5.478, -5.5537, -5.554, -5.6051, -5.6315, -3.6416, -3.9758, -4.577, -4.7108, -5.3193, -5.2746, -4.4683, -4.5143, -3.8448, -4.0444, -5.0182, -5.1245, -5.1715, -4.196, -4.2821, -4.3343, -4.4871, -4.5498, -4.5995, -4.6284, -4.646, -4.6667, -4.7271, -4.7647, -4.8635, -4.9814, -5.0825, -5.1405, -5.1657, -5.1899, -5.2803, -5.3012, -5.3154, -5.3532, -5.4068, -5.4486, -5.4644, -5.4829, -5.5205, -5.5422, -5.5994, -5.6162, -5.6172, -4.5023, -4.7658, -4.9896, -4.7318, -5.0781, -4.9072, -4.0769, -4.4508, -4.9556, -4.7222, -4.4068, -4.9446, -4.9702, -5.1871, -4.0611, -4.1146, -4.5885, -4.6197, -4.6665, -4.7181, -4.7842, -4.8656, -5.0243, -5.0696, -5.0779, -5.0834, -5.1693, -5.1799, -5.1886, -5.3059, -5.3232, -5.3277, -5.364, -5.3678, -5.4443, -5.4758, -5.48, -5.4858, -5.4891, -5.5181, -5.5921, -5.5926, -5.5949, -5.6122, -4.3512, -4.8737, -4.6635, -4.9551, -5.0944, -5.0001, -3.8776, -4.7297, -5.0038, -5.1474, -5.291, -5.3424, -3.9903, -4.2531, -4.5434, -4.6248, -4.6643, -4.7388, -4.7444, -4.7454, -4.7551, -4.8579, -5.0202, -5.063, -5.098, -5.1021, -5.1265, -5.1495, -5.1902, -5.2071, -5.2303, -5.2757, -5.3306, -5.3495, -5.371, -5.3735, -5.3919, -5.5154, -5.5257, -5.5909, -5.5958, -5.6422, -4.6766, -5.0468, -5.4687, -5.2241, -4.8057, -5.2519, -4.4397, -4.6361, -5.1006, -5.0936, -5.3176, -3.5217, -4.1835, -4.2114, -4.2899, -4.4273, -4.5435, -4.6016, -4.7583, -4.7925, -4.8354, -4.8623, -4.9207, -4.9283, -4.9754, -4.98, -5.0024, -5.0773, -5.101, -5.111, -5.1562, -5.2088, -5.2219, -5.2472, -5.3076, -5.3433, -5.3807, -5.3937, -5.3954, -5.4084, -5.4928, -4.943, -4.2208, -4.7348, -5.2381, -5.3626, -5.3608, -3.9154, -4.2331, -4.5548, -4.5822, -4.7063, -4.835, -4.8819, -4.901, -4.9228, -5.0298, -5.046, -5.0716, -5.0851, -5.1052, -5.1309, -5.1329, -5.178, -5.2247, -5.2274, -5.2827, -5.2936, -5.3082, -5.3415, -5.3486, -5.3648, -5.3744, -5.3867, -5.4021, -5.4363, -5.5368, -4.312, -4.0426, -4.765, -4.7287, -4.7651, -4.5211, -5.1395, -4.3465, -4.7369, -4.5308, -4.6468, -3.8313, -4.3007, -4.4536, -4.7051, -4.7123, -4.8182, -4.8477, -4.8478, -4.9896, -5.0291, -5.0429, -5.0687, -5.0797, -5.0953, -5.1104, -5.1928, -5.2546, -5.2561, -5.3159, -5.4068, -5.4132, -5.4301, -5.4322, -5.5495, -5.5596, -5.5599, -5.5656, -5.5798, -5.5857, -5.6657, -5.382, -4.3992, -5.1857, -5.2092, -5.4403, -4.8003, -5.0658, -4.7044, -4.92, -4.6237, -4.807, -5.0937, -5.3504, -3.8046, -4.0765, -4.2628, -4.6233, -4.6244, -4.6503, -4.6974, -4.9762, -5.0102, -5.0128, -5.0941, -5.128, -5.1387, -5.1795, -5.2066, -5.2721, -5.28, -5.2808, -5.3246, -5.3569, -5.3739, -5.5086, -5.5209, -5.5427, -5.5521, -5.5677, -5.589, -5.5946, -5.5999, -5.6114, -5.0857, -4.4742, -4.5984, -4.6312, -4.6448, -5.0303, -4.2532, -4.2042, -5.5056, -4.3841, -4.4258, -4.5177, -4.5959, -4.6066, -4.6537, -4.8927, -4.9208, -5.006, -5.0084, -5.0132, -5.0205, -5.0266, -5.0645, -5.0726, -5.0798, -5.1199, -5.1827, -5.1857, -5.2016, -5.2524, -5.3004, -5.3363, -5.3386, -5.3412, -5.3851, -5.405, -5.4421, -5.4438, -5.4577, -4.3612, -5.112, -4.2157, -4.9419, -5.0457, -5.1618, -5.1541, -4.3838, -5.0563, -5.233, -4.0137, -4.332, -4.5217, -4.6266, -4.6707, -4.7549, -4.8866, -4.8962, -4.9208, -4.9311, -4.9496, -4.9701, -4.986, -4.999, -5.0403, -5.0866, -5.0886, -5.0973, -5.1011, -5.1534, -5.1616, -5.2147, -5.2291, -5.232, -5.26, -5.2762, -5.2891, -5.3068, -5.3187, -5.3601, -4.3315, -4.8761, -4.709, -4.8533, -5.2103, -5.0777, -5.0568, -5.1974, -3.8959, -4.1608, -4.2839, -4.4057, -4.4281, -4.4674, -4.5603, -4.6437, -4.7283, -4.7621, -4.8497, -4.9018, -4.9421, -4.9846, -5.0313, -5.1171, -5.2173, -5.2242, -5.2255, -5.2394, -5.2779, -5.3134, -5.3383, -5.3485, -5.3503, -5.3659, -5.3676, -5.3889, -5.3963, -5.43, -4.9768, -5.2125, -4.7891, -4.992, -5.2967, -3.8661, -3.9012, -4.6416, -4.7129, -4.7167, -4.9871, -5.0119, -5.0448, -5.0536, -5.0793, -5.1347, -5.1373, -5.1408, -5.1471, -5.1672, -5.1849, -5.2169, -5.2335, -5.2865, -5.2913, -5.3037, -5.3083, -5.3111, -5.3723, -5.374, -5.4021, -5.4032, -5.4624, -5.5231, -5.5334, -4.8693, -5.0647, -5.1389, -5.0598, -4.9194, -5.1512, -5.3293, -3.2045, -4.063, -4.2428, -4.5021, -4.6943, -4.7023, -4.7597, -4.9002, -4.9696, -5.0183, -5.069, -5.124, -5.1533, -5.2395, -5.2441, -5.2632, -5.2702, -5.279, -5.3312, -5.3421, -5.3597, -5.3668, -5.4366, -5.4472, -5.4597, -5.4651, -5.5075, -5.5129, -5.534, -5.5345, -3.8076, -5.3212, -5.0843, -4.9362, -5.289, -4.9976, -5.2617, -4.951, -5.2791, -3.9093, -4.0561, -4.097, -4.14, -4.2389, -4.5765, -4.5934, -4.6368, -4.7024, -4.7164, -4.9114, -4.9447, -4.9829, -5.0122, -5.0233, -5.0808, -5.09, -5.0909, -5.1136, -5.1472, -5.1614, -5.1787, -5.2283, -5.2439, -5.251, -5.3418, -5.3444, -5.4139, -5.4519, -5.4842, -4.4802, -4.7845, -4.223, -4.0661, -4.9849, -2.9862, -4.1882, -4.3234, -4.7662, -4.8962, -4.9643, -5.1311, -5.1699, -5.2067, -5.2246, -5.2552, -5.2582, -5.2656, -5.2711, -5.2927, -5.2992, -5.3479, -5.3605, -5.3763, -5.3965, -5.3974, -5.4145, -5.4275, -5.4611, -5.4651, -5.516, -5.531, -5.5519, -5.5673, -5.6137, -4.8406, -5.1312, -4.8723, -4.9561, -4.9789, -5.3185, -5.1378, -4.052, -5.3298, -5.2743, -5.1744, -5.2308, -4.1651, -4.4188, -4.5125, -4.5284, -4.7079, -4.711, -4.729, -4.7404, -4.8468, -4.8716, -4.9146, -4.9568, -4.9638, -5.0577, -5.0608, -5.0988, -5.1966, -5.2119, -5.2329, -5.2853, -5.3435, -5.3536, -5.3654, -5.3715, -5.4165, -5.423, -5.4251, -5.4342, -5.4535, -5.4539, -4.0619, -4.8387, -5.2167, -5.4155], \"loglift\": [30.0, 29.0, 28.0, 27.0, 26.0, 25.0, 24.0, 23.0, 22.0, 21.0, 20.0, 19.0, 18.0, 17.0, 16.0, 15.0, 14.0, 13.0, 12.0, 11.0, 10.0, 9.0, 8.0, 7.0, 6.0, 5.0, 4.0, 3.0, 2.0, 1.0, 2.5041, 2.5035, 2.5034, 2.5033, 2.5033, 2.5031, 2.503, 2.5029, 2.5024, 2.5024, 2.5023, 2.5022, 2.5021, 2.5019, 2.5019, 2.5016, 2.5015, 2.5012, 2.5012, 2.5012, 2.5008, 2.5004, 2.5002, 2.5001, 2.5, 2.5, 2.5, 2.4999, 2.4998, 2.4998, 2.4032, 2.3897, 2.3757, 2.4375, 2.1371, 2.2915, 2.0561, 2.1913, 1.2088, 1.5818, 2.1725, 1.5939, 1.0564, 0.4381, 1.5176, 1.3591, 1.7027, 0.9127, 1.625, 1.1225, 1.1132, 1.145, 0.8317, 2.7537, 2.7537, 2.7526, 2.7526, 2.7518, 2.7518, 2.7516, 2.7516, 2.7515, 2.7513, 2.7512, 2.751, 2.7495, 2.7495, 2.7495, 2.7495, 2.7494, 2.7494, 2.7492, 2.7492, 2.7492, 2.7491, 2.7491, 2.7491, 2.749, 2.7487, 2.7487, 2.7485, 2.7485, 2.7485, 2.5913, 2.7181, 2.5477, 2.1869, 2.4057, 2.0259, 1.953, 1.5398, 2.3813, 1.7099, 0.5556, 0.617, 1.8024, 1.4217, 1.2664, 1.1471, 1.2777, 0.6568, 1.382, 1.1732, 0.9492, 1.046, 1.5564, 2.7689, 2.7689, 2.7677, 2.7667, 2.7663, 2.7659, 2.7658, 2.7657, 2.7654, 2.7654, 2.7644, 2.7643, 2.7643, 2.7643, 2.7642, 2.7642, 2.764, 2.7638, 2.7637, 2.7637, 2.7635, 2.7635, 2.7634, 2.7632, 2.763, 2.763, 2.7629, 2.7625, 2.7625, 2.7623, 2.543, 2.4875, 2.4973, 2.5075, 2.5168, 2.5123, 2.1488, 2.2728, 1.837, 1.1039, 1.8017, 1.5663, 0.3584, -0.1357, 1.3887, 0.4095, 0.1724, 2.8074, 2.8071, 2.8068, 2.8067, 2.8066, 2.8065, 2.806, 2.8056, 2.8054, 2.8053, 2.8053, 2.8052, 2.8048, 2.8045, 2.8044, 2.8044, 2.8043, 2.8042, 2.804, 2.804, 2.8038, 2.8037, 2.8037, 2.8036, 2.8035, 2.8032, 2.8029, 2.8029, 2.8026, 2.8025, 2.5424, 2.5371, 2.6427, 2.5503, 2.5922, 2.345, 2.4737, 0.8763, 1.5509, 1.6708, 0.416, 1.3207, 1.9822, 0.6899, 0.8628, 1.305, 1.5746, 0.8467, 2.9649, 2.9645, 2.9639, 2.9638, 2.9638, 2.9637, 2.9636, 2.9635, 2.9635, 2.9634, 2.9633, 2.9633, 2.9633, 2.9632, 2.9631, 2.9631, 2.963, 2.963, 2.9627, 2.9624, 2.9623, 2.9622, 2.9622, 2.9619, 2.9618, 2.9618, 2.9615, 2.9615, 2.9613, 2.9612, 2.9609, 2.684, 2.7501, 2.7323, 2.8705, 2.7582, 1.7531, 1.711, 0.4025, 0.4368, 0.721, 0.9732, 0.9317, 2.9996, 2.9995, 2.9995, 2.9993, 2.9992, 2.9991, 2.999, 2.999, 2.999, 2.9989, 2.9988, 2.9986, 2.9983, 2.998, 2.9979, 2.9978, 2.9977, 2.9974, 2.9974, 2.9973, 2.9972, 2.997, 2.9968, 2.9968, 2.9967, 2.9966, 2.9965, 2.9962, 2.9961, 2.9961, 2.84, 2.6292, 2.7181, 2.5387, 2.6884, 2.123, 0.4044, 0.6573, 1.8443, 1.1037, -0.1595, 1.1425, 0.8906, 0.2328, 3.0426, 3.0426, 3.0419, 3.0418, 3.0418, 3.0417, 3.0415, 3.0413, 3.041, 3.0408, 3.0408, 3.0408, 3.0405, 3.0405, 3.0405, 3.0401, 3.04, 3.04, 3.0399, 3.0399, 3.0396, 3.0394, 3.0394, 3.0394, 3.0394, 3.0393, 3.0389, 3.0389, 3.0389, 3.0388, 3.0266, 2.82, 2.7228, 2.6931, 2.6962, 2.4911, 0.3697, 1.0961, 1.1863, 1.6485, 1.8572, 1.0465, 3.0647, 3.0644, 3.064, 3.0639, 3.0638, 3.0636, 3.0636, 3.0636, 3.0636, 3.0634, 3.063, 3.0629, 3.0628, 3.0627, 3.0627, 3.0626, 3.0625, 3.0624, 3.0623, 3.0622, 3.062, 3.0619, 3.0618, 3.0618, 3.0617, 3.0612, 3.0612, 3.0609, 3.0609, 3.0606, 2.8069, 2.7616, 2.9773, 2.7852, 2.3752, 2.7428, 0.0416, -0.3888, 0.905, 0.3263, 1.3657, 3.0768, 3.0762, 3.0762, 3.0761, 3.0759, 3.0757, 3.0756, 3.0753, 3.0752, 3.0752, 3.0751, 3.0749, 3.0749, 3.0748, 3.0748, 3.0747, 3.0745, 3.0745, 3.0744, 3.0743, 3.0741, 3.0741, 3.074, 3.0738, 3.0736, 3.0735, 3.0734, 3.0734, 3.0734, 3.073, 2.696, 0.0265, -0.2536, 0.1817, 2.4622, 1.2908, 3.086, 3.0856, 3.0852, 3.0851, 3.0849, 3.0846, 3.0845, 3.0844, 3.0844, 3.0841, 3.0841, 3.084, 3.0839, 3.0839, 3.0838, 3.0838, 3.0837, 3.0835, 3.0835, 3.0833, 3.0833, 3.0832, 3.0831, 3.0831, 3.083, 3.083, 3.0829, 3.0828, 3.0827, 3.0823, 2.8316, 2.7297, 2.6323, 2.5378, 2.5294, 2.2721, 2.8532, 1.8867, 1.1239, -0.0496, -0.3995, 3.0875, 3.0869, 3.0867, 3.0863, 3.0863, 3.086, 3.086, 3.086, 3.0856, 3.0855, 3.0855, 3.0854, 3.0853, 3.0853, 3.0853, 3.085, 3.0848, 3.0848, 3.0846, 3.0842, 3.0842, 3.0841, 3.0841, 3.0836, 3.0835, 3.0835, 3.0835, 3.0834, 3.0834, 3.083, 3.0821, 2.7814, 2.9269, 2.6773, 2.9324, 2.0155, 2.2408, 1.1214, 1.3014, -0.3764, -0.3258, 0.8052, 2.62, 3.0891, 3.0888, 3.0886, 3.088, 3.088, 3.088, 3.0879, 3.0873, 3.0872, 3.0872, 3.0869, 3.0868, 3.0868, 3.0867, 3.0866, 3.0863, 3.0863, 3.0863, 3.0861, 3.086, 3.0859, 3.0854, 3.0853, 3.0852, 3.0852, 3.0851, 3.085, 3.085, 3.0849, 3.0849, 2.9808, 2.8119, 2.6228, 2.4584, 1.9839, 2.1657, 0.2281, 0.0432, 2.8589, 3.0967, 3.0966, 3.0965, 3.0963, 3.0963, 3.0962, 3.0957, 3.0956, 3.0954, 3.0954, 3.0954, 3.0954, 3.0953, 3.0952, 3.0952, 3.0952, 3.0951, 3.0949, 3.0949, 3.0948, 3.0946, 3.0945, 3.0943, 3.0943, 3.0943, 3.0941, 3.094, 3.0939, 3.0939, 3.0938, 2.9026, 2.9939, 2.5417, 2.8476, 2.8486, 2.6385, 2.5775, -0.1365, 1.1784, 0.6278, 3.1017, 3.1013, 3.101, 3.1008, 3.1007, 3.1005, 3.1002, 3.1002, 3.1001, 3.1001, 3.1001, 3.1, 3.1, 3.0999, 3.0998, 3.0997, 3.0997, 3.0997, 3.0996, 3.0995, 3.0995, 3.0993, 3.0992, 3.0992, 3.0991, 3.0991, 3.099, 3.0989, 3.0989, 3.0987, 2.8117, 2.8682, 2.4617, 1.3151, 2.7582, 1.0608, -0.8095, 2.1777, 3.1099, 3.1096, 3.1094, 3.1093, 3.1092, 3.1092, 3.109, 3.1088, 3.1087, 3.1086, 3.1084, 3.1083, 3.1082, 3.1081, 3.1079, 3.1077, 3.1073, 3.1073, 3.1073, 3.1073, 3.1071, 3.107, 3.1069, 3.1069, 3.1068, 3.1068, 3.1068, 3.1067, 3.1067, 3.1065, 2.3394, 2.452, -0.5417, 0.4278, 0.9632, 3.1122, 3.1121, 3.1111, 3.111, 3.111, 3.1103, 3.1103, 3.1102, 3.1101, 3.1101, 3.1099, 3.1099, 3.1099, 3.1098, 3.1098, 3.1097, 3.1096, 3.1096, 3.1094, 3.1093, 3.1093, 3.1093, 3.1093, 3.109, 3.109, 3.1089, 3.1089, 3.1086, 3.1084, 3.1083, 2.9353, 2.9068, 2.8028, 1.1748, -0.6721, -0.6699, 1.8988, 3.1137, 3.1131, 3.1129, 3.1125, 3.1121, 3.1121, 3.112, 3.1116, 3.1115, 3.1113, 3.1112, 3.111, 3.1109, 3.1106, 3.1106, 3.1105, 3.1105, 3.1105, 3.1103, 3.1102, 3.1102, 3.1101, 3.1099, 3.1098, 3.1098, 3.1097, 3.1095, 3.1095, 3.1094, 3.1094, 2.5093, 2.9564, 2.7669, 2.6217, 2.8516, 2.2128, 2.4058, -0.7037, 1.852, 3.1238, 3.1236, 3.1236, 3.1235, 3.1234, 3.1229, 3.1228, 3.1228, 3.1226, 3.1226, 3.1221, 3.1221, 3.122, 3.1219, 3.1218, 3.1217, 3.1216, 3.1216, 3.1216, 3.1215, 3.1214, 3.1214, 3.1212, 3.1211, 3.1211, 3.1208, 3.1207, 3.1205, 3.1203, 3.1201, 2.7083, 2.701, 2.0116, 0.1812, 1.4117, 3.1426, 3.1417, 3.1415, 3.1407, 3.1404, 3.1402, 3.1397, 3.1396, 3.1395, 3.1394, 3.1393, 3.1393, 3.1392, 3.1392, 3.1391, 3.1391, 3.1389, 3.1389, 3.1388, 3.1387, 3.1387, 3.1386, 3.1386, 3.1384, 3.1384, 3.1382, 3.1381, 3.138, 3.1379, 3.1377, 2.9537, 2.9952, 2.8379, 2.8522, 2.6504, 2.96, 2.5046, 0.1953, 2.8507, 2.1937, 1.0603, 1.1911, 3.1558, 3.1554, 3.1553, 3.1552, 3.1549, 3.1549, 3.1548, 3.1548, 3.1546, 3.1545, 3.1544, 3.1543, 3.1543, 3.154, 3.154, 3.1538, 3.1535, 3.1535, 3.1534, 3.1532, 3.153, 3.1529, 3.1529, 3.1528, 3.1526, 3.1526, 3.1526, 3.1526, 3.1525, 3.1525, 0.1855, -0.3574, 0.6441, 1.7528]}, \"token.table\": {\"Topic\": [3, 20, 1, 2, 3, 4, 5, 6, 7, 8, 9, 10, 11, 12, 13, 14, 15, 16, 17, 18, 19, 20, 1, 2, 4, 5, 6, 8, 9, 10, 11, 12, 13, 14, 15, 16, 17, 19, 20, 17, 10, 17, 17, 5, 8, 17, 3, 5, 20, 3, 2, 9, 13, 3, 19, 19, 12, 13, 13, 2, 2, 10, 5, 1, 18, 16, 20, 12, 13, 13, 5, 4, 7, 13, 2, 12, 11, 9, 3, 4, 9, 14, 20, 20, 6, 19, 4, 6, 2, 11, 20, 14, 4, 10, 17, 16, 18, 13, 13, 5, 12, 6, 4, 19, 8, 14, 1, 19, 10, 16, 1, 9, 18, 16, 1, 2, 6, 8, 9, 10, 16, 4, 19, 1, 2, 4, 5, 6, 7, 8, 10, 11, 15, 18, 11, 4, 2, 7, 18, 1, 7, 11, 1, 14, 10, 16, 16, 8, 19, 12, 3, 5, 14, 16, 18, 17, 1, 5, 7, 11, 2, 4, 12, 1, 10, 13, 20, 4, 6, 1, 2, 3, 4, 6, 7, 9, 11, 12, 15, 16, 1, 14, 16, 6, 16, 1, 5, 9, 11, 13, 16, 19, 3, 7, 10, 9, 17, 10, 15, 16, 15, 20, 19, 2, 10, 7, 4, 6, 13, 1, 2, 3, 4, 5, 6, 7, 8, 9, 10, 12, 14, 16, 18, 20, 3, 1, 7, 9, 10, 11, 12, 3, 6, 4, 13, 9, 16, 1, 6, 18, 10, 17, 8, 1, 5, 1, 2, 3, 4, 5, 7, 11, 12, 13, 18, 20, 14, 2, 4, 5, 7, 8, 12, 13, 14, 3, 1, 17, 12, 2, 8, 4, 16, 8, 1, 2, 3, 4, 5, 9, 10, 11, 12, 13, 14, 15, 16, 17, 20, 4, 8, 12, 13, 15, 19, 20, 5, 6, 7, 9, 12, 13, 17, 2, 10, 11, 14, 17, 14, 18, 10, 1, 3, 8, 9, 17, 18, 7, 8, 18, 1, 5, 11, 5, 1, 2, 4, 9, 10, 11, 15, 16, 17, 18, 19, 10, 1, 3, 4, 5, 9, 13, 18, 1, 1, 3, 4, 5, 7, 9, 13, 15, 17, 19, 1, 2, 6, 11, 17, 12, 19, 8, 17, 8, 17, 9, 5, 7, 14, 2, 4, 1, 2, 3, 4, 5, 6, 7, 8, 10, 12, 14, 15, 17, 18, 12, 6, 20, 8, 17, 19, 12, 7, 1, 15, 4, 19, 1, 6, 6, 6, 9, 3, 2, 2, 14, 6, 4, 17, 18, 19, 3, 1, 4, 5, 6, 7, 8, 10, 13, 14, 17, 18, 20, 9, 14, 4, 2, 1, 3, 15, 18, 11, 8, 8, 13, 1, 4, 16, 12, 3, 11, 10, 3, 19, 11, 1, 4, 6, 12, 14, 14, 11, 17, 7, 8, 6, 1, 2, 3, 4, 5, 6, 7, 8, 9, 10, 11, 13, 14, 15, 16, 17, 19, 20, 11, 7, 8, 4, 8, 13, 17, 19, 8, 2, 4, 5, 6, 10, 11, 1, 10, 14, 16, 20, 14, 14, 15, 1, 4, 7, 5, 13, 15, 19, 1, 2, 4, 5, 6, 7, 9, 18, 8, 15, 8, 12, 16, 17, 15, 15, 17, 19, 11, 2, 3, 9, 5, 7, 12, 5, 16, 5, 12, 13, 14, 15, 17, 16, 18, 2, 10, 18, 10, 7, 2, 6, 9, 11, 13, 19, 5, 14, 7, 3, 7, 11, 3, 1, 9, 10, 11, 3, 4, 18, 19, 14, 16, 3, 7, 14, 19, 18, 12, 11, 19, 1, 12, 14, 1, 1, 8, 14, 18, 11, 9, 7, 4, 6, 9, 17, 20, 5, 7, 18, 15, 1, 15, 2, 17, 17, 18, 1, 4, 5, 7, 8, 9, 10, 17, 20, 18, 3, 16, 14, 18, 18, 1, 1, 2, 6, 7, 11, 14, 2, 10, 11, 13, 19, 15, 3, 6, 13, 20, 2, 3, 4, 5, 6, 7, 9, 10, 14, 15, 17, 15, 16, 20, 13, 4, 8, 7, 15, 16, 9, 1, 16, 18, 4, 9, 13, 1, 7, 3, 9, 6, 1, 8, 2, 9, 15, 11, 16, 19, 1, 2, 6, 7, 9, 14, 17, 7, 3, 15, 1, 2, 3, 5, 7, 9, 10, 11, 12, 13, 14, 15, 16, 17, 19, 11, 2, 8, 12, 18, 11, 6, 19, 1, 7, 5, 6, 10, 1, 14, 4, 7, 17, 12, 5, 11, 9, 3, 4, 5, 6, 10, 11, 12, 13, 14, 19, 20, 17, 4, 12, 20, 2, 8, 12, 12, 16, 14, 2, 4, 11, 13, 14, 3, 12, 15, 19, 20, 14, 12, 14, 1, 1, 12, 6, 3, 9, 6, 17, 13, 16, 19, 2, 16, 20, 7, 10, 8, 11, 17, 13, 17, 19, 4, 2, 19, 5, 3, 9, 12, 8, 3, 16, 1, 3, 12, 5, 14, 17, 19, 4, 8, 4, 18, 6, 19, 5, 4, 8, 2, 13, 1, 7, 3, 4, 10, 12, 14, 16, 20, 2, 5, 11, 15, 8, 12, 3, 15, 2, 3, 7, 1, 2, 5, 6, 9, 12, 16, 20, 3, 9, 7, 12, 19, 6, 14, 8, 9, 12, 4, 8, 12, 15, 16, 7, 12, 3, 7, 20, 11, 17, 20, 2, 19, 20, 16, 20, 1, 3, 8, 14, 16, 15, 3, 14, 2, 3, 5, 5, 1, 19, 14, 20, 7, 11, 5, 3, 19, 12, 7, 10, 11, 17, 5, 5, 13, 14, 17, 1, 13, 12, 2, 13, 4, 15, 9, 14, 1, 5, 8, 11, 6, 19, 20, 15, 12, 15, 1, 8, 19, 2, 2, 19, 19, 14, 1, 10, 13, 4, 13, 15, 16, 19, 7, 11, 13, 7, 17, 14, 4, 16, 7, 18, 11, 19, 16, 3, 11, 16, 2, 17, 6, 11, 18, 1, 2, 4, 5, 7, 10, 11, 12, 16, 20, 5, 12, 20, 6, 6, 20, 8, 6, 16, 14, 12, 8, 8, 13, 1, 4, 5, 6, 14, 19, 20, 5, 18, 14, 5, 8, 3, 4, 12, 13, 14, 15, 16, 18, 19, 9, 17, 14, 9, 2, 4, 7, 8, 9, 10, 11, 14, 16, 20, 18, 11, 20, 13, 3, 19, 10, 9, 4, 20, 3, 4, 6, 8, 14, 15, 20, 2, 4, 12, 2, 6, 8, 17, 20, 9, 2, 11, 1, 2, 3, 5, 7, 10, 12, 20, 5, 10, 1, 16, 11, 2, 8, 10, 11, 12, 13, 15, 19, 19, 10, 14, 3, 6, 8, 11, 13, 3, 11, 13, 6, 1, 4, 1, 8, 16, 20, 7, 14, 1, 2, 3, 4, 5, 6, 7, 8, 11, 1, 6, 16, 4, 13, 15, 15, 17, 11, 17, 11, 11, 12, 18, 19, 20, 3, 9, 16, 1, 8, 16, 6, 12, 1, 10, 8, 9, 11, 1, 3, 4, 5, 6, 7, 9, 10, 11, 14, 16, 19, 15, 18, 13, 3, 17, 2, 3, 4, 5, 6, 7, 8, 9, 10, 12, 14, 19, 9, 18, 1, 2, 7, 8, 18, 20, 3, 4, 1, 2, 18, 2, 5, 4, 16, 9, 16, 20, 13, 8, 10, 4, 10, 20, 19, 5, 1, 5, 10, 15, 20, 15, 4, 6, 7, 9, 10, 11, 12, 16, 18, 19, 7, 10, 14, 14, 20, 5, 10, 6, 10, 13, 17, 4, 15, 19, 5, 20, 5, 19, 10, 12, 2, 4, 9, 12, 13, 10, 4, 1, 4, 5, 19, 5, 2, 2, 12, 1, 15, 15, 13, 7, 11, 9, 10, 5, 20, 5, 2, 6, 3, 10, 19, 5, 13, 13, 1, 16, 9, 4, 11, 1, 1, 17, 15, 15, 3, 3, 8, 2, 18, 11, 6, 5, 4, 1, 2, 4, 5, 8, 9, 11, 12, 13, 14, 16, 17, 18, 18, 13, 7, 12, 15, 16, 16, 10, 9, 9, 4, 5, 7, 9, 10, 11, 12, 13, 14, 15, 16, 17, 18, 20, 4, 1, 15, 19, 16, 15, 10, 1, 4, 13, 11, 8, 11, 3, 8, 7, 10, 17, 7, 7, 9, 9, 8], \"Freq\": [0.9999064843419455, 0.9973580539555545, 0.12663196478767644, 0.11096889157494498, 0.0077651676520744985, 0.09145641901332188, 0.07705435593212387, 0.04240976179209919, 0.0689573435085932, 0.031591622242627876, 0.04732106440965058, 0.03059608792825935, 0.0312597774711717, 0.04752017127252428, 0.03935678989470238, 0.019977055241661747, 0.0259502611278729, 0.02269818236760238, 0.021968123870398797, 0.05269694970724061, 0.05243147389007568, 0.05123683271283345, 0.2738035033020468, 0.11799127998345477, 0.14499425948215586, 0.07975103572442466, 0.07455170426815301, 0.048638907171573396, 0.03572443871567287, 0.043439575715301756, 0.03287319243320133, 0.057192646018988026, 0.005954073119278812, 0.015933435107929217, 0.005870212934500237, 0.022726110074993776, 0.010566383282100427, 0.00025158055433572446, 0.029770365596394063, 0.9979074586739347, 0.9955991449663488, 0.9986209481792587, 0.9955324554627198, 0.9976743144170465, 0.997276532530347, 0.9965757058815126, 0.08894847240146135, 0.9100112945687968, 0.9942602297162625, 0.9999377752192796, 0.9988126466429156, 0.09751827720401694, 0.899684750978995, 0.17044935348149318, 0.826909701349406, 0.9979311610506552, 0.9958733225086632, 0.9958973689839533, 0.9963304044828153, 0.9974059948994384, 0.9964360322919099, 0.9962884551204478, 0.9984982296603031, 0.8795799928664662, 0.11976126983053247, 0.9969111196467112, 0.998673427320773, 0.2189280605571337, 0.7789765875637549, 0.9977209228685581, 0.9958171894009681, 0.9982500103454964, 0.9985994955942792, 0.9958464234062636, 0.9932305957967151, 0.9946715027798186, 0.9968761779840973, 0.9987727193181548, 0.15185844116532765, 0.1636915664509376, 0.6823768914701737, 0.9974701567061346, 0.9959511919262063, 0.9986753271895069, 0.9981917092316936, 0.9992535848085875, 0.9994341312759174, 0.9939268175959897, 0.26312359375294336, 0.7357484375082303, 0.9971874101703597, 0.997703841211122, 0.9961172870236944, 0.2279697197180048, 0.7685836264778448, 0.9951658286477973, 0.9976097967004748, 0.9946402103935963, 0.9984074680639038, 0.995740472325162, 0.9942402136691986, 0.9981066610945033, 0.9969785405370414, 0.9958139648770575, 0.9964598606589943, 0.9967605188139868, 0.9973413600056462, 0.9948878899066281, 0.9974743358003616, 0.9988432513195049, 0.45834921373351983, 0.5414695374675779, 0.9971883115651047, 0.9949535078982907, 0.4151130889573414, 0.14449128673322845, 0.10776974424854055, 0.14608787553691052, 0.01436929923313874, 0.12533222108904346, 0.04630107530678038, 0.8490107953456324, 0.15066952142753476, 0.24871604854449514, 0.2005774585036251, 0.11907967010109953, 0.13639267178246506, 0.07643056839822346, 0.08656500840682768, 0.0629179817200845, 0.03884868669964949, 0.017313001681365535, 0.008867635007528688, 0.004222683336918423, 0.9958050220554286, 0.9972759968427475, 0.9961675124335919, 0.9980213624833009, 0.9978401090723051, 0.9975274047842423, 0.00450049000461183, 0.9946082910192144, 0.9347761860316687, 0.06342139315259109, 0.9993941471666787, 0.9990384720600899, 0.9978017498882428, 0.9970163765587311, 0.996821603166184, 0.9961018971970721, 0.30003781631886633, 0.001234723523945952, 0.5272269447249216, 0.17162656982848734, 0.9978446721195933, 0.9979483073680249, 0.7168462686018036, 0.2808600414567431, 0.997284972278168, 0.9974375648848951, 0.9958203189232642, 0.9949768242443882, 0.9958899246615293, 0.9945276517246011, 0.9989107395756641, 0.9967049769837176, 0.9981622060860007, 0.26659345843737253, 0.7325719404119396, 0.25704455886610084, 0.1810890495795413, 0.012968013780632113, 0.06113492210869425, 0.05928234871146109, 0.15607930871689366, 0.07966065608102584, 0.04029347138982121, 0.08197637282756728, 0.025936027561264226, 0.044461761533595816, 0.9965460784517249, 0.9966131293932485, 0.9978985952687887, 0.9941053462069599, 0.9966735684640147, 0.10984861162728721, 0.0810787371534739, 0.06669379991656724, 0.15561886647199022, 0.13600304296711752, 0.2968527957070738, 0.15300342333800718, 0.9968089165821143, 0.7998901044991388, 0.19788947897765152, 0.9966901692534568, 0.9950904588046239, 0.5775108150307251, 0.1956742526221751, 0.22556893010611853, 0.998326589997757, 0.9947960338934886, 0.9957138758424723, 0.9927632965273923, 0.9989634928164628, 0.9947462354576008, 0.9988200047619664, 0.9970368852526686, 0.9976690639978215, 0.1771467039524665, 0.09525813325745841, 0.014205160222603447, 0.08731995548600355, 0.06768341047240466, 0.15583896361856137, 0.06225202568140922, 0.02047214267375203, 0.0447044748181932, 0.08188857069500811, 0.02715692395497718, 0.056402842060337216, 0.016294154372986307, 0.013369562562450303, 0.08021737537470182, 0.9967309358887628, 0.10665822235932956, 0.07787743219887555, 0.1337460248632863, 0.4427162721740426, 0.17014525947797812, 0.06856600008814044, 0.9973290031619172, 0.9962711014538398, 0.772964316381241, 0.22515244995508624, 0.9977285477686297, 0.9968665264190354, 0.9953557584404319, 0.9967413797429665, 0.9964815622314024, 0.9984024102079171, 0.9966142651620569, 0.9943178772262561, 0.9936780187022572, 0.9977989416258977, 0.19967087710536222, 0.15502085684813297, 0.0030101137252064652, 0.3210787973553563, 0.05869721764152608, 0.04214159215289052, 0.007023598692148419, 0.06822924443801322, 0.0908050973770617, 0.047158448361567955, 0.007023598692148419, 0.9960132859033938, 0.3520718456822707, 0.11049063242156366, 0.13171482170028212, 0.09363612917081666, 0.12047848619978412, 0.10112701950448201, 0.033709006501494, 0.05680591836362878, 0.9974847340628636, 0.29017244658650193, 0.7071429370595426, 0.997593867612433, 0.9934593789373191, 0.9981477175574224, 0.999867650642808, 0.9963134201960655, 0.9957721013270676, 0.2513426578084531, 0.12100111060035328, 0.026323048621831237, 0.11802915349788845, 0.13076611250845196, 0.04712674833908496, 0.05349522784436671, 0.03863544233204262, 0.02887044042394394, 0.036937181130634156, 0.03863544233204262, 0.011463263109507153, 0.025049352720774888, 0.03269152812711299, 0.039484572932746854, 0.19101358826489875, 0.1536725860477005, 0.3310423465793922, 0.06893723486251985, 0.05601150332579738, 0.08617154357814982, 0.11274110284807934, 0.19678838176878505, 0.11469261514131644, 0.30544454348161115, 0.11952177788410871, 0.15211862639795654, 0.07968118525607247, 0.03138955782814976, 0.22869332649446442, 0.1046206252239044, 0.11671245627993355, 0.0031543907102684746, 0.5462353246614908, 0.9969067568133543, 0.9945637562815889, 0.9984529103842492, 0.9971363171492832, 0.6097772386761943, 0.19006043802894365, 0.1979796229468163, 0.9950245563679325, 0.9978593604557995, 0.9928805811578408, 0.9982071033609913, 0.9953372598605564, 0.24521403142610246, 0.7541627915159285, 0.994497687168061, 0.9970735772985949, 0.13003801800855724, 0.302226290130233, 0.14349022676806317, 0.018833092263308288, 0.06367378812832802, 0.0851973221435375, 0.061880160293727234, 0.07533236905323315, 0.02690441751901184, 0.04932476545152171, 0.043047068030418946, 0.995843045972811, 0.6388214326321543, 0.05916018365072627, 0.00054275397844703, 0.1356884946117575, 0.05481815182315003, 0.00488478580602327, 0.10583702579717086, 0.9990627428032711, 0.4022734526002317, 0.022034641364338532, 0.09717841832477507, 0.0655389332888018, 0.13559779301131406, 0.04915419996660134, 0.001129981608427617, 0.07118884133093988, 0.05028418157502896, 0.1050882895837684, 0.3966426462255002, 0.3864940070896665, 0.08964631236653096, 0.0862634326545864, 0.04059455654333478, 0.7944997680813132, 0.20371788925161877, 0.997038895411228, 0.9938373327778707, 0.9981613906883297, 0.9989055234198432, 0.9991144965123807, 0.1835924015958509, 0.7068307461440261, 0.10786053593756241, 0.2361610353984959, 0.7627875154047674, 0.18793051484528334, 0.16443920048962293, 0.07471008172128067, 0.11245022609594824, 0.05853573413213743, 0.0851078766000156, 0.04582731816923918, 0.11514595069413877, 0.0462124216832664, 0.022721107327605978, 0.030808281122177598, 0.010782898392762159, 0.035429523290504236, 0.01001269136470772, 0.9986064554081149, 0.9985525887379857, 0.9974744476077825, 0.9986561291815749, 0.9964741659001289, 0.9957947602795487, 0.9985425132126778, 0.9991789618623051, 0.996250080897428, 0.9985965264626073, 0.9987076996796574, 0.9944360100120373, 0.9039217242693555, 0.09605836000223052, 0.9983700579605221, 0.9961829783892937, 0.9992465698421092, 0.9918010512043409, 0.9972848843755185, 0.999830822259231, 0.9957955601888709, 0.9973852330757893, 0.767253003986224, 0.17699131796500395, 0.006103148895344964, 0.04969706957638042, 0.9949783089297249, 0.16283956114992298, 0.1024864370873641, 0.12469183178962633, 0.031315300221139035, 0.05807564768283966, 0.10647202075187272, 0.016511703752964218, 0.05124321854368205, 0.0967927461380661, 0.02903782384141983, 0.1804900030927468, 0.03985583664508604, 0.9967352859196806, 0.9980914675724789, 0.995950179051401, 0.9975244459862268, 0.9991675833870305, 0.9977174961007579, 0.9976926433272089, 0.997372266494738, 0.9947329575178987, 0.9972082402024856, 0.22009496344510773, 0.7795029955347565, 0.99817852627244, 0.9955477349491859, 0.9965651727007432, 0.9975884563505424, 0.9972028626050036, 0.9988902053577302, 0.9972009569953332, 0.2508216538352282, 0.7456859978885162, 0.9961388461547452, 0.28303965377474494, 0.7158031823723622, 0.8516448145621662, 0.14658258426199075, 0.9965426098904808, 0.9960981463606564, 0.9964656431567341, 0.998056629530274, 0.9973080198831243, 0.9936951088613896, 0.9980664300683904, 0.23517956122525213, 0.12284219560808521, 0.05466799280988085, 0.12026958418173787, 0.05166661281247563, 0.06281459565998074, 0.02186719712395234, 0.0645296699442123, 0.055311145666467686, 0.01329182570279456, 0.006431528565868335, 0.000857537142115778, 0.0486652328150704, 0.0683885870837333, 0.012648672846207727, 0.0030013799974052233, 0.031300105687225896, 0.02615488283453123, 0.997629424780605, 0.9957951725332744, 0.9945406700139171, 0.16638886949917997, 0.09334009752393022, 0.14203927884076337, 0.4930792108329357, 0.10348576029827046, 0.9983546848299786, 0.20595502687083816, 0.12424201156941514, 0.29722511998529316, 0.08171301530142304, 0.12280844989746036, 0.16724886172805883, 0.03252238103256963, 0.6349607725406451, 0.13473557856350274, 0.1966829710064925, 0.9988769470440699, 0.9973663543458903, 0.9969858479034645, 0.9982614568272277, 0.0015188451076986775, 0.013669605969288097, 0.9826927846810444, 0.9956486890351613, 0.9971002030694059, 0.9976839024844937, 0.998983616987281, 0.18166731902518488, 0.17734190666744237, 0.22244977839818555, 0.12667279047674457, 0.1322340349366992, 0.04201829147521283, 0.038310795168576404, 0.07847533849047102, 0.997230495274153, 0.9952109038554793, 0.18441124610631957, 0.627257970910932, 0.18830725834800238, 0.996459958425942, 0.9939727750403137, 0.994626297318046, 0.9961791404792816, 0.9954568354589178, 0.9978920958438319, 0.99640430575523, 0.9930167054815316, 0.9979943263268649, 0.9969510044525262, 0.9983747610524083, 0.9954326472158228, 0.9969770997359556, 0.9964700999712699, 0.17472939149370184, 0.10149722005884151, 0.10663631980865627, 0.12076884412064687, 0.08993424562175831, 0.40598888023536606, 0.9961763216862551, 0.9972683357272382, 0.9980445892952966, 0.996138607776077, 0.9990135976566753, 0.998269734205785, 0.9988342107379985, 0.4490413450392891, 0.08875719693884518, 0.10919470939186873, 0.12145721686368288, 0.08934112586607443, 0.14189472931670644, 0.998699266216424, 0.9954033276281401, 0.9963598201444661, 0.9962427348222902, 0.9969544077218356, 0.9931062618710578, 0.9965300495042078, 0.22639054984214158, 0.19983857177423608, 0.5729637372548028, 0.9963920665289289, 0.1539274136978554, 0.18944912455120666, 0.6546143857260445, 0.9996431504836617, 0.9970494604416651, 0.9985324235286517, 0.5372687086651428, 0.15161281367810878, 0.12953327770556866, 0.17958022590999292, 0.9985109713967074, 0.9980463362127876, 0.9975507586674967, 0.9949808523100357, 0.3222075645013464, 0.5316994085587589, 0.1457334567355913, 0.9987786616390619, 0.8916573312146177, 0.10770784276139876, 0.9973424963983228, 0.9982001247925333, 0.9991121775590177, 0.9979585461598705, 0.9958329326456825, 0.43850061637230753, 0.10346643757099391, 0.12194258713724283, 0.08991726122241138, 0.24511691757890225, 0.8056493191139185, 0.19202752588199132, 0.9975764575180889, 0.9965466833734908, 0.997881727358668, 0.994908416339088, 0.9986614531718941, 0.9993511375204668, 0.9961312582532702, 0.9989830604214204, 0.37266879145772985, 0.13656429654395638, 0.05948133805025656, 0.04127276517772904, 0.1414199159766304, 0.058267433192088054, 0.1019680080861541, 0.03034762145421253, 0.057660480763003806, 0.9956864895821862, 0.9933166487492617, 0.9992494556544209, 0.9967962702193357, 0.9978276340529306, 0.9951659499437798, 0.9997615935706403, 0.9973247457705384, 0.5672141915625822, 0.14992729056617318, 0.14252744575282128, 0.13995358668730756, 0.9962427564109444, 0.9998599174679883, 0.9950798097884879, 0.9978833721209158, 0.9986438398910041, 0.9979545306516614, 0.9980830357891012, 0.9964770393044616, 0.9985382523693767, 0.9985015814613274, 0.9965771426399538, 0.13835320319477554, 0.050078766800562925, 0.2062566158057083, 0.019522231125643174, 0.08487926576366597, 0.24784745602990463, 0.06026427869220284, 0.07214737589911607, 0.033951706305466386, 0.03225412099019307, 0.05517152274638288, 0.9941754204971082, 0.9952212015653136, 0.9966359519984149, 0.998404730056631, 0.9987524215321394, 0.9930702049472241, 0.9953518279282417, 0.9975788252531292, 0.9989079653292746, 0.9948303608568044, 0.25768108112504784, 0.08170375742989322, 0.6599149638568299, 0.994721820096229, 0.9944121209707834, 0.996105768731857, 0.29458126638481613, 0.7046065425690873, 0.9973387745316328, 0.99784614823885, 0.9957426246804382, 0.0795599000737785, 0.9149388508484527, 0.9990878940013653, 0.9960300255955473, 0.9966224797751565, 0.996562974199007, 0.8378575739954615, 0.1605893683491301, 0.1934349680114612, 0.05933587975811694, 0.09731084280331177, 0.16614046332272742, 0.12460534749204556, 0.07594992609038968, 0.2824387876486366, 0.996145762455288, 0.7776871826389614, 0.22099743679308617, 0.14153583858642524, 0.03128686958226242, 0.1892110684260632, 0.0019864679099849156, 0.010428956527420806, 0.08591473710684759, 0.04568876192965306, 0.0004966169774962289, 0.05611771845707386, 0.10180648038672692, 0.028307167717285045, 0.11670498971161379, 0.08144518430938154, 0.0705196108044645, 0.03873612424470585, 0.9957438150867546, 0.8495678702344902, 0.14852585143959618, 0.9976829732514664, 0.9957394868069303, 0.9972026071075589, 0.997606204424288, 0.9976576471005226, 0.9987124837538461, 0.9985245879446297, 0.9990079420782235, 0.9987885102575655, 0.9956649428472378, 0.9945601370736619, 0.9955622781986482, 0.9977406025403857, 0.9982565067446753, 0.9972365349953795, 0.9969231934749065, 0.9982094474719212, 0.9966798087836086, 0.9948090338416735, 0.08962684142399531, 0.2845402326248773, 0.05064416318381891, 0.12127944341388212, 0.14027100460781422, 0.038649492956072326, 0.0013327411364162873, 0.08462906216243424, 0.05464238659306777, 0.05297646017254742, 0.08096402403728944, 0.9964912797703342, 0.24112020686061708, 0.7566185801488329, 0.9961949806214762, 0.6892447094971818, 0.17342286238961346, 0.13784894189943633, 0.9962208035229204, 0.9975502341903856, 0.9974806148131399, 0.1348102984764908, 0.1696489149367075, 0.15601641284357923, 0.1408691882956589, 0.39685728315551216, 0.38063234359618087, 0.12133694795860787, 0.1097018981543578, 0.38728094348432374, 0.9976211941477883, 0.9988519413922464, 0.993496287846831, 0.99840239342498, 0.9937797696633301, 0.9986924065118217, 0.9933808579975932, 0.9963577055869149, 0.9981350476914944, 0.9983526774088541, 0.9927728328245357, 0.9985729485587749, 0.9962925032735789, 0.994454769159136, 0.9977615589433062, 0.9951326269102919, 0.9962377212126093, 0.9960837425248171, 0.995169404748789, 0.9980850710452163, 0.7540162568563182, 0.242770385730254, 0.9997006569173715, 0.5950173310095429, 0.183914447766586, 0.2206973373199032, 0.9993814768580452, 0.9956513214716716, 0.993432351887275, 0.9970248325022633, 0.9927976953811799, 0.9965679253661719, 0.9961892656668035, 0.9977053779794899, 0.7616184103359803, 0.23719895406650232, 0.2441692072939961, 0.7547048225450789, 0.998737197465457, 0.8128408122451177, 0.1842049322713756, 0.9963411726161941, 0.9966443998645735, 0.2262155897494096, 0.7714964516080611, 0.9992220504485115, 0.9969664425771096, 0.9965773230874465, 0.9979596905407386, 0.9950007961301968, 0.9971234071965536, 0.997420717356699, 0.9961336763131002, 0.997196613222933, 0.4236062678136724, 0.5750157370322139, 0.3941979957820898, 0.15740061315680617, 0.15182891003621127, 0.07521799212803126, 0.10725528507145199, 0.03343021872356945, 0.07939676946847744, 0.33382041925929007, 0.13437686368488372, 0.4285914704896817, 0.10184351774012239, 0.9974079724718835, 0.9966315428844597, 0.9934334656536986, 0.9985838632414296, 0.9961370208744181, 0.9967583399534599, 0.9977731699005723, 0.2667203872762013, 0.09970059204893146, 0.04516351605635357, 0.3144403287697069, 0.07839704673933072, 0.040902806994433424, 0.04942422511827372, 0.10481344292323565, 0.7981267841144117, 0.201431997895542, 0.9976503220840173, 0.9979484893371334, 0.9968431673668827, 0.7541464759163063, 0.24504479329493428, 0.994841392319913, 0.9967676940629377, 0.9970277820905067, 0.997098740839518, 0.12996315105816791, 0.22850663922315237, 0.46272594442688353, 0.17852081189308777, 0.9967322822598951, 0.9961823269942922, 0.9928562037838856, 0.998847132449939, 0.9966314800312578, 0.2345919820300725, 0.6110302787760028, 0.1527575696940007, 0.1348505333361115, 0.8636855587479522, 0.9972582641108506, 0.9967737789786368, 0.998189312608851, 0.9966710873030996, 0.2730322491833162, 0.723394722063013, 0.9939558194894206, 0.9963287617969967, 0.9985842846564371, 0.25105605298650263, 0.7471620332899743, 0.9662786345004611, 0.028844138343297347, 0.9991297920997295, 0.9979181257751446, 0.4709845974668854, 0.5283734769901614, 0.7910277641287023, 0.2081652010865006, 0.14567377102865012, 0.8518748784066714, 0.9929395977193769, 0.7740172897923153, 0.22307921889210836, 0.9949235946188582, 0.20053409110498335, 0.17306366766594453, 0.626325654410085, 0.9976681614581492, 0.9972416184756657, 0.9980665915028534, 0.2879209347104718, 0.7074628681457308, 0.9988698906572774, 0.9978414679575073, 0.9981427981307017, 0.9975672959020662, 0.9977816345224745, 0.9986355672504709, 0.9974179738305441, 0.9984284277874907, 0.9964367108602303, 0.9980152562503489, 0.4485138525651863, 0.10996382099571168, 0.09870768183867033, 0.34201345900241037, 0.998020263851478, 0.9960572891799198, 0.9955351628581605, 0.9972902433905161, 0.8951817538994982, 0.09980066850906567, 0.9990099181838422, 0.998052038791984, 0.9938360011603381, 0.9964848782183612, 0.8130169359214128, 0.18432772636274944, 0.9946490625707338, 0.9954626151032764, 0.9963533883868128, 0.9955865748318854, 0.9967325574829071, 0.9941882212245876, 0.10317891769391542, 0.5179177045027911, 0.17398797885640638, 0.2043347193546168, 0.9949870932388266, 0.17617639843628766, 0.8226082603909739, 0.9972846913166344, 0.9944419828199311, 0.9966362690822194, 0.2642508039771484, 0.7340300110476344, 0.9935904681651383, 0.9949349458241323, 0.26049370855732523, 0.7370065900646275, 0.9963027844422195, 0.19450045439333646, 0.6618067409227811, 0.13892889599524033, 0.997850566387367, 0.9982702367137615, 0.9982775172053335, 0.9985328998888016, 0.9970975155840682, 0.3180578885725765, 0.008635055798350494, 0.10697874683512, 0.28495684134556626, 0.03358077254914081, 0.09450588845972484, 0.0038378025770446638, 0.05708731333353937, 0.04749280689092771, 0.044134729636013635, 0.9953637182668199, 0.0020984477546032746, 0.0020984477546032746, 0.9985498265478784, 0.995852518404219, 0.9933203467906275, 0.999007175551062, 0.9987942689681008, 0.9981883228982044, 0.9984437300835737, 0.9975499440524805, 0.9986372683048298, 0.9982102899055634, 0.9979653875332437, 0.692508823207384, 0.001812850322532419, 0.06934152483686502, 0.0679818870949657, 0.16723544225361564, 0.8336273440027288, 0.164482525274081, 0.9971833540784742, 0.996551764166349, 0.9986512534572137, 0.9984162491618149, 0.9963022361364867, 0.09442221290087881, 0.07650620327353258, 0.0009684329528295263, 0.14671759235367324, 0.0019368659056590526, 0.08231680099050973, 0.14381229349518465, 0.3287829874856242, 0.12444363443859412, 0.14193102300238322, 0.8553211649354147, 0.998576956118667, 0.9973094111293563, 0.25104164163842296, 0.050056641535153816, 0.07432652834007689, 0.1827825849995768, 0.06370845286292304, 0.09025364155580765, 0.07887713211599996, 0.12741690572584607, 0.050056641535153816, 0.031095792468807674, 0.9985138403417329, 0.9973112647086906, 0.9949154445169403, 0.996481267097284, 0.9926428097133149, 0.9979414879765728, 0.9960896342370426, 0.9985934067455244, 0.9981088873607336, 0.9978022087511688, 0.9951086620355795, 0.20383662511831468, 0.41518302063572515, 0.0804618257045979, 0.13839434021190838, 0.15985082706646783, 0.9948584075844509, 0.39129148569049954, 0.21147468644114378, 0.3963567476411856, 0.01081601563752153, 0.6891347106192289, 0.06644123891620368, 0.23177176366117563, 0.9951140497909441, 0.9982775299219374, 0.9930139530956165, 0.9965722222307634, 0.25768191131663915, 0.25382632162112834, 0.04305408493320405, 0.12402146853893106, 0.06040423856300269, 0.07775439219280134, 0.09510454582259999, 0.08739336643157836, 0.9976052467240898, 0.9962172408985936, 0.1842469901978071, 0.8139867029634462, 0.9983142484532418, 0.22581610286584594, 0.09042315039810105, 0.3012493192407324, 0.05222299595184446, 0.06769647623387244, 0.06527874493980557, 0.09864343679792842, 0.09864343679792842, 0.9927650844011806, 0.7921590993500482, 0.20506246188848765, 0.9942378367292348, 0.9965010519821197, 0.2155017954116674, 0.15293675803408655, 0.6326020445955398, 0.9990794987833733, 0.9968314368582005, 0.996897359708885, 0.9981645079441854, 0.9975930132562425, 0.9985710071320594, 0.7306436971498397, 0.10287041223409296, 0.05407290899484373, 0.11078352086748472, 0.9982445509851389, 0.9961375407150613, 0.214375457396374, 0.26384671679553723, 0.06275520868227188, 0.14062663551428808, 0.0558842004323881, 0.04992932661582215, 0.07970369569865188, 0.04992932661582215, 0.08199403178194647, 0.2060108874424526, 0.6303114569431331, 0.16371726154367094, 0.9941286990998144, 0.9973331655055262, 0.9970670603143298, 0.9987830494938085, 0.9951539795166063, 0.994108132998733, 0.9959079336771716, 0.9937456675018939, 0.854355269887081, 0.13965422680846518, 0.9942307365538277, 0.9963591767116695, 0.9962765777175019, 0.9945666760367695, 0.9964213070946604, 0.9981143665580625, 0.37794789675332985, 0.5014358234153089, 0.11974586827828274, 0.996742445711689, 0.9942194429058054, 0.9943880873839124, 0.998655262792955, 0.9969035376916059, 0.9965550894297057, 0.9959320672423093, 0.3976690529431041, 0.013151805058170546, 0.08098743114768178, 0.09171653527408406, 0.026995810382560593, 0.06402852462530396, 0.05779872222932845, 0.07129662742060874, 0.1020995392673766, 0.07475762875170626, 0.019727707587255817, 0.9944578249118585, 0.9968451562421485, 0.9977013878102882, 0.9953180574244335, 0.7704996119278248, 0.22808321845624663, 0.047757497135576706, 0.0911066099201771, 0.17633537403905247, 0.0675952267149701, 0.09404553282082798, 0.002204192175488156, 0.14400722213189285, 0.16751860533709984, 0.019102998854230682, 0.042614382059437676, 0.07567726469176002, 0.07053414961562099, 0.9977024030016404, 0.994685268164954, 0.1903735295571035, 0.48294758550802047, 0.0834971620864489, 0.0754814345261498, 0.07882132100960776, 0.08884098045998164, 0.9981497635158227, 0.998805252830968, 0.9972820004687659, 0.9971817729809672, 0.9992150459567711, 0.9960666188467534, 0.997615242398386, 0.9985548373712952, 0.9966507546459893, 0.9982535775559657, 0.9952883261932239, 0.9958812496542047, 0.9974191304882852, 0.9976717828754321, 0.9981811781447177, 0.9986103400893718, 0.996963936946252, 0.9958497539255686, 0.9977547264850279, 0.9983035323140415, 0.9986299096886241, 0.22471318510377183, 0.7750802373900152, 0.9968135108493791, 0.9962922385237624, 0.9987143551700178, 0.2913446516102431, 0.18678230732067733, 0.10277495378888944, 0.10813712529091846, 0.06434605802434817, 0.07149562002705352, 0.058090191271980986, 0.024129771759130565, 0.05898388652231916, 0.034854114763188594, 0.14093890893326252, 0.6997202302333739, 0.1583490094485479, 0.9969777572168557, 0.9961244105802776, 0.994737820821408, 0.9937847368129054, 0.9983995665162478, 0.9932320164952865, 0.9985703287134383, 0.9959380747450917, 0.9953317827055482, 0.9955418122338907, 0.9946199984833682, 0.9961040396353431, 0.9981318623111951, 0.24997015503261225, 0.7475742954246348, 0.9960283916056649, 0.9967640594269226, 0.7050963131369111, 0.16127202906854882, 0.1312679306371909, 0.993766271897335, 0.9982408213915119, 0.9977476948116498, 0.997376504366299, 0.20679105340485326, 0.6300881761463315, 0.16237955200246867, 0.9980174921058871, 0.9986659577623523, 0.9951036534816219, 0.9955928104750601, 0.9984160681550704, 0.9980695952672378, 0.9980772336735168, 0.9967184030844055, 0.9973087506816843, 0.7260343159121658, 0.2726457979585771, 0.9950096474891296, 0.9974026676187832, 0.7912098862993467, 0.20753046198015654, 0.9984986174251446, 0.9955715735242348, 0.9988523657656131, 0.9964303637575632, 0.9986708142378635, 0.9960307603918624, 0.9969612186122577, 0.9981985459037673, 0.9972687146448497, 0.8080082510559403, 0.19020125497364918, 0.9981747180715649, 0.8072735205264552, 0.19246256118511515, 0.9984353821648432, 0.9937728697790952, 0.9983788898717693, 0.9964762046883937, 0.9980997154446624, 0.9965583643640202, 0.9929382197819072, 0.9965740055492635, 0.9948818592043976, 0.9961080083778222, 0.9970927273468815, 0.9955453960686705, 0.9965721430643538, 0.9993966944269815, 0.20357235020772568, 0.29709761834663734, 0.14309070992861878, 0.10591662858633843, 0.03982937286672894, 0.02094729980398337, 0.03363369264301555, 0.010621166097794383, 0.00619568022371339, 0.0687425472440581, 0.04484492352402073, 0.02094729980398337, 0.005015550657291792, 0.999368661287907, 0.997122596756092, 0.9945288782284967, 0.9938165945149064, 0.9958822326655069, 0.9953187159460689, 0.9973648147650259, 0.9982145261561332, 0.9977077080170805, 0.9987528749500297, 0.22608333275628997, 0.07653404649726547, 0.0074774643129512245, 0.0778535990230804, 0.08093255491664855, 0.034308365671187974, 0.026830901358236747, 0.04574448756158396, 0.12975599837180066, 0.09500778185867438, 0.031669260619558125, 0.08621076501990824, 0.01319552525814922, 0.06861673134237595, 0.9942314927686068, 0.330077193028208, 0.058593584561220345, 0.6113263989220656, 0.995102821177876, 0.9981736306800266, 0.9974210264434417, 0.26055095463590483, 0.16580515295012127, 0.5733754550294834, 0.9940157823580474, 0.9984299970685424, 0.9984191199842076, 0.25932262049839205, 0.7382517844819089, 0.996860805106362, 0.9985774858312386, 0.9969395578118779, 0.9962348412911527, 0.9941935373556605, 0.9941094205656945, 0.9967101348455869, 0.9972567474478], \"Term\": [\"''\", \"''_.-\", \"..\", \"..\", \"..\", \"..\", \"..\", \"..\", \"..\", \"..\", \"..\", \"..\", \"..\", \"..\", \"..\", \"..\", \"..\", \"..\", \"..\", \"..\", \"..\", \"..\", \"...\", \"...\", \"...\", \"...\", \"...\", \"...\", \"...\", \"...\", \"...\", \"...\", \"...\", \"...\", \"...\", \"...\", \"...\", \"...\", \"...\", \"10\", \"100\", \"20\", \"3\", \"30\", \"4\", \"40\", \"5\", \"5\", \"50\", \"``\", \"\\u0430\\u0431\\u0440\\u0430\\u043c\", \"\\u0430\\u0432\\u0442\\u043e\\u0431\\u0443\\u0441\", \"\\u0430\\u0432\\u0442\\u043e\\u0431\\u0443\\u0441\", \"\\u0430\\u0432\\u0442\\u043e\\u043c\\u043e\\u0431\\u0438\\u043b\\u044c\", \"\\u0430\\u0432\\u0442\\u043e\\u043c\\u043e\\u0431\\u0438\\u043b\\u044c\", \"\\u0430\\u0433\\u0430\", \"\\u0430\\u043b\\u043a\\u043e\\u0433\\u043e\\u043b\\u044c\", \"\\u0430\\u043c\\u0435\\u0440\\u0438\\u043a\\u0430\", \"\\u0430\\u043c\\u0435\\u0440\\u0438\\u043a\\u0430\\u043d\\u0435\\u0446\", \"\\u0430\\u043c\\u0435\\u0440\\u0438\\u043a\\u0430\\u043d\\u0441\\u043a\\u0438\\u0439\", \"\\u0430\\u043d\\u0435\\u043a\\u0434\\u043e\\u0442\", \"\\u0430\\u043f\\u0442\\u0435\\u043a\\u0430\", \"\\u0430\\u0440\\u043c\\u0438\\u044f\", \"\\u0431\\u0430\\u0431\\u0430\", \"\\u0431\\u0430\\u0431\\u0430\", \"\\u0431\\u0430\\u0431\\u043a\\u0430\", \"\\u0431\\u0430\\u0431\\u0443\\u0448\\u043a\\u0430\", \"\\u0431\\u0430\\u043d\\u043a\", \"\\u0431\\u0430\\u043d\\u043a\", \"\\u0431\\u0430\\u0440\", \"\\u0431\\u0435\\u0433\\u0430\\u0442\\u044c\", \"\\u0431\\u0435\\u0434\\u043d\\u044b\\u0439\", \"\\u0431\\u0435\\u0436\\u0430\\u0442\\u044c\", \"\\u0431\\u0435\\u043b\\u044b\\u0439\", \"\\u0431\\u0435\\u0440\\u0435\\u043c\\u0435\\u043d\\u043d\\u044b\\u0439\", \"\\u0431\\u0438\\u043b\\u0435\\u0442\", \"\\u0431\\u0438\\u0442\\u044c\", \"\\u0431\\u043b\\u043e\\u043d\\u0434\\u0438\\u043d\\u043a\\u0430\", \"\\u0431\\u043e\\u0433\", \"\\u0431\\u043e\\u0433\", \"\\u0431\\u043e\\u0433\", \"\\u0431\\u043e\\u0433\\u0430\\u0442\\u044b\\u0439\", \"\\u0431\\u043e\\u043b\\u0435\\u0442\\u044c\", \"\\u0431\\u043e\\u043b\\u044c\\u043d\\u043e\\u0439\", \"\\u0431\\u043e\\u043b\\u044c\\u0448\\u0438\\u0439\", \"\\u0431\\u043e\\u043b\\u044c\\u0448\\u043e\\u0439\", \"\\u0431\\u043e\\u044f\\u0442\\u044c\\u0441\\u044f\", \"\\u0431\\u0440\\u0430\\u0442\", \"\\u0431\\u0440\\u0430\\u0442\\u044c\", \"\\u0431\\u0440\\u0430\\u0442\\u044c\", \"\\u0431\\u0440\\u043e\\u0441\\u0438\\u0442\\u044c\", \"\\u0431\\u0443\\u0434\\u0443\\u0449\\u0435\\u0435\", \"\\u0431\\u0443\\u043a\\u0432\\u0430\", \"\\u0431\\u0443\\u0442\\u044b\\u043b\\u043a\\u0430\", \"\\u0431\\u0443\\u0442\\u044b\\u043b\\u043a\\u0430\", \"\\u0431\\u0443\\u0445\\u0430\\u0442\\u044c\", \"\\u0431\\u044b\\u0432\\u0430\\u0442\\u044c\", \"\\u0431\\u044b\\u0432\\u0448\\u0438\\u0439\", \"\\u0431\\u044b\\u0441\\u0442\\u0440\\u043e\", \"\\u0431\\u044b\\u0441\\u0442\\u0440\\u044b\\u0439\", \"\\u0432\\u0430\\u043d\\u043d\\u0430\\u044f\", \"\\u0432\\u0430\\u0441\\u044f\", \"\\u0432\\u0435\\u0437\\u0442\\u0438\", \"\\u0432\\u0435\\u043b\\u0438\\u043a\\u0438\\u0439\", \"\\u0432\\u0435\\u0440\\u0438\\u0442\\u044c\", \"\\u0432\\u0435\\u0440\\u043d\\u0443\\u0442\\u044c\", \"\\u0432\\u0435\\u0440\\u043d\\u0443\\u0442\\u044c\\u0441\\u044f\", \"\\u0432\\u0435\\u0441\\u043d\\u0430\", \"\\u0432\\u0435\\u0441\\u0442\\u0438\", \"\\u0432\\u0435\\u0447\\u0435\\u0440\", \"\\u0432\\u0435\\u0447\\u0435\\u0440\\u043e\\u043c\", \"\\u0432\\u0435\\u0447\\u0435\\u0440\\u043e\\u043c\", \"\\u0432\\u0435\\u0449\\u044c\", \"\\u0432\\u0437\\u0433\\u043b\\u044f\\u0434\", \"\\u0432\\u0437\\u044f\\u0442\\u044c\", \"\\u0432\\u0437\\u044f\\u0442\\u044c\", \"\\u0432\\u0437\\u044f\\u0442\\u044c\", \"\\u0432\\u0437\\u044f\\u0442\\u044c\", \"\\u0432\\u0437\\u044f\\u0442\\u044c\", \"\\u0432\\u0437\\u044f\\u0442\\u044c\", \"\\u0432\\u0437\\u044f\\u0442\\u044c\", \"\\u0432\\u0438\\u0434\", \"\\u0432\\u0438\\u0434\", \"\\u0432\\u0438\\u0434\\u0435\\u0442\\u044c\", \"\\u0432\\u0438\\u0434\\u0435\\u0442\\u044c\", \"\\u0432\\u0438\\u0434\\u0435\\u0442\\u044c\", \"\\u0432\\u0438\\u0434\\u0435\\u0442\\u044c\", \"\\u0432\\u0438\\u0434\\u0435\\u0442\\u044c\", \"\\u0432\\u0438\\u0434\\u0435\\u0442\\u044c\", \"\\u0432\\u0438\\u0434\\u0435\\u0442\\u044c\", \"\\u0432\\u0438\\u0434\\u0435\\u0442\\u044c\", \"\\u0432\\u0438\\u0434\\u0435\\u0442\\u044c\", \"\\u0432\\u0438\\u0434\\u0435\\u0442\\u044c\", \"\\u0432\\u0438\\u0434\\u0435\\u0442\\u044c\", \"\\u0432\\u0438\\u0434\\u043d\\u043e\", \"\\u0432\\u0438\\u043d\\u043e\", \"\\u0432\\u0438\\u043d\\u043e\\u0432\\u0430\\u0442\\u044b\\u0439\", \"\\u0432\\u043a\\u043b\\u044e\\u0447\\u0438\\u0442\\u044c\", \"\\u0432\\u043b\\u0430\\u0441\\u0442\\u044c\", \"\\u0432\\u043c\\u0435\\u0441\\u0442\\u0435\", \"\\u0432\\u043d\\u0438\\u043c\\u0430\\u043d\\u0438\\u0435\", \"\\u0432\\u043d\\u0438\\u043c\\u0430\\u043d\\u0438\\u0435\", \"\\u0432\\u043e\\u0432\\u043e\\u0447\\u043a\\u0430\", \"\\u0432\\u043e\\u0432\\u043e\\u0447\\u043a\\u0430\", \"\\u0432\\u043e\\u0434\\u0430\", \"\\u0432\\u043e\\u0434\\u043a\\u0430\", \"\\u0432\\u043e\\u0437\\u0440\\u0430\\u0441\\u0442\", \"\\u0432\\u043e\\u0439\\u043d\\u0430\", \"\\u0432\\u043e\\u043b\\u043d\\u043e\\u0432\\u0430\\u0442\\u044c\\u0441\\u044f\", \"\\u0432\\u043e\\u043e\\u0431\\u0449\\u0435-\\u0442\\u043e\", \"\\u0432\\u043e\\u043f\\u0440\\u043e\\u0441\", \"\\u0432\\u043e\\u043f\\u0440\\u043e\\u0441\", \"\\u0432\\u043e\\u043f\\u0440\\u043e\\u0441\", \"\\u0432\\u043e\\u043f\\u0440\\u043e\\u0441\", \"\\u0432\\u0440\\u0430\\u0433\", \"\\u0432\\u0440\\u0430\\u0442\\u044c\", \"\\u0432\\u0440\\u0430\\u0447\", \"\\u0432\\u0440\\u0430\\u0447\", \"\\u0432\\u0441\\u0442\\u0430\\u0432\\u0430\\u0442\\u044c\", \"\\u0432\\u0441\\u0442\\u0430\\u0442\\u044c\", \"\\u0432\\u0441\\u0442\\u0440\\u0435\\u0442\\u0438\\u0442\\u044c\", \"\\u0432\\u0441\\u0442\\u0440\\u0435\\u0442\\u0438\\u0442\\u044c\\u0441\\u044f\", \"\\u0432\\u0441\\u0442\\u0440\\u0435\\u0447\\u0430\", \"\\u0432\\u0441\\u0442\\u0440\\u0435\\u0447\\u0430\\u0442\\u044c\", \"\\u0432\\u0441\\u0442\\u0440\\u0435\\u0447\\u0430\\u0442\\u044c\\u0441\\u044f\", \"\\u0432\\u0441\\u044f\\u043a\\u0438\\u0439\", \"\\u0432\\u0441\\u0451-\\u0442\\u0430\\u043a\\u0438\", \"\\u0432\\u0442\\u043e\\u0440\\u043e\\u0439\", \"\\u0432\\u0442\\u043e\\u0440\\u043e\\u0439\", \"\\u0432\\u0447\\u0435\\u0440\\u0430\", \"\\u0432\\u0447\\u0435\\u0440\\u0430\", \"\\u0432\\u0447\\u0435\\u0440\\u0430\", \"\\u0432\\u0447\\u0435\\u0440\\u0430\", \"\\u0432\\u0447\\u0435\\u0440\\u0430\", \"\\u0432\\u0447\\u0435\\u0440\\u0430\", \"\\u0432\\u0447\\u0435\\u0440\\u0430\", \"\\u0432\\u0447\\u0435\\u0440\\u0430\", \"\\u0432\\u0447\\u0435\\u0440\\u0430\", \"\\u0432\\u0447\\u0435\\u0440\\u0430\", \"\\u0432\\u0447\\u0435\\u0440\\u0430\", \"\\u0432\\u044b\\u0431\\u0438\\u0440\\u0430\\u0442\\u044c\", \"\\u0432\\u044b\\u0431\\u0440\\u0430\\u0442\\u044c\", \"\\u0432\\u044b\\u0433\\u043b\\u044f\\u0434\\u0435\\u0442\\u044c\", \"\\u0432\\u044b\\u0437\\u044b\\u0432\\u0430\\u0442\\u044c\", \"\\u0432\\u044b\\u0438\\u0433\\u0440\\u0430\\u0442\\u044c\", \"\\u0432\\u044b\\u0439\\u0442\\u0438\", \"\\u0432\\u044b\\u0439\\u0442\\u0438\", \"\\u0432\\u044b\\u0439\\u0442\\u0438\", \"\\u0432\\u044b\\u0439\\u0442\\u0438\", \"\\u0432\\u044b\\u0439\\u0442\\u0438\", \"\\u0432\\u044b\\u0439\\u0442\\u0438\", \"\\u0432\\u044b\\u0439\\u0442\\u0438\", \"\\u0432\\u044b\\u0439\\u0442\\u0438_\\u0437\\u0430\\u043c\\u0443\\u0436\", \"\\u0432\\u044b\\u043f\\u0438\\u0442\\u044c\", \"\\u0432\\u044b\\u043f\\u0438\\u0442\\u044c\", \"\\u0432\\u044b\\u0440\\u0430\\u0441\\u0442\\u0438\", \"\\u0432\\u044b\\u0441\\u043e\\u043a\\u0438\\u0439\", \"\\u0432\\u044b\\u0445\\u043e\\u0434\\u0438\\u0442\\u044c\", \"\\u0432\\u044b\\u0445\\u043e\\u0434\\u0438\\u0442\\u044c\", \"\\u0432\\u044b\\u0445\\u043e\\u0434\\u0438\\u0442\\u044c\", \"\\u0432\\u044b\\u0445\\u043e\\u0434\\u043d\\u043e\\u0439\", \"\\u0433\\u0430\\u0438\\u0448\\u043d\\u0438\\u043a\", \"\\u0433\\u0435\\u0439\", \"\\u0433\\u0435\\u043d\\u0435\\u0440\\u0430\\u043b\", \"\\u0433\\u043b\\u0430\\u0432\\u043d\\u043e\\u0435\", \"\\u0433\\u043b\\u0430\\u0432\\u043d\\u044b\\u0439\", \"\\u0433\\u043b\\u0430\\u0437\", \"\\u0433\\u043b\\u0443\\u043f\\u044b\\u0439\", \"\\u0433\\u043b\\u044f\\u0434\\u0435\\u0442\\u044c\", \"\\u0433\\u043e\\u0432\\u043e\\u0440\\u0438\\u0442\\u044c\", \"\\u0433\\u043e\\u0432\\u043e\\u0440\\u0438\\u0442\\u044c\", \"\\u0433\\u043e\\u0432\\u043e\\u0440\\u0438\\u0442\\u044c\", \"\\u0433\\u043e\\u0432\\u043e\\u0440\\u0438\\u0442\\u044c\", \"\\u0433\\u043e\\u0432\\u043e\\u0440\\u0438\\u0442\\u044c\", \"\\u0433\\u043e\\u0432\\u043e\\u0440\\u0438\\u0442\\u044c\", \"\\u0433\\u043e\\u0432\\u043e\\u0440\\u0438\\u0442\\u044c\", \"\\u0433\\u043e\\u0432\\u043e\\u0440\\u0438\\u0442\\u044c\", \"\\u0433\\u043e\\u0432\\u043e\\u0440\\u0438\\u0442\\u044c\", \"\\u0433\\u043e\\u0432\\u043e\\u0440\\u0438\\u0442\\u044c\", \"\\u0433\\u043e\\u0432\\u043e\\u0440\\u0438\\u0442\\u044c\", \"\\u0433\\u043e\\u0432\\u043e\\u0440\\u0438\\u0442\\u044c\", \"\\u0433\\u043e\\u0432\\u043e\\u0440\\u0438\\u0442\\u044c\", \"\\u0433\\u043e\\u0432\\u043e\\u0440\\u0438\\u0442\\u044c\", \"\\u0433\\u043e\\u0432\\u043e\\u0440\\u0438\\u0442\\u044c\", \"\\u0433\\u043e\\u0432\\u043e\\u0440\\u0438\\u0442\\u044c_``\", \"\\u0433\\u043e\\u043b\\u043e\\u0432\\u0430\", \"\\u0433\\u043e\\u043b\\u043e\\u0432\\u0430\", \"\\u0433\\u043e\\u043b\\u043e\\u0432\\u0430\", \"\\u0433\\u043e\\u043b\\u043e\\u0432\\u0430\", \"\\u0433\\u043e\\u043b\\u043e\\u0432\\u0430\", \"\\u0433\\u043e\\u043b\\u043e\\u0432\\u0430\", \"\\u0433\\u043e\\u043b\\u0443\\u0431\\u043e\\u0439\", \"\\u0433\\u043e\\u043b\\u044b\\u0439\", \"\\u0433\\u043e\\u0440\\u043e\\u0434\", \"\\u0433\\u043e\\u0440\\u043e\\u0434\", \"\\u0433\\u043e\\u0441\\u0442\\u044c\", \"\\u0433\\u043e\\u0441\\u0443\\u0434\\u0430\\u0440\\u0441\\u0442\\u0432\\u043e\", \"\\u0433\\u043e\\u0442\\u043e\\u0432\\u0438\\u0442\\u044c\", \"\\u0433\\u043e\\u0442\\u043e\\u0432\\u044b\\u0439\", \"\\u0433\\u0440\\u0430\\u0436\\u0434\\u0430\\u043d\\u0438\\u043d\", \"\\u0433\\u0440\\u0443\\u0434\\u044c\", \"\\u0433\\u0440\\u0443\\u043f\\u043f\\u0430\", \"\\u0433\\u0440\\u044f\\u0437\\u043d\\u044b\\u0439\", \"\\u0433\\u0443\\u043b\\u044f\\u0442\\u044c\", \"\\u0434\\u0430.-\", \"\\u0434\\u0430\\u0432\\u0430\\u0442\\u044c\", \"\\u0434\\u0430\\u0432\\u0430\\u0442\\u044c\", \"\\u0434\\u0430\\u0432\\u0430\\u0442\\u044c\", \"\\u0434\\u0430\\u0432\\u0430\\u0442\\u044c\", \"\\u0434\\u0430\\u0432\\u0430\\u0442\\u044c\", \"\\u0434\\u0430\\u0432\\u0430\\u0442\\u044c\", \"\\u0434\\u0430\\u0432\\u0430\\u0442\\u044c\", \"\\u0434\\u0430\\u0432\\u0430\\u0442\\u044c\", \"\\u0434\\u0430\\u0432\\u0430\\u0442\\u044c\", \"\\u0434\\u0430\\u0432\\u0430\\u0442\\u044c\", \"\\u0434\\u0430\\u0432\\u0430\\u0442\\u044c\", \"\\u0434\\u0430\\u043c\\u0430\", \"\\u0434\\u0430\\u0442\\u044c\", \"\\u0434\\u0430\\u0442\\u044c\", \"\\u0434\\u0430\\u0442\\u044c\", \"\\u0434\\u0430\\u0442\\u044c\", \"\\u0434\\u0430\\u0442\\u044c\", \"\\u0434\\u0430\\u0442\\u044c\", \"\\u0434\\u0430\\u0442\\u044c\", \"\\u0434\\u0430\\u0442\\u044c\", \"\\u0434\\u0430\\u0447\\u0430\", \"\\u0434\\u0432\\u0435\\u0440\\u044c\", \"\\u0434\\u0432\\u0435\\u0440\\u044c\", \"\\u0434\\u0432\\u043e\\u0435\", \"\\u0434\\u0435\\u0432\\u043a\\u0430\", \"\\u0434\\u0435\\u0432\\u043e\\u0447\\u043a\\u0430\", \"\\u0434\\u0435\\u0432\\u0443\\u0448\\u043a\\u0430\", \"\\u0434\\u0435\\u0434\", \"\\u0434\\u0435\\u0434_\\u043c\\u043e\\u0440\\u043e\\u0437\", \"\\u0434\\u0435\\u043b\\u0430\\u0442\\u044c\", \"\\u0434\\u0435\\u043b\\u0430\\u0442\\u044c\", \"\\u0434\\u0435\\u043b\\u0430\\u0442\\u044c\", \"\\u0434\\u0435\\u043b\\u0430\\u0442\\u044c\", \"\\u0434\\u0435\\u043b\\u0430\\u0442\\u044c\", \"\\u0434\\u0435\\u043b\\u0430\\u0442\\u044c\", \"\\u0434\\u0435\\u043b\\u0430\\u0442\\u044c\", \"\\u0434\\u0435\\u043b\\u0430\\u0442\\u044c\", \"\\u0434\\u0435\\u043b\\u0430\\u0442\\u044c\", \"\\u0434\\u0435\\u043b\\u0430\\u0442\\u044c\", \"\\u0434\\u0435\\u043b\\u0430\\u0442\\u044c\", \"\\u0434\\u0435\\u043b\\u0430\\u0442\\u044c\", \"\\u0434\\u0435\\u043b\\u0430\\u0442\\u044c\", \"\\u0434\\u0435\\u043b\\u0430\\u0442\\u044c\", \"\\u0434\\u0435\\u043b\\u0430\\u0442\\u044c\", \"\\u0434\\u0435\\u043b\\u043e\", \"\\u0434\\u0435\\u043b\\u043e\", \"\\u0434\\u0435\\u043b\\u043e\", \"\\u0434\\u0435\\u043b\\u043e\", \"\\u0434\\u0435\\u043b\\u043e\", \"\\u0434\\u0435\\u043b\\u043e\", \"\\u0434\\u0435\\u043b\\u043e\", \"\\u0434\\u0435\\u043d\\u044c\", \"\\u0434\\u0435\\u043d\\u044c\", \"\\u0434\\u0435\\u043d\\u044c\", \"\\u0434\\u0435\\u043d\\u044c\", \"\\u0434\\u0435\\u043d\\u044c\", \"\\u0434\\u0435\\u043d\\u044c\", \"\\u0434\\u0435\\u043d\\u044c\", \"\\u0434\\u0435\\u043d\\u044c\\u0433\\u0430\", \"\\u0434\\u0435\\u043d\\u044c\\u0433\\u0430\", \"\\u0434\\u0435\\u043d\\u044c\\u0433\\u0430\", \"\\u0434\\u0435\\u043d\\u044c\\u0433\\u0430\", \"\\u0434\\u0435\\u043d\\u044c\\u0433\\u0430\", \"\\u0434\\u0435\\u043f\\u0443\\u0442\\u0430\\u0442\", \"\\u0434\\u0435\\u0440\\u0435\\u0432\\u043d\\u044f\", \"\\u0434\\u0435\\u0440\\u0435\\u0432\\u043e\", \"\\u0434\\u0435\\u0442\\u0441\\u043a\\u0438\\u0439\", \"\\u0434\\u0435\\u0442\\u0441\\u0442\\u0432\\u043e\", \"\\u0434\\u0435\\u0442\\u0441\\u0442\\u0432\\u043e\", \"\\u0434\\u0435\\u0442\\u0441\\u0442\\u0432\\u043e\", \"\\u0434\\u0438\\u0432\\u0430\\u043d\", \"\\u0434\\u0438\\u0440\\u0435\\u043a\\u0442\\u043e\\u0440\", \"\\u0434\\u043b\\u0438\\u043d\\u043d\\u044b\\u0439\", \"\\u0434\\u043e\\u0431\\u0440\\u044b\\u0439\", \"\\u0434\\u043e\\u043a\\u0430\\u0437\\u0430\\u0442\\u044c\", \"\\u0434\\u043e\\u043a\\u0442\\u043e\\u0440\", \"\\u0434\\u043e\\u043a\\u0442\\u043e\\u0440\", \"\\u0434\\u043e\\u043b\\u0433\", \"\\u0434\\u043e\\u043b\\u0433\\u0438\\u0439\", \"\\u0434\\u043e\\u043b\\u0436\\u043d\\u044b\\u0439\", \"\\u0434\\u043e\\u043b\\u0436\\u043d\\u044b\\u0439\", \"\\u0434\\u043e\\u043b\\u0436\\u043d\\u044b\\u0439\", \"\\u0434\\u043e\\u043b\\u0436\\u043d\\u044b\\u0439\", \"\\u0434\\u043e\\u043b\\u0436\\u043d\\u044b\\u0439\", \"\\u0434\\u043e\\u043b\\u0436\\u043d\\u044b\\u0439\", \"\\u0434\\u043e\\u043b\\u0436\\u043d\\u044b\\u0439\", \"\\u0434\\u043e\\u043b\\u0436\\u043d\\u044b\\u0439\", \"\\u0434\\u043e\\u043b\\u0436\\u043d\\u044b\\u0439\", \"\\u0434\\u043e\\u043b\\u0436\\u043d\\u044b\\u0439\", \"\\u0434\\u043e\\u043b\\u0436\\u043d\\u044b\\u0439\", \"\\u0434\\u043e\\u043b\\u043b\\u0430\\u0440\", \"\\u0434\\u043e\\u043c\", \"\\u0434\\u043e\\u043c\", \"\\u0434\\u043e\\u043c\", \"\\u0434\\u043e\\u043c\", \"\\u0434\\u043e\\u043c\", \"\\u0434\\u043e\\u043c\", \"\\u0434\\u043e\\u043c\", \"\\u0434\\u043e\\u043c\\u043e\\u0439\", \"\\u0434\\u043e\\u0440\\u043e\\u0433\\u0430\", \"\\u0434\\u043e\\u0440\\u043e\\u0433\\u0430\", \"\\u0434\\u043e\\u0440\\u043e\\u0433\\u0430\", \"\\u0434\\u043e\\u0440\\u043e\\u0433\\u0430\", \"\\u0434\\u043e\\u0440\\u043e\\u0433\\u0430\", \"\\u0434\\u043e\\u0440\\u043e\\u0433\\u0430\", \"\\u0434\\u043e\\u0440\\u043e\\u0433\\u0430\", \"\\u0434\\u043e\\u0440\\u043e\\u0433\\u0430\", \"\\u0434\\u043e\\u0440\\u043e\\u0433\\u0430\", \"\\u0434\\u043e\\u0440\\u043e\\u0433\\u0430\", \"\\u0434\\u043e\\u0440\\u043e\\u0433\\u043e\\u0439\", \"\\u0434\\u043e\\u0440\\u043e\\u0433\\u043e\\u0439\", \"\\u0434\\u043e\\u0440\\u043e\\u0433\\u043e\\u0439\", \"\\u0434\\u043e\\u0440\\u043e\\u0433\\u043e\\u0439\", \"\\u0434\\u043e\\u0440\\u043e\\u0433\\u043e\\u0439\", \"\\u0434\\u043e\\u0441\\u0442\\u0430\\u0442\\u043e\\u0447\\u043d\\u043e\", \"\\u0434\\u043e\\u0441\\u0442\\u0430\\u0442\\u043e\\u0447\\u043d\\u043e\", \"\\u0434\\u043e\\u0441\\u0442\\u0430\\u0442\\u044c\", \"\\u0434\\u043e\\u0447\\u0435\\u043d\\u044c\\u043a\\u0430\", \"\\u0434\\u043e\\u0447\\u043a\\u0430\", \"\\u0434\\u043e\\u0447\\u044c\", \"\\u0434\\u0440\\u0443\\u0433\", \"\\u0434\\u0440\\u0443\\u0433_\\u0434\\u0440\\u0443\\u0433\", \"\\u0434\\u0440\\u0443\\u0433_\\u0434\\u0440\\u0443\\u0433\", \"\\u0434\\u0440\\u0443\\u0433_\\u0434\\u0440\\u0443\\u0433\", \"\\u0434\\u0440\\u0443\\u0433\\u043e\\u0439\", \"\\u0434\\u0440\\u0443\\u0433\\u043e\\u0439\", \"\\u0434\\u0443\\u043c\\u0430\\u0442\\u044c\", \"\\u0434\\u0443\\u043c\\u0430\\u0442\\u044c\", \"\\u0434\\u0443\\u043c\\u0430\\u0442\\u044c\", \"\\u0434\\u0443\\u043c\\u0430\\u0442\\u044c\", \"\\u0434\\u0443\\u043c\\u0430\\u0442\\u044c\", \"\\u0434\\u0443\\u043c\\u0430\\u0442\\u044c\", \"\\u0434\\u0443\\u043c\\u0430\\u0442\\u044c\", \"\\u0434\\u0443\\u043c\\u0430\\u0442\\u044c\", \"\\u0434\\u0443\\u043c\\u0430\\u0442\\u044c\", \"\\u0434\\u0443\\u043c\\u0430\\u0442\\u044c\", \"\\u0434\\u0443\\u043c\\u0430\\u0442\\u044c\", \"\\u0434\\u0443\\u043c\\u0430\\u0442\\u044c\", \"\\u0434\\u0443\\u043c\\u0430\\u0442\\u044c\", \"\\u0434\\u0443\\u043c\\u0430\\u0442\\u044c\", \"\\u0434\\u0443\\u0440\\u0430\", \"\\u0434\\u0443\\u0440\\u0430\\u043a\", \"\\u0434\\u0443\\u0448\\u0430\", \"\\u0435\\u0432\\u0440\\u0435\\u0439\", \"\\u0435\\u0434\\u0438\\u043d\\u0441\\u0442\\u0432\\u0435\\u043d\\u043d\\u044b\\u0439\", \"\\u0435\\u0437\\u0434\\u0438\\u0442\\u044c\", \"\\u0435\\u0441\\u0442\\u044c\", \"\\u0435\\u0445\\u0430\\u0442\\u044c\", \"\\u0436\\u0430\\u043b\\u043e\\u0432\\u0430\\u0442\\u044c\\u0441\\u044f\", \"\\u0436\\u0434\\u0430\\u0442\\u044c\", \"\\u0436\\u0435\\u043b\\u0430\\u043d\\u0438\\u0435\", \"\\u0436\\u0435\\u043b\\u0430\\u0442\\u044c\", \"\\u0436\\u0435\\u043d\\u0430\", \"\\u0436\\u0435\\u043d\\u0430\", \"\\u0436\\u0435\\u043d\\u0430_\\u043c\\u0443\\u0436\", \"\\u0436\\u0435\\u043d\\u0430\\u0442\\u044b\\u0439\", \"\\u0436\\u0435\\u043d\\u0438\\u0442\\u044c\\u0441\\u044f\", \"\\u0436\\u0435\\u043d\\u0438\\u0445\", \"\\u0436\\u0435\\u043d\\u0441\\u043a\\u0438\\u0439\", \"\\u0436\\u0435\\u043d\\u0449\\u0438\\u043d\\u0430\", \"\\u0436\\u0438\\u0432\\u043e\\u0439\", \"\\u0436\\u0438\\u0432\\u043e\\u0442\\u043d\\u043e\\u0435\", \"\\u0436\\u0438\\u0437\\u043d\\u044c\", \"\\u0436\\u0438\\u0437\\u043d\\u044c\", \"\\u0436\\u0438\\u0437\\u043d\\u044c\", \"\\u0436\\u0438\\u0437\\u043d\\u044c\", \"\\u0436\\u0438\\u0442\\u0435\\u043b\\u044c\", \"\\u0436\\u0438\\u0442\\u044c\", \"\\u0436\\u0438\\u0442\\u044c\", \"\\u0436\\u0438\\u0442\\u044c\", \"\\u0436\\u0438\\u0442\\u044c\", \"\\u0436\\u0438\\u0442\\u044c\", \"\\u0436\\u0438\\u0442\\u044c\", \"\\u0436\\u0438\\u0442\\u044c\", \"\\u0436\\u0438\\u0442\\u044c\", \"\\u0436\\u0438\\u0442\\u044c\", \"\\u0436\\u0438\\u0442\\u044c\", \"\\u0436\\u0438\\u0442\\u044c\", \"\\u0436\\u0438\\u0442\\u044c\", \"\\u0436\\u043e\\u043f\\u0430\", \"\\u0436\\u0440\\u0430\\u0442\\u044c\", \"\\u0437\\u0430\\u0431\\u0440\\u0430\\u0442\\u044c\", \"\\u0437\\u0430\\u0431\\u044b\\u0432\\u0430\\u0442\\u044c\", \"\\u0437\\u0430\\u0431\\u044b\\u0442\\u044c\", \"\\u0437\\u0430\\u0432\\u0435\\u0441\\u0442\\u0438\", \"\\u0437\\u0430\\u0432\\u0442\\u0440\\u0430\", \"\\u0437\\u0430\\u0434\\u043d\\u0438\\u0446\\u0430\", \"\\u0437\\u0430\\u0439\\u0442\\u0438\", \"\\u0437\\u0430\\u043a\\u043e\\u043d\\u0447\\u0438\\u0442\\u044c\\u0441\\u044f\", \"\\u0437\\u0430\\u043c\\u0435\\u0442\\u0438\\u0442\\u044c\", \"\\u0437\\u0430\\u043c\\u0435\\u0442\\u0438\\u0442\\u044c\", \"\\u0437\\u0430\\u043d\\u0438\\u043c\\u0430\\u0442\\u044c\\u0441\\u044f\", \"\\u0437\\u0430\\u043f\\u043e\\u043c\\u043d\\u0438\\u0442\\u044c\", \"\\u0437\\u0430\\u043f\\u0440\\u0435\\u0442\\u0438\\u0442\\u044c\", \"\\u0437\\u0430\\u0440\\u043f\\u043b\\u0430\\u0442\\u0430\", \"\\u0437\\u0430\\u0441\\u0442\\u0430\\u0432\\u0438\\u0442\\u044c\", \"\\u0437\\u0430\\u0445\\u043e\\u0434\\u0438\\u0442\\u044c\", \"\\u0437\\u0430\\u0445\\u043e\\u0442\\u0435\\u0442\\u044c\", \"\\u0437\\u0430\\u044f\\u0432\\u0438\\u0442\\u044c\", \"\\u0437\\u0430\\u044f\\u0432\\u0438\\u0442\\u044c\", \"\\u0437\\u0430\\u044f\\u0446\", \"\\u0437\\u0432\\u0430\\u0442\\u044c\", \"\\u0437\\u0432\\u0430\\u0442\\u044c\", \"\\u0437\\u0432\\u043e\\u043d\\u0438\\u0442\\u044c\", \"\\u0437\\u0432\\u043e\\u043d\\u0438\\u0442\\u044c\", \"\\u0437\\u0432\\u043e\\u043d\\u043e\\u043a\", \"\\u0437\\u0434\\u0440\\u0430\\u0432\\u0441\\u0442\\u0432\\u0443\\u0439\\u0442\\u0435\", \"\\u0437\\u0435\\u043b\\u0451\\u043d\\u044b\\u0439\", \"\\u0437\\u0435\\u043c\\u043b\\u044f\", \"\\u0437\\u0438\\u043c\\u0430\", \"\\u0437\\u043b\\u043e\\u0439\", \"\\u0437\\u043d\\u0430\\u043a\\u043e\\u043c\\u044b\\u0439\", \"\\u0437\\u043d\\u0430\\u0442\\u044c\", \"\\u0437\\u043d\\u0430\\u0442\\u044c\", \"\\u0437\\u043d\\u0430\\u0442\\u044c\", \"\\u0437\\u043d\\u0430\\u0442\\u044c\", \"\\u0437\\u043d\\u0430\\u0442\\u044c\", \"\\u0437\\u043d\\u0430\\u0442\\u044c\", \"\\u0437\\u043d\\u0430\\u0442\\u044c\", \"\\u0437\\u043d\\u0430\\u0442\\u044c\", \"\\u0437\\u043d\\u0430\\u0442\\u044c\", \"\\u0437\\u043d\\u0430\\u0442\\u044c\", \"\\u0437\\u043d\\u0430\\u0442\\u044c\", \"\\u0437\\u043d\\u0430\\u0442\\u044c\", \"\\u0437\\u043d\\u0430\\u0442\\u044c\", \"\\u0437\\u043d\\u0430\\u0442\\u044c\", \"\\u0437\\u043d\\u0430\\u0442\\u044c\", \"\\u0437\\u043d\\u0430\\u0442\\u044c\", \"\\u0437\\u043d\\u0430\\u0442\\u044c\", \"\\u0437\\u043d\\u0430\\u0442\\u044c\", \"\\u0437\\u0443\\u0431\", \"\\u0438\\u0432\\u0430\\u043d\\u043e\\u0432\", \"\\u0438\\u0433\\u0440\\u0430\", \"\\u0438\\u0433\\u0440\\u0430\\u0442\\u044c\", \"\\u0438\\u0433\\u0440\\u0430\\u0442\\u044c\", \"\\u0438\\u0433\\u0440\\u0430\\u0442\\u044c\", \"\\u0438\\u0433\\u0440\\u0430\\u0442\\u044c\", \"\\u0438\\u0433\\u0440\\u0430\\u0442\\u044c\", \"\\u0438\\u0434\\u0438\\u043e\\u0442\", \"\\u0438\\u0434\\u0442\\u0438\", \"\\u0438\\u0434\\u0442\\u0438\", \"\\u0438\\u0434\\u0442\\u0438\", \"\\u0438\\u0434\\u0442\\u0438\", \"\\u0438\\u0434\\u0442\\u0438\", \"\\u0438\\u0434\\u0442\\u0438\", \"\\u0438\\u0437-\\u0437\\u0430\", \"\\u0438\\u0437-\\u0437\\u0430\", \"\\u0438\\u0437-\\u0437\\u0430\", \"\\u0438\\u0437-\\u0437\\u0430\", \"\\u0438\\u0437\\u044f\", \"\\u0438\\u043c\\u0435\\u0442\\u044c\", \"\\u0438\\u043d\\u0442\\u0435\\u0440\\u0435\\u0441\\u043d\\u044b\\u0439\", \"\\u0438\\u043d\\u0442\\u0435\\u0440\\u043d\\u0435\\u0442\", \"\\u0438\\u0441\\u043a\\u0430\\u0442\\u044c\", \"\\u0438\\u0441\\u043a\\u0430\\u0442\\u044c\", \"\\u0438\\u0441\\u043a\\u0430\\u0442\\u044c\", \"\\u0438\\u0441\\u043f\\u043e\\u043b\\u044c\\u0437\\u043e\\u0432\\u0430\\u0442\\u044c\", \"\\u0438\\u0441\\u0442\\u043e\\u0440\\u0438\\u044f\", \"\\u043a\\u0430\\u0436\\u0434\\u044b\\u0439\", \"\\u043a\\u0430\\u043a-\\u0442\\u043e\", \"\\u043a\\u0430\\u043a\\u043e\\u0439\", \"\\u043a\\u0430\\u043a\\u043e\\u0439\", \"\\u043a\\u0430\\u043a\\u043e\\u0439\", \"\\u043a\\u0430\\u043a\\u043e\\u0439\", \"\\u043a\\u0430\\u043a\\u043e\\u0439\", \"\\u043a\\u0430\\u043a\\u043e\\u0439\", \"\\u043a\\u0430\\u043a\\u043e\\u0439\", \"\\u043a\\u0430\\u043a\\u043e\\u0439\", \"\\u043a\\u0430\\u043a\\u043e\\u0439-\\u043d\\u0438\\u0431\\u0443\\u0434\\u044c\", \"\\u043a\\u0430\\u0447\\u0435\\u0441\\u0442\\u0432\\u043e\", \"\\u043a\\u0432\\u0430\\u0440\\u0442\\u0438\\u0440\\u0430\", \"\\u043a\\u0432\\u0430\\u0440\\u0442\\u0438\\u0440\\u0430\", \"\\u043a\\u0432\\u0430\\u0440\\u0442\\u0438\\u0440\\u0430\", \"\\u043a\\u0438\\u0442\\u0430\\u0439\\u0441\\u043a\\u0438\\u0439\", \"\\u043a\\u043b\\u0430\\u0441\\u0441\", \"\\u043a\\u043b\\u0430\\u0441\\u0442\\u044c\", \"\\u043a\\u043d\\u0438\\u0433\\u0430\", \"\\u043a\\u043e\\u0433\\u0434\\u0430-\\u043d\\u0438\\u0431\\u0443\\u0434\\u044c\", \"\\u043a\\u043e\\u0437\\u0451\\u043b\", \"\\u043a\\u043e\\u043c\\u0430\\u043d\\u0434\\u0430\", \"\\u043a\\u043e\\u043c\\u0430\\u043d\\u0434\\u0438\\u0440\", \"\\u043a\\u043e\\u043c\\u043d\\u0430\\u0442\\u0430\", \"\\u043a\\u043e\\u043c\\u043f\\u044c\\u044e\\u0442\\u0435\\u0440\", \"\\u043a\\u043e\\u043d\\u0435\\u0446\", \"\\u043a\\u043e\\u043d\\u044c\", \"\\u043a\\u043e\\u0440\\u043c\\u0438\\u0442\\u044c\", \"\\u043a\\u043e\\u0440\\u043e\\u0432\\u0430\", \"\\u043a\\u043e\\u0442\\u043e\\u0440\\u044b\\u0439\", \"\\u043a\\u043e\\u0442\\u043e\\u0440\\u044b\\u0439\", \"\\u043a\\u043e\\u0442\\u043e\\u0440\\u044b\\u0439\", \"\\u043a\\u043e\\u0442\\u043e\\u0440\\u044b\\u0439\", \"\\u043a\\u043e\\u0442\\u043e\\u0440\\u044b\\u0439\", \"\\u043a\\u043e\\u0442\\u043e\\u0440\\u044b\\u0439\", \"\\u043a\\u043e\\u0444\\u0435\", \"\\u043a\\u043e\\u0448\\u043a\\u0430\", \"\\u043a\\u0440\\u0430\\u0441\\u0438\\u0432\\u044b\\u0439\", \"\\u043a\\u0440\\u0430\\u0441\\u043d\\u044b\\u0439\", \"\\u043a\\u0440\\u0438\\u0447\\u0430\\u0442\\u044c\", \"\\u043a\\u0440\\u043e\\u0432\\u0430\\u0442\\u044c\", \"\\u043a\\u0442\\u043e-\\u0442\\u043e\", \"\\u043a\\u0443\\u043f\\u0438\\u0442\\u044c\", \"\\u043a\\u0443\\u043f\\u0438\\u0442\\u044c\", \"\\u043a\\u0443\\u043f\\u0438\\u0442\\u044c\", \"\\u043a\\u0443\\u043f\\u0438\\u0442\\u044c\", \"\\u043a\\u0443\\u043f\\u0438\\u0442\\u044c\", \"\\u043a\\u0443\\u043f\\u0438\\u0442\\u044c\", \"\\u043a\\u0443\\u0445\\u043d\\u044f\", \"\\u043b\\u0435\\u0433\\u043a\\u043e\", \"\\u043b\\u0435\\u0441\", \"\\u043b\\u0435\\u0442\\u0435\\u0442\\u044c\", \"\\u043b\\u0435\\u0442\\u043e\", \"\\u043b\\u0435\\u0447\\u0438\\u0442\\u044c\", \"\\u043b\\u0438\\u0431\\u043e\", \"\\u043b\\u0438\\u0446\\u043e\", \"\\u043b\\u0438\\u0446\\u043e\", \"\\u043b\\u0438\\u0446\\u043e\", \"\\u043b\\u043e\\u0448\\u0430\\u0434\\u044c\", \"\\u043b\\u044e\\u0431\\u0438\\u043c\\u044b\\u0439\", \"\\u043b\\u044e\\u0431\\u0438\\u043c\\u044b\\u0439\", \"\\u043b\\u044e\\u0431\\u0438\\u043c\\u044b\\u0439\", \"\\u043b\\u044e\\u0431\\u0438\\u0442\\u044c\", \"\\u043b\\u044e\\u0431\\u043e\\u0432\\u043d\\u0438\\u043a\", \"\\u043b\\u044e\\u0431\\u043e\\u0432\\u043d\\u0438\\u0446\\u0430\", \"\\u043b\\u044e\\u0431\\u043e\\u0432\\u044c\", \"\\u043b\\u044e\\u0431\\u043e\\u0432\\u044c\", \"\\u043b\\u044e\\u0431\\u043e\\u0432\\u044c\", \"\\u043b\\u044e\\u0431\\u043e\\u0432\\u044c\", \"\\u043b\\u044e\\u0431\\u043e\\u0439\", \"\\u043b\\u044e\\u0441\\u044f\", \"\\u043b\\u0451\\u0433\\u043a\\u0438\\u0439\", \"\\u043c\\u0430\\u0434\\u0430\\u043c\", \"\\u043c\\u0430\\u043b\\u0435\\u043d\\u044c\\u043a\\u0438\\u0439\", \"\\u043c\\u0430\\u043b\\u0435\\u043d\\u044c\\u043a\\u0438\\u0439\", \"\\u043c\\u0430\\u043b\\u0435\\u043d\\u044c\\u043a\\u0438\\u0439\", \"\\u043c\\u0430\\u043b\\u044c\\u0447\\u0438\\u043a\", \"\\u043c\\u0430\\u043c\\u0430\", \"\\u043c\\u0430\\u043c\\u0430\", \"\\u043c\\u0430\\u0442\\u044c\", \"\\u043c\\u0430\\u0448\\u0430\", \"\\u043c\\u0430\\u0448\\u0438\\u043d\\u0430\", \"\\u043c\\u0435\\u0434\\u0432\\u0435\\u0434\\u044c\", \"\\u043c\\u0435\\u043d\\u044f\\u0442\\u044c\", \"\\u043c\\u0435\\u0441\\u0442\\u043e\", \"\\u043c\\u0435\\u0441\\u0442\\u043e\", \"\\u043c\\u0435\\u0441\\u0442\\u043e\", \"\\u043c\\u0435\\u0441\\u0442\\u043e\", \"\\u043c\\u0435\\u0441\\u0442\\u043e\", \"\\u043c\\u0435\\u0441\\u044f\\u0446\", \"\\u043c\\u0435\\u0441\\u044f\\u0446\", \"\\u043c\\u0435\\u0447\\u0442\\u0430\", \"\\u043c\\u0435\\u0447\\u0442\\u0430\\u0442\\u044c\", \"\\u043c\\u0435\\u0448\\u0430\\u0442\\u044c\", \"\\u043c\\u0438\\u043b\\u0438\\u0446\\u0438\\u044f\", \"\\u043c\\u0438\\u043b\\u044b\\u0439\", \"\\u043c\\u0438\\u0440\", \"\\u043c\\u043d\\u0435\\u043d\\u0438\\u0435\", \"\\u043c\\u043e\\u0437\\u0433\", \"\\u043c\\u043e\\u0439\", \"\\u043c\\u043e\\u0439\", \"\\u043c\\u043e\\u0439\", \"\\u043c\\u043e\\u0439\", \"\\u043c\\u043e\\u0439\", \"\\u043c\\u043e\\u0439\", \"\\u043c\\u043e\\u0439\", \"\\u043c\\u043e\\u0439\", \"\\u043c\\u043e\\u0439\", \"\\u043c\\u043e\\u0439_\\u0436\\u0435\\u043d\\u0430\", \"\\u043c\\u043e\\u0439\\u0448\\u0430\", \"\\u043c\\u043e\\u043b\\u043e\\u0434\\u043e\\u0439\", \"\\u043c\\u043e\\u043b\\u0447\\u0430\\u0442\\u044c\", \"\\u043c\\u043e\\u043c\\u0435\\u043d\\u0442\", \"\\u043c\\u043e\\u0440\\u0435\", \"\\u043c\\u0443\\u0436\", \"\\u043c\\u0443\\u0436_\\u0436\\u0435\\u043d\\u0430\", \"\\u043c\\u0443\\u0436\\u0438\\u043a\", \"\\u043c\\u0443\\u0436\\u0438\\u043a\", \"\\u043c\\u0443\\u0436\\u0438\\u043a\", \"\\u043c\\u0443\\u0436\\u0438\\u043a\", \"\\u043c\\u0443\\u0436\\u0441\\u043a\\u043e\\u0439\", \"\\u043c\\u0443\\u0436\\u0447\\u0438\\u043d\\u0430\", \"\\u043c\\u044b\\u0441\\u043b\\u044c\", \"\\u043c\\u044f\\u0441\\u043e\", \"\\u043d\\u0430\\u0432\\u0435\\u0440\\u043d\\u043e\\u0435\", \"\\u043d\\u0430\\u0434\\u0435\\u0442\\u044c\", \"\\u043d\\u0430\\u0434\\u0435\\u044f\\u0442\\u044c\\u0441\\u044f\", \"\\u043d\\u0430\\u0434\\u043e\\u0435\\u0441\\u0442\\u044c\", \"\\u043d\\u0430\\u0437\\u0432\\u0430\\u0442\\u044c\", \"\\u043d\\u0430\\u0437\\u044b\\u0432\\u0430\\u0442\\u044c\", \"\\u043d\\u0430\\u0437\\u044b\\u0432\\u0430\\u0442\\u044c\\u0441\\u044f\", \"\\u043d\\u0430\\u0439\\u0442\\u0438\", \"\\u043d\\u0430\\u0439\\u0442\\u0438\", \"\\u043d\\u0430\\u0439\\u0442\\u0438\", \"\\u043d\\u0430\\u0439\\u0442\\u0438\", \"\\u043d\\u0430\\u0439\\u0442\\u0438\", \"\\u043d\\u0430\\u0439\\u0442\\u0438\", \"\\u043d\\u0430\\u0439\\u0442\\u0438\", \"\\u043d\\u0430\\u0439\\u0442\\u0438\", \"\\u043d\\u0430\\u0439\\u0442\\u0438\", \"\\u043d\\u0430\\u0439\\u0442\\u0438\", \"\\u043d\\u0430\\u0439\\u0442\\u0438\", \"\\u043d\\u0430\\u043f\\u0438\\u0441\\u0430\\u0442\\u044c_``\", \"\\u043d\\u0430\\u043f\\u0438\\u0442\\u044c\\u0441\\u044f\", \"\\u043d\\u0430\\u043f\\u0440\\u0438\\u043c\\u0435\\u0440\", \"\\u043d\\u0430\\u0440\\u043e\\u0434\", \"\\u043d\\u0430\\u0441\\u0442\\u043e\\u044f\\u0449\\u0438\\u0439\", \"\\u043d\\u0430\\u0441\\u0442\\u0440\\u043e\\u0435\\u043d\\u0438\\u0435\", \"\\u043d\\u0430\\u0443\\u0447\\u0438\\u0442\\u044c\\u0441\\u044f\", \"\\u043d\\u0430\\u0445\\u043e\\u0434\\u0438\\u0442\\u044c\\u0441\\u044f\", \"\\u043d\\u0430\\u0447\\u0430\\u043b\\u044c\\u043d\\u0438\\u043a\", \"\\u043d\\u0430\\u0447\\u0430\\u0442\\u044c\\u0441\\u044f\", \"\\u043d\\u0430\\u0447\\u0438\\u043d\\u0430\\u0442\\u044c\", \"\\u043d\\u0430\\u0447\\u0438\\u043d\\u0430\\u0442\\u044c\", \"\\u043d\\u0430\\u0447\\u0438\\u043d\\u0430\\u0442\\u044c\", \"\\u043d\\u0430\\u0447\\u0438\\u043d\\u0430\\u0442\\u044c\\u0441\\u044f\", \"\\u043d\\u0435\\u0432\\u0435\\u0441\\u0442\\u0430\", \"\\u043d\\u0435\\u0433\\u0440\", \"\\u043d\\u0435\\u0434\\u0435\\u043b\\u044f\", \"\\u043d\\u0435\\u0434\\u0435\\u043b\\u044f\", \"\\u043d\\u0435\\u0434\\u043e\\u0441\\u0442\\u0430\\u0442\\u043e\\u043a\", \"\\u043d\\u0435\\u043a\\u043e\\u0442\\u043e\\u0440\\u044b\\u0439\", \"\\u043d\\u0435\\u043d\\u0430\\u0432\\u0438\\u0434\\u0435\\u0442\\u044c\", \"\\u043d\\u0435\\u0441\\u0442\\u0438\", \"\\u043d\\u0435\\u0441\\u0442\\u0438\", \"\\u043d\\u0435\\u0442.-\", \"\\u043d\\u0435\\u0443\\u0436\\u0435\\u043b\\u0438\", \"\\u043d\\u0435\\u0447\\u0435\\u0433\\u043e\", \"\\u043d\\u0438\\u043a\\u0430\\u043a\", \"\\u043d\\u0438\\u043a\\u0430\\u043a\\u043e\\u0439\", \"\\u043d\\u0438\\u043a\\u0430\\u043a\\u043e\\u0439\", \"\\u043d\\u0438\\u043a\\u0442\\u043e\", \"\\u043d\\u0438\\u043a\\u0442\\u043e\", \"\\u043d\\u0438\\u043a\\u0442\\u043e\", \"\\u043d\\u0438\\u043a\\u0442\\u043e\", \"\\u043d\\u0438\\u043a\\u0442\\u043e\", \"\\u043d\\u0438\\u043a\\u0442\\u043e\", \"\\u043d\\u0438\\u043a\\u0442\\u043e\", \"\\u043d\\u0438\\u0447\\u0442\\u043e\", \"\\u043d\\u043e\\u0432\\u043e\\u0441\\u0442\\u044c\", \"\\u043d\\u043e\\u0432\\u043e\\u0441\\u0442\\u044c\", \"\\u043d\\u043e\\u0432\\u044b\\u0439\", \"\\u043d\\u043e\\u0432\\u044b\\u0439\", \"\\u043d\\u043e\\u0432\\u044b\\u0439\", \"\\u043d\\u043e\\u0432\\u044b\\u0439\", \"\\u043d\\u043e\\u0432\\u044b\\u0439\", \"\\u043d\\u043e\\u0432\\u044b\\u0439\", \"\\u043d\\u043e\\u0432\\u044b\\u0439\", \"\\u043d\\u043e\\u0432\\u044b\\u0439\", \"\\u043d\\u043e\\u0432\\u044b\\u0439\", \"\\u043d\\u043e\\u0432\\u044b\\u0439\", \"\\u043d\\u043e\\u0432\\u044b\\u0439\", \"\\u043d\\u043e\\u0432\\u044b\\u0439\", \"\\u043d\\u043e\\u0432\\u044b\\u0439\", \"\\u043d\\u043e\\u0432\\u044b\\u0439\", \"\\u043d\\u043e\\u0432\\u044b\\u0439\", \"\\u043d\\u043e\\u0432\\u044b\\u0439_\\u0440\\u0443\\u0441\\u0441\\u043a\\u0438\\u0439\", \"\\u043d\\u043e\\u0433\\u0430\", \"\\u043d\\u043e\\u0433\\u0430\", \"\\u043d\\u043e\\u043c\\u0435\\u0440\", \"\\u043d\\u043e\\u0440\\u043c\\u0430\\u043b\\u044c\\u043d\\u043e\", \"\\u043d\\u043e\\u0441\", \"\\u043d\\u043e\\u0441\\u0438\\u0442\\u044c\", \"\\u043d\\u043e\\u0441\\u043a\\u0430\", \"\\u043d\\u043e\\u0447\\u044c\", \"\\u043d\\u043e\\u0447\\u044c\\u044e\", \"\\u043d\\u0440\\u0430\\u0432\\u0438\\u0442\\u044c\\u0441\\u044f\", \"\\u043d\\u0443\\u0436\\u043d\\u044b\\u0439\", \"\\u043e\\u0431\\u0435\\u0449\\u0430\\u0442\\u044c\", \"\\u043e\\u0431\\u043d\\u0430\\u0440\\u0443\\u0436\\u0438\\u0442\\u044c\", \"\\u043e\\u0431\\u0440\\u0430\\u0442\\u043d\\u043e\", \"\\u043e\\u0431\\u0440\\u0430\\u0449\\u0430\\u0442\\u044c\\u0441\\u044f\", \"\\u043e\\u0431\\u044a\\u044f\\u0432\\u043b\\u0435\\u043d\\u0438\\u0435\", \"\\u043e\\u0431\\u044a\\u044f\\u0441\\u043d\\u0438\\u0442\\u044c\", \"\\u043e\\u0431\\u044b\\u0447\\u043d\\u044b\\u0439\", \"\\u043e\\u0431\\u044f\\u0437\\u0430\\u0442\\u0435\\u043b\\u044c\\u043d\\u043e\", \"\\u043e\\u0433\\u0440\\u043e\\u043c\\u043d\\u044b\\u0439\", \"\\u043e\\u0434\\u0435\\u0436\\u0434\\u0430\", \"\\u043e\\u0434\\u0438\\u043d\", \"\\u043e\\u0434\\u0438\\u043d\", \"\\u043e\\u0434\\u0438\\u043d\", \"\\u043e\\u0434\\u0438\\u043d\", \"\\u043e\\u0434\\u0438\\u043d\", \"\\u043e\\u0434\\u0438\\u043d\", \"\\u043e\\u0434\\u0438\\u043d\", \"\\u043e\\u0434\\u0438\\u043d\", \"\\u043e\\u0434\\u0438\\u043d\", \"\\u043e\\u0434\\u0438\\u043d\", \"\\u043e\\u0434\\u0438\\u043d\", \"\\u043e\\u0434\\u043d\\u043e\\u0432\\u0440\\u0435\\u043c\\u0435\\u043d\\u043d\\u043e\", \"\\u043e\\u0439\", \"\\u043e\\u0439\", \"\\u043e\\u043a\\u0430\\u0437\\u044b\\u0432\\u0430\\u0442\\u044c\\u0441\\u044f\", \"\\u043e\\u043a\\u043d\\u043e\", \"\\u043e\\u043a\\u043d\\u043e\", \"\\u043e\\u043a\\u043d\\u043e\", \"\\u043e\\u0440\\u0430\\u0442\\u044c\", \"\\u043e\\u0441\\u0442\\u0430\\u0432\\u0430\\u0442\\u044c\\u0441\\u044f\", \"\\u043e\\u0441\\u0442\\u0430\\u043b\\u044c\\u043d\\u043e\\u0439\", \"\\u043e\\u0441\\u0442\\u0430\\u0442\\u044c\\u0441\\u044f\", \"\\u043e\\u0441\\u0442\\u0430\\u0442\\u044c\\u0441\\u044f\", \"\\u043e\\u0441\\u0442\\u0430\\u0442\\u044c\\u0441\\u044f\", \"\\u043e\\u0441\\u0442\\u0430\\u0442\\u044c\\u0441\\u044f\", \"\\u043e\\u0441\\u0442\\u0430\\u0442\\u044c\\u0441\\u044f\", \"\\u043e\\u0442\\u0432\\u0435\\u0442\", \"\\u043e\\u0442\\u0432\\u0435\\u0442\", \"\\u043e\\u0442\\u0432\\u0435\\u0442\", \"\\u043e\\u0442\\u0432\\u0435\\u0442\", \"\\u043e\\u0442\\u0432\\u0435\\u0442\\u0438\\u0442\\u044c\", \"\\u043e\\u0442\\u0432\\u0435\\u0447\\u0430\\u0442\\u044c\", \"\\u043e\\u0442\\u0434\\u0430\\u0432\\u0430\\u0442\\u044c\", \"\\u043e\\u0442\\u0434\\u0430\\u0442\\u044c\", \"\\u043e\\u0442\\u0434\\u044b\\u0445\\u0430\\u0442\\u044c\", \"\\u043e\\u0442\\u0435\\u0446\", \"\\u043e\\u0442\\u043a\\u0430\\u0437\\u0430\\u0442\\u044c\\u0441\\u044f\", \"\\u043e\\u0442\\u043a\\u0440\\u044b\\u0432\\u0430\\u0442\\u044c\", \"\\u043e\\u0442\\u043a\\u0440\\u044b\\u0442\\u044c\", \"\\u043e\\u0442\\u043a\\u0443\\u0434\\u0430\", \"\\u043e\\u0442\\u043d\\u043e\\u0441\\u0438\\u0442\\u044c\\u0441\\u044f\", \"\\u043e\\u0442\\u043d\\u043e\\u0448\\u0435\\u043d\\u0438\\u0435\", \"\\u043e\\u0442\\u043f\\u0440\\u0430\\u0432\\u0438\\u0442\\u044c\", \"\\u043e\\u0442\\u043f\\u0443\\u0441\\u043a\", \"\\u043e\\u0442\\u0441\\u0443\\u0442\\u0441\\u0442\\u0432\\u0438\\u0435\", \"\\u043e\\u0444\\u0438\\u0446\\u0438\\u0430\\u043d\\u0442\", \"\\u043e\\u0447\\u0435\\u0440\\u0435\\u0434\\u043d\\u043e\\u0439\", \"\\u043e\\u0447\\u0435\\u0440\\u0435\\u0434\\u044c\", \"\\u043e\\u0448\\u0438\\u0431\\u043a\\u0430\", \"\\u043f\\u0430\\u0434\\u0430\\u0442\\u044c\", \"\\u043f\\u0430\\u043b\\u0435\\u0446\", \"\\u043f\\u0430\\u043b\\u0435\\u0446\", \"\\u043f\\u0430\\u043f\\u0430\", \"\\u043f\\u0430\\u0440\\u0430\", \"\\u043f\\u0430\\u0440\\u0430\", \"\\u043f\\u0430\\u0440\\u0430\", \"\\u043f\\u0430\\u0440\\u0435\\u043d\\u044c\", \"\\u043f\\u0430\\u0441\\u043f\\u043e\\u0440\\u0442\", \"\\u043f\\u0430\\u0441\\u0441\\u0430\\u0436\\u0438\\u0440\", \"\\u043f\\u0430\\u0446\\u0438\\u0435\\u043d\\u0442\", \"\\u043f\\u0435\\u0440\\u0435\\u0436\\u0438\\u0432\\u0430\\u0442\\u044c\", \"\\u043f\\u0435\\u0440\\u0435\\u0441\\u0442\\u0430\\u0442\\u044c\", \"\\u043f\\u0435\\u0442\\u0440\\u043e\\u0432\\u0438\\u0447\", \"\\u043f\\u0435\\u0442\\u044c\", \"\\u043f\\u0438\\u0432\\u043e\", \"\\u043f\\u0438\\u0432\\u043e\", \"\\u043f\\u0438\\u0441\\u0430\\u0442\\u044c\", \"\\u043f\\u0438\\u0441\\u0430\\u0442\\u044c\", \"\\u043f\\u0438\\u0442\\u044c\", \"\\u043f\\u043b\\u0430\\u043a\\u0430\\u0442\\u044c\", \"\\u043f\\u043b\\u0430\\u043a\\u0430\\u0442\\u044c\", \"\\u043f\\u043b\\u0430\\u0442\\u0438\\u0442\\u044c\", \"\\u043f\\u043b\\u0430\\u0442\\u044c\\u0435\", \"\\u043f\\u043b\\u043e\\u0445\\u043e\", \"\\u043f\\u043b\\u043e\\u0445\\u043e\", \"\\u043f\\u043b\\u043e\\u0445\\u043e\\u0439\", \"\\u043f\\u043b\\u044f\\u0436\", \"\\u043f\\u043e\\u0431\\u0435\\u0434\\u0430\", \"\\u043f\\u043e\\u0431\\u0435\\u0434\\u0438\\u0442\\u044c\", \"\\u043f\\u043e\\u0432\\u043e\\u0434\", \"\\u043f\\u043e\\u0433\\u043e\\u0434\\u0430\", \"\\u043f\\u043e\\u0434\\u0430\\u0440\\u0438\\u0442\\u044c\", \"\\u043f\\u043e\\u0434\\u0430\\u0440\\u043e\\u043a\", \"\\u043f\\u043e\\u0434\\u043e\\u0439\\u0442\\u0438\", \"\\u043f\\u043e\\u0434\\u0440\\u0443\\u0433\\u0430\", \"\\u043f\\u043e\\u0434\\u0440\\u0443\\u0433\\u0430\", \"\\u043f\\u043e\\u0434\\u0443\\u043c\\u0430\\u0442\\u044c\", \"\\u043f\\u043e\\u0434\\u0443\\u043c\\u0430\\u0442\\u044c\", \"\\u043f\\u043e\\u0434\\u0443\\u043c\\u0430\\u0442\\u044c\", \"\\u043f\\u043e\\u0434\\u0443\\u043c\\u0430\\u0442\\u044c\", \"\\u043f\\u043e\\u0434\\u0443\\u043c\\u0430\\u0442\\u044c\", \"\\u043f\\u043e\\u0434\\u0443\\u043c\\u0430\\u0442\\u044c\", \"\\u043f\\u043e\\u0434\\u0443\\u043c\\u0430\\u0442\\u044c\", \"\\u043f\\u043e\\u0434\\u0445\\u043e\\u0434\\u0438\\u0442\\u044c\", \"\\u043f\\u043e\\u0434\\u0445\\u043e\\u0434\\u0438\\u0442\\u044c\", \"\\u043f\\u043e\\u0434\\u0445\\u043e\\u0434\\u0438\\u0442\\u044c\", \"\\u043f\\u043e\\u0434\\u0445\\u043e\\u0434\\u0438\\u0442\\u044c\", \"\\u043f\\u043e\\u0434\\u044a\\u0435\\u0437\\u0434\", \"\\u043f\\u043e\\u0435\\u0437\\u0434\", \"\\u043f\\u043e\\u0437\\u0432\\u043e\\u043b\\u0438\\u0442\\u044c\", \"\\u043f\\u043e\\u0437\\u0432\\u043e\\u043d\\u0438\\u0442\\u044c\", \"\\u043f\\u043e\\u0437\\u0434\\u043d\\u043e\", \"\\u043f\\u043e\\u0437\\u043d\\u0430\\u043a\\u043e\\u043c\\u0438\\u0442\\u044c\\u0441\\u044f\", \"\\u043f\\u043e\\u0439\\u043c\\u0430\\u0442\\u044c\", \"\\u043f\\u043e\\u0439\\u0442\\u0438\", \"\\u043f\\u043e\\u0439\\u0442\\u0438\", \"\\u043f\\u043e\\u0439\\u0442\\u0438\", \"\\u043f\\u043e\\u0439\\u0442\\u0438\", \"\\u043f\\u043e\\u0439\\u0442\\u0438\", \"\\u043f\\u043e\\u0439\\u0442\\u0438\", \"\\u043f\\u043e\\u0439\\u0442\\u0438\", \"\\u043f\\u043e\\u0439\\u0442\\u0438\", \"\\u043f\\u043e\\u043a\\u0430\\u0437\\u0430\\u0442\\u044c\", \"\\u043f\\u043e\\u043a\\u0430\\u0437\\u0430\\u0442\\u044c\", \"\\u043f\\u043e\\u043a\\u0430\\u0437\\u044b\\u0432\\u0430\\u0442\\u044c\", \"\\u043f\\u043e\\u043b\", \"\\u043f\\u043e\\u043b\\u0435\", \"\\u043f\\u043e\\u043b\\u043d\\u044b\\u0439\", \"\\u043f\\u043e\\u043b\\u043d\\u044b\\u0439\", \"\\u043f\\u043e\\u043b\\u043e\\u0432\\u0438\\u043d\\u0430\", \"\\u043f\\u043e\\u043b\\u043e\\u0436\\u0438\\u0442\\u044c\", \"\\u043f\\u043e\\u043b\\u0443\\u0447\\u0430\\u0442\\u044c\", \"\\u043f\\u043e\\u043b\\u0443\\u0447\\u0430\\u0442\\u044c\\u0441\\u044f\", \"\\u043f\\u043e\\u043b\\u0443\\u0447\\u0438\\u0442\\u044c\", \"\\u043f\\u043e\\u043b\\u0443\\u0447\\u0438\\u0442\\u044c\", \"\\u043f\\u043e\\u043b\\u0443\\u0447\\u0438\\u0442\\u044c\", \"\\u043f\\u043e\\u043b\\u0443\\u0447\\u0438\\u0442\\u044c\", \"\\u043f\\u043e\\u043b\\u0443\\u0447\\u0438\\u0442\\u044c\\u0441\\u044f\", \"\\u043f\\u043e\\u043b\\u044c\\u0437\\u043e\\u0432\\u0430\\u0442\\u044c\\u0441\\u044f\", \"\\u043f\\u043e\\u043c\\u0438\\u0434\\u043e\\u0440\", \"\\u043f\\u043e\\u043c\\u043d\\u0438\\u0442\\u044c\", \"\\u043f\\u043e\\u043c\\u043e\\u0433\\u0430\\u0442\\u044c\", \"\\u043f\\u043e\\u043c\\u043e\\u0447\\u044c\", \"\\u043f\\u043e\\u043c\\u043e\\u0447\\u044c\", \"\\u043f\\u043e\\u043c\\u043e\\u0447\\u044c\", \"\\u043f\\u043e\\u043c\\u043e\\u0449\\u044c\", \"\\u043f\\u043e\\u043c\\u043e\\u0449\\u044c\", \"\\u043f\\u043e\\u043d\\u044f\\u0442\\u043d\\u043e\", \"\\u043f\\u043e\\u043f\", \"\\u043f\\u043e\\u043f\\u0430\\u0441\\u0442\\u044c\", \"\\u043f\\u043e\\u043f\\u0440\\u043e\\u0431\\u043e\\u0432\\u0430\\u0442\\u044c\", \"\\u043f\\u043e\\u043f\\u0440\\u043e\\u0441\\u0438\\u0442\\u044c\", \"\\u043f\\u043e\\u043f\\u0440\\u043e\\u0441\\u0438\\u0442\\u044c\", \"\\u043f\\u043e\\u0440\\u044f\\u0434\\u043e\\u043a\", \"\\u043f\\u043e\\u0441\\u0430\\u0434\\u0438\\u0442\\u044c\", \"\\u043f\\u043e\\u0441\\u043b\\u0430\\u0442\\u044c\", \"\\u043f\\u043e\\u0441\\u043b\\u0435\\u0434\\u043d\\u0438\\u0439\", \"\\u043f\\u043e\\u0441\\u043b\\u0435\\u0434\\u043d\\u0438\\u0439\", \"\\u043f\\u043e\\u0441\\u043b\\u0443\\u0448\\u0430\\u0442\\u044c\", \"\\u043f\\u043e\\u0441\\u043b\\u0443\\u0448\\u0430\\u0442\\u044c\", \"\\u043f\\u043e\\u0441\\u043c\\u043e\\u0442\\u0440\\u0435\\u0442\\u044c\", \"\\u043f\\u043e\\u0441\\u0442\\u0430\\u0432\\u0438\\u0442\\u044c\", \"\\u043f\\u043e\\u0441\\u0442\\u0435\\u043b\\u044c\", \"\\u043f\\u043e\\u0441\\u0442\\u0435\\u043b\\u044c\", \"\\u043f\\u043e\\u0441\\u0442\\u043e\\u044f\\u043d\\u043d\\u043e\", \"\\u043f\\u043e\\u0441\\u0442\\u043e\\u044f\\u043d\\u043d\\u043e\", \"\\u043f\\u043e\\u0442\\u0435\\u0440\\u044f\\u0442\\u044c\", \"\\u043f\\u043e\\u0442\\u0435\\u0440\\u044f\\u0442\\u044c\", \"\\u043f\\u043e\\u0445\\u043e\\u0436\\u0435\", \"\\u043f\\u043e\\u0445\\u043e\\u0436\\u0438\\u0439\", \"\\u043f\\u043e\\u0445\\u043e\\u0436\\u0438\\u0439\", \"\\u043f\\u043e\\u0447\\u0435\\u043c\\u0443-\\u0442\\u043e\", \"\\u043f\\u043e\\u044f\\u0432\\u0438\\u0442\\u044c\\u0441\\u044f\", \"\\u043f\\u043e\\u044f\\u0432\\u0438\\u0442\\u044c\\u0441\\u044f\", \"\\u043f\\u043e\\u044f\\u0432\\u0438\\u0442\\u044c\\u0441\\u044f\", \"\\u043f\\u043e\\u044f\\u0432\\u043b\\u044f\\u0442\\u044c\\u0441\\u044f\", \"\\u043f\\u0440\\u0430\\u0432\\u0438\\u043b\\u043e\", \"\\u043f\\u0440\\u0430\\u0432\\u0438\\u043b\\u044c\\u043d\\u043e\", \"\\u043f\\u0440\\u0430\\u0432\\u0438\\u0442\\u0435\\u043b\\u044c\\u0441\\u0442\\u0432\\u043e\", \"\\u043f\\u0440\\u0430\\u0432\\u0438\\u0442\\u0435\\u043b\\u044c\\u0441\\u0442\\u0432\\u043e\", \"\\u043f\\u0440\\u0430\\u0432\\u043e\", \"\\u043f\\u0440\\u0430\\u0437\\u0434\\u043d\\u0438\\u043a\", \"\\u043f\\u0440\\u0435\\u0434\\u043b\\u0430\\u0433\\u0430\\u0442\\u044c\", \"\\u043f\\u0440\\u0435\\u0434\\u0441\\u0442\\u0430\\u0432\\u043b\\u044f\\u0442\\u044c\", \"\\u043f\\u0440\\u0435\\u0437\\u0435\\u0440\\u0432\\u0430\\u0442\\u0438\\u0432\", \"\\u043f\\u0440\\u0435\\u0437\\u0438\\u0434\\u0435\\u043d\\u0442\", \"\\u043f\\u0440\\u0435\\u043a\\u0440\\u0430\\u0441\\u043d\\u044b\\u0439\", \"\\u043f\\u0440\\u0438\\u0432\\u0435\\u0442\", \"\\u043f\\u0440\\u0438\\u0434\\u0443\\u043c\\u0430\\u0442\\u044c\", \"\\u043f\\u0440\\u0438\\u0435\\u0437\\u0436\\u0430\\u0442\\u044c\", \"\\u043f\\u0440\\u0438\\u0439\\u0442\\u0438\", \"\\u043f\\u0440\\u0438\\u0439\\u0442\\u0438\", \"\\u043f\\u0440\\u0438\\u0439\\u0442\\u0438\", \"\\u043f\\u0440\\u0438\\u0439\\u0442\\u0438\", \"\\u043f\\u0440\\u0438\\u0439\\u0442\\u0438\\u0441\\u044c\", \"\\u043f\\u0440\\u0438\\u043d\\u0438\\u043c\\u0430\\u0442\\u044c\", \"\\u043f\\u0440\\u0438\\u043d\\u0446\\u0438\\u043f\", \"\\u043f\\u0440\\u0438\\u0440\\u043e\\u0434\\u0430\", \"\\u043f\\u0440\\u0438\\u0441\\u043b\\u0430\\u0442\\u044c\", \"\\u043f\\u0440\\u0438\\u0441\\u043b\\u0430\\u0442\\u044c\", \"\\u043f\\u0440\\u0438\\u0445\\u043e\\u0434\\u0438\\u0442\\u044c\", \"\\u043f\\u0440\\u0438\\u0445\\u043e\\u0434\\u0438\\u0442\\u044c\\u0441\\u044f\", \"\\u043f\\u0440\\u0438\\u0447\\u0438\\u043d\\u0430\", \"\\u043f\\u0440\\u0438\\u0447\\u0451\\u043c\", \"\\u043f\\u0440\\u043e\\u0431\\u043b\\u0435\\u043c\\u0430\", \"\\u043f\\u0440\\u043e\\u0431\\u043b\\u0435\\u043c\\u0430\", \"\\u043f\\u0440\\u043e\\u0431\\u043e\\u0432\\u0430\\u0442\\u044c\", \"\\u043f\\u0440\\u043e\\u0432\\u0435\\u0441\\u0442\\u0438\", \"\\u043f\\u0440\\u043e\\u0432\\u043e\\u0434\\u0438\\u0442\\u044c\", \"\\u043f\\u0440\\u043e\\u0434\\u0430\\u0432\\u0430\\u0442\\u044c\", \"\\u043f\\u0440\\u043e\\u0434\\u0430\\u0442\\u044c\", \"\\u043f\\u0440\\u043e\\u0434\\u043e\\u043b\\u0436\\u0430\\u0442\\u044c\", \"\\u043f\\u0440\\u043e\\u0439\\u0442\\u0438\", \"\\u043f\\u0440\\u043e\\u0439\\u0442\\u0438\", \"\\u043f\\u0440\\u043e\\u0439\\u0442\\u0438\", \"\\u043f\\u0440\\u043e\\u0439\\u0442\\u0438\", \"\\u043f\\u0440\\u043e\\u043f\\u0430\\u0441\\u0442\\u044c\", \"\\u043f\\u0440\\u043e\\u0441\\u0438\\u0442\\u044c\", \"\\u043f\\u0440\\u043e\\u0441\\u0438\\u0442\\u044c\", \"\\u043f\\u0440\\u043e\\u0441\\u043d\\u0443\\u0442\\u044c\\u0441\\u044f\", \"\\u043f\\u0440\\u043e\\u0441\\u0442\\u0438\\u0442\\u0443\\u0442\\u043a\\u0430\", \"\\u043f\\u0440\\u043e\\u0441\\u0442\\u0438\\u0442\\u044c\", \"\\u043f\\u0440\\u043e\\u0441\\u0442\\u043e\\u0439\", \"\\u043f\\u0440\\u043e\\u0441\\u0442\\u043e\\u0439\", \"\\u043f\\u0440\\u043e\\u0441\\u044b\\u043f\\u0430\\u0442\\u044c\\u0441\\u044f\", \"\\u043f\\u0440\\u043e\\u0444\\u0435\\u0441\\u0441\\u043e\\u0440\", \"\\u043f\\u0440\\u043e\\u0445\\u043e\\u0434\\u0438\\u0442\\u044c\", \"\\u043f\\u0440\\u043e\\u0445\\u043e\\u0434\\u0438\\u0442\\u044c\", \"\\u043f\\u0440\\u043e\\u0448\\u043b\\u044b\\u0439\", \"\\u043f\\u0440\\u044f\\u043c\\u043e\", \"\\u043f\\u0440\\u044f\\u043c\\u043e\", \"\\u043f\\u0440\\u044f\\u043c\\u043e\", \"\\u043f\\u0443\\u0441\\u0442\\u044c\", \"\\u043f\\u0443\\u0442\\u0438\\u043d\", \"\\u043f\\u044b\\u0442\\u0430\\u0442\\u044c\\u0441\\u044f\", \"\\u043f\\u044c\\u044f\\u043d\\u044b\\u0439\", \"\\u0440\\u0430\\u0431\\u0438\\u043d\\u043e\\u0432\\u0438\\u0447\", \"\\u0440\\u0430\\u0431\\u043e\\u0442\\u0430\", \"\\u0440\\u0430\\u0431\\u043e\\u0442\\u0430\", \"\\u0440\\u0430\\u0431\\u043e\\u0442\\u0430\", \"\\u0440\\u0430\\u0431\\u043e\\u0442\\u0430\", \"\\u0440\\u0430\\u0431\\u043e\\u0442\\u0430\", \"\\u0440\\u0430\\u0431\\u043e\\u0442\\u0430\", \"\\u0440\\u0430\\u0431\\u043e\\u0442\\u0430\", \"\\u0440\\u0430\\u0431\\u043e\\u0442\\u0430\", \"\\u0440\\u0430\\u0431\\u043e\\u0442\\u0430\", \"\\u0440\\u0430\\u0431\\u043e\\u0442\\u0430\", \"\\u0440\\u0430\\u0431\\u043e\\u0442\\u0430\\u0442\\u044c\", \"\\u0440\\u0430\\u0431\\u043e\\u0442\\u0430\\u0442\\u044c\", \"\\u0440\\u0430\\u0431\\u043e\\u0442\\u0430\\u0442\\u044c\", \"\\u0440\\u0430\\u0432\\u043d\\u043e\", \"\\u0440\\u0430\\u0434\\u0438\", \"\\u0440\\u0430\\u0434\\u043e\\u0441\\u0442\\u044c\", \"\\u0440\\u0430\\u0437\", \"\\u0440\\u0430\\u0437\\u0433\\u043e\\u0432\\u0430\\u0440\\u0438\\u0432\\u0430\\u0442\\u044c\", \"\\u0440\\u0430\\u0437\\u043c\\u0435\\u0440\", \"\\u0440\\u0430\\u0437\\u043d\\u0438\\u0446\\u0430\", \"\\u0440\\u0430\\u0437\\u043d\\u044b\\u0439\", \"\\u0440\\u0430\\u0441\\u0441\\u043a\\u0430\\u0437\\u0430\\u0442\\u044c\", \"\\u0440\\u0430\\u0441\\u0441\\u043a\\u0430\\u0437\\u044b\\u0432\\u0430\\u0442\\u044c\", \"\\u0440\\u0435\\u0431\\u044f\\u0442\\u0430\", \"\\u0440\\u0435\\u0431\\u0451\\u043d\\u043e\\u043a\", \"\\u0440\\u0435\\u0431\\u0451\\u043d\\u043e\\u043a\", \"\\u0440\\u0435\\u0431\\u0451\\u043d\\u043e\\u043a\", \"\\u0440\\u0435\\u0431\\u0451\\u043d\\u043e\\u043a\", \"\\u0440\\u0435\\u0431\\u0451\\u043d\\u043e\\u043a\", \"\\u0440\\u0435\\u0437\\u0443\\u043b\\u044c\\u0442\\u0430\\u0442\", \"\\u0440\\u0435\\u0437\\u0443\\u043b\\u044c\\u0442\\u0430\\u0442\", \"\\u0440\\u0435\\u043a\\u043b\\u0430\\u043c\\u0430\", \"\\u0440\\u0435\\u0441\\u0442\\u043e\\u0440\\u0430\\u043d\", \"\\u0440\\u043e\\u0434\\u0438\\u0442\\u0435\\u043b\\u044c\", \"\\u0440\\u043e\\u0434\\u0438\\u0442\\u044c\\u0441\\u044f\", \"\\u0440\\u043e\\u0436\\u0434\\u0435\\u043d\\u0438\\u0435\", \"\\u0440\\u043e\\u0441\\u0441\\u0438\\u044f\", \"\\u0440\\u043e\\u0441\\u0441\\u0438\\u044f\", \"\\u0440\\u043e\\u0441\\u0441\\u0438\\u044f\", \"\\u0440\\u043e\\u0441\\u0441\\u0438\\u044f\", \"\\u0440\\u043e\\u0441\\u0441\\u0438\\u044f\", \"\\u0440\\u043e\\u0441\\u0441\\u0438\\u044f\", \"\\u0440\\u043e\\u0441\\u0441\\u0438\\u044f\", \"\\u0440\\u043e\\u0441\\u0441\\u0438\\u044f\", \"\\u0440\\u043e\\u0441\\u0441\\u0438\\u044f\", \"\\u0440\\u043e\\u0441\\u0441\\u0438\\u044f\\u043d\\u0438\\u043d\", \"\\u0440\\u043e\\u0441\\u0441\\u0438\\u044f\\u043d\\u0438\\u043d\", \"\\u0440\\u043e\\u0442\", \"\\u0440\\u0443\\u0431\\u043b\\u044c\", \"\\u0440\\u0443\\u043a\\u0430\", \"\\u0440\\u0443\\u043a\\u0430\", \"\\u0440\\u0443\\u043a\\u0430\", \"\\u0440\\u0443\\u043a\\u0430\", \"\\u0440\\u0443\\u043a\\u0430\", \"\\u0440\\u0443\\u043a\\u0430\", \"\\u0440\\u0443\\u043a\\u0430\", \"\\u0440\\u0443\\u043a\\u0430\", \"\\u0440\\u0443\\u043a\\u0430\", \"\\u0440\\u0443\\u043a\\u0430\", \"\\u0440\\u0443\\u0441\\u0441\\u043a\\u0438\\u0439\", \"\\u0440\\u044b\\u0431\\u0430\", \"\\u0440\\u044b\\u043d\\u043e\\u043a\", \"\\u0441\\u0430\\u0434\\u0438\\u0442\\u044c\\u0441\\u044f\", \"\\u0441\\u0430\\u0439\\u0442\", \"\\u0441\\u0430\\u043c\\u043e\\u043b\\u0451\\u0442\", \"\\u0441\\u0430\\u0440\\u0430\", \"\\u0441\\u0432\\u0430\\u0434\\u044c\\u0431\\u0430\", \"\\u0441\\u0432\\u0435\\u0442\", \"\\u0441\\u0432\\u0438\\u043d\\u044c\\u044f\", \"\\u0441\\u0432\\u043e\\u0431\\u043e\\u0434\\u043d\\u044b\\u0439\", \"\\u0441\\u0432\\u043e\\u0439\", \"\\u0441\\u0432\\u043e\\u0439\", \"\\u0441\\u0432\\u043e\\u0439\", \"\\u0441\\u0432\\u043e\\u0439\", \"\\u0441\\u0432\\u043e\\u0439\", \"\\u0441\\u0432\\u043e\\u043b\\u043e\\u0447\\u044c\", \"\\u0441\\u0435\\u043a\\u0441\", \"\\u0441\\u0435\\u043a\\u0441\", \"\\u0441\\u0435\\u043a\\u0441\", \"\\u0441\\u0435\\u043c\\u044c\\u044f\", \"\\u0441\\u0435\\u043c\\u044c\\u044f\", \"\\u0441\\u0435\\u043c\\u044c\\u044f\", \"\\u0441\\u0435\\u043c\\u044c\\u044f\", \"\\u0441\\u0435\\u0440\\u0434\\u0446\\u0435\", \"\\u0441\\u0435\\u0441\\u0442\\u044c\", \"\\u0441\\u0437\\u0430\\u0434\\u0438\", \"\\u0441\\u0438\\u0433\\u0430\\u0440\\u0435\\u0442\\u0430\", \"\\u0441\\u0438\\u0434\\u0435\\u0442\\u044c\", \"\\u0441\\u0438\\u0434\\u0435\\u0442\\u044c\", \"\\u0441\\u0438\\u0434\\u0435\\u0442\\u044c\", \"\\u0441\\u0438\\u0434\\u0435\\u0442\\u044c\", \"\\u0441\\u0438\\u0434\\u0435\\u0442\\u044c\", \"\\u0441\\u0438\\u0434\\u0435\\u0442\\u044c\", \"\\u0441\\u0438\\u0434\\u0435\\u0442\\u044c\", \"\\u0441\\u0438\\u0434\\u0435\\u0442\\u044c\", \"\\u0441\\u0438\\u0434\\u043e\\u0440\\u043e\\u0432\", \"\\u0441\\u0438\\u043b\\u0430\", \"\\u0441\\u0438\\u043b\\u044c\\u043d\\u043e\", \"\\u0441\\u0438\\u043b\\u044c\\u043d\\u043e\", \"\\u0441\\u0438\\u043b\\u044c\\u043d\\u044b\\u0439\", \"\\u0441\\u043a\\u0430\\u0437\\u0430\\u0442\\u044c\", \"\\u0441\\u043a\\u0430\\u0437\\u0430\\u0442\\u044c\", \"\\u0441\\u043a\\u0430\\u0437\\u0430\\u0442\\u044c\", \"\\u0441\\u043a\\u0430\\u0437\\u0430\\u0442\\u044c\", \"\\u0441\\u043a\\u0430\\u0437\\u0430\\u0442\\u044c\", \"\\u0441\\u043a\\u0430\\u0437\\u0430\\u0442\\u044c\", \"\\u0441\\u043a\\u0430\\u0437\\u0430\\u0442\\u044c\", \"\\u0441\\u043a\\u0430\\u0437\\u0430\\u0442\\u044c\", \"\\u0441\\u043a\\u0430\\u0437\\u043a\\u0430\", \"\\u0441\\u043a\\u043e\\u0440\\u043e\", \"\\u0441\\u043a\\u043e\\u0440\\u043e\", \"\\u0441\\u043a\\u043e\\u0440\\u044b\\u0439\", \"\\u0441\\u043b\\u0435\\u0434\\u043e\\u0432\\u0430\\u0442\\u044c\", \"\\u0441\\u043b\\u0435\\u0434\\u0443\\u044e\\u0449\\u0438\\u0439\", \"\\u0441\\u043b\\u0435\\u0434\\u0443\\u044e\\u0449\\u0438\\u0439\", \"\\u0441\\u043b\\u0435\\u0434\\u0443\\u044e\\u0449\\u0438\\u0439\", \"\\u0441\\u043b\\u043e\\u0432\\u043e\", \"\\u0441\\u043b\\u043e\\u0432\\u043e_``\", \"\\u0441\\u043b\\u043e\\u043d\", \"\\u0441\\u043b\\u0443\\u0447\\u0430\\u0439\", \"\\u0441\\u043b\\u0443\\u0447\\u0430\\u0439\\u043d\\u043e\", \"\\u0441\\u043b\\u0443\\u0447\\u0438\\u0442\\u044c\\u0441\\u044f\", \"\\u0441\\u043b\\u0443\\u0448\\u0430\\u0442\\u044c\", \"\\u0441\\u043b\\u0443\\u0448\\u0430\\u0442\\u044c\", \"\\u0441\\u043b\\u0443\\u0448\\u0430\\u0442\\u044c\", \"\\u0441\\u043b\\u0443\\u0448\\u0430\\u0442\\u044c\", \"\\u0441\\u043c\\u0435\\u0440\\u0442\\u044c\", \"\\u0441\\u043c\\u0435\\u044f\\u0442\\u044c\\u0441\\u044f\", \"\\u0441\\u043c\\u043e\\u0442\\u0440\\u0435\\u0442\\u044c\", \"\\u0441\\u043c\\u043e\\u0442\\u0440\\u0435\\u0442\\u044c\", \"\\u0441\\u043c\\u043e\\u0442\\u0440\\u0435\\u0442\\u044c\", \"\\u0441\\u043c\\u043e\\u0442\\u0440\\u0435\\u0442\\u044c\", \"\\u0441\\u043c\\u043e\\u0442\\u0440\\u0435\\u0442\\u044c\", \"\\u0441\\u043c\\u043e\\u0442\\u0440\\u0435\\u0442\\u044c\", \"\\u0441\\u043c\\u043e\\u0442\\u0440\\u0435\\u0442\\u044c\", \"\\u0441\\u043c\\u043e\\u0442\\u0440\\u0435\\u0442\\u044c\", \"\\u0441\\u043c\\u043e\\u0442\\u0440\\u0435\\u0442\\u044c\", \"\\u0441\\u043c\\u043e\\u0447\\u044c\", \"\\u0441\\u043c\\u043e\\u0447\\u044c\", \"\\u0441\\u043c\\u043e\\u0447\\u044c\", \"\\u0441\\u043c\\u044b\\u0441\\u043b\", \"\\u0441\\u043d\\u0438\\u043c\\u0430\\u0442\\u044c\", \"\\u0441\\u043d\\u044f\\u0442\\u044c\", \"\\u0441\\u043e\\u0431\\u0430\\u043a\\u0430\", \"\\u0441\\u043e\\u0431\\u0438\\u0440\\u0430\\u0442\\u044c\", \"\\u0441\\u043e\\u0431\\u0440\\u0430\\u0442\\u044c\", \"\\u0441\\u043e\\u0431\\u0440\\u0430\\u0442\\u044c\\u0441\\u044f\", \"\\u0441\\u043e\\u0431\\u0441\\u0442\\u0432\\u0435\\u043d\\u043d\\u044b\\u0439\", \"\\u0441\\u043e\\u0432\\u0435\\u0440\\u0448\\u0435\\u043d\\u043d\\u043e\", \"\\u0441\\u043e\\u0432\\u0435\\u0440\\u0448\\u0435\\u043d\\u043d\\u043e\", \"\\u0441\\u043e\\u0432\\u0435\\u0442\", \"\\u0441\\u043e\\u0432\\u0440\\u0435\\u043c\\u0435\\u043d\\u043d\\u044b\\u0439\", \"\\u0441\\u043e\\u0433\\u043b\\u0430\\u0441\\u043d\\u044b\\u0439\", \"\\u0441\\u043e\\u0437\\u0434\\u0430\\u0442\\u044c\", \"\\u0441\\u043e\\u043b\\u0434\\u0430\\u0442\", \"\\u0441\\u043e\\u043d\", \"\\u0441\\u043e\\u0441\\u0435\\u0434\", \"\\u0441\\u043e\\u0441\\u0435\\u0434\", \"\\u0441\\u043e\\u0441\\u0435\\u0434\", \"\\u0441\\u043e\\u0441\\u0435\\u0434\\u043a\\u0430\", \"\\u0441\\u043e\\u0441\\u0442\\u043e\\u044f\\u043d\\u0438\\u0435\", \"\\u0441\\u043f\\u0430\\u0441\\u0442\\u0438\", \"\\u0441\\u043f\\u0430\\u0442\\u044c\", \"\\u0441\\u043f\\u0438\\u043d\\u0430\", \"\\u0441\\u043f\\u043e\\u0440\\u0438\\u0442\\u044c\", \"\\u0441\\u043f\\u043e\\u0441\\u043e\\u0431\\u043d\\u044b\\u0439\", \"\\u0441\\u043f\\u0440\\u0430\\u0448\\u0438\\u0432\\u0430\\u0442\\u044c\", \"\\u0441\\u043f\\u0440\\u0430\\u0448\\u0438\\u0432\\u0430\\u0442\\u044c\", \"\\u0441\\u043f\\u0440\\u0430\\u0448\\u0438\\u0432\\u0430\\u0442\\u044c\", \"\\u0441\\u043f\\u0440\\u0430\\u0448\\u0438\\u0432\\u0430\\u0442\\u044c\", \"\\u0441\\u043f\\u0440\\u0430\\u0448\\u0438\\u0432\\u0430\\u0442\\u044c\", \"\\u0441\\u043f\\u0440\\u0430\\u0448\\u0438\\u0432\\u0430\\u0442\\u044c\", \"\\u0441\\u043f\\u0440\\u0430\\u0448\\u0438\\u0432\\u0430\\u0442\\u044c\", \"\\u0441\\u043f\\u0440\\u0430\\u0448\\u0438\\u0432\\u0430\\u0442\\u044c\", \"\\u0441\\u043f\\u0440\\u0430\\u0448\\u0438\\u0432\\u0430\\u0442\\u044c\", \"\\u0441\\u043f\\u0440\\u0430\\u0448\\u0438\\u0432\\u0430\\u0442\\u044c\", \"\\u0441\\u043f\\u0440\\u0430\\u0448\\u0438\\u0432\\u0430\\u0442\\u044c\", \"\\u0441\\u0440\\u0435\\u0434\\u0438\", \"\\u0441\\u0442\\u0430\\u0432\\u0438\\u0442\\u044c\", \"\\u0441\\u0442\\u0430\\u043d\\u043e\\u0432\\u0438\\u0442\\u044c\\u0441\\u044f\", \"\\u0441\\u0442\\u0430\\u0440\\u0430\\u0442\\u044c\\u0441\\u044f\", \"\\u0441\\u0442\\u0430\\u0440\\u044b\\u0439\", \"\\u0441\\u0442\\u0430\\u0440\\u044b\\u0439\", \"\\u0441\\u0442\\u0430\\u0442\\u044c\", \"\\u0441\\u0442\\u0430\\u0442\\u044c\", \"\\u0441\\u0442\\u0430\\u0442\\u044c\", \"\\u0441\\u0442\\u0430\\u0442\\u044c\", \"\\u0441\\u0442\\u0430\\u0442\\u044c\", \"\\u0441\\u0442\\u0430\\u0442\\u044c\", \"\\u0441\\u0442\\u0430\\u0442\\u044c\", \"\\u0441\\u0442\\u0430\\u0442\\u044c\", \"\\u0441\\u0442\\u0430\\u0442\\u044c\", \"\\u0441\\u0442\\u0430\\u0442\\u044c\", \"\\u0441\\u0442\\u0430\\u0442\\u044c\", \"\\u0441\\u0442\\u0430\\u0442\\u044c\", \"\\u0441\\u0442\\u0435\\u043d\\u0430\", \"\\u0441\\u0442\\u043e\", \"\\u0441\\u0442\\u043e\\u0438\\u0442\\u044c\", \"\\u0441\\u0442\\u043e\\u0438\\u0442\\u044c\", \"\\u0441\\u0442\\u043e\\u0438\\u0442\\u044c\", \"\\u0441\\u0442\\u043e\\u0438\\u0442\\u044c\", \"\\u0441\\u0442\\u043e\\u0438\\u0442\\u044c\", \"\\u0441\\u0442\\u043e\\u0438\\u0442\\u044c\", \"\\u0441\\u0442\\u043e\\u043b\", \"\\u0441\\u0442\\u043e\\u043b\\u044c\\u043a\\u043e\", \"\\u0441\\u0442\\u043e\\u0440\\u043e\\u043d\\u0430\", \"\\u0441\\u0442\\u043e\\u044f\\u0442\\u044c\", \"\\u0441\\u0442\\u0440\\u0430\\u043d\\u0430\", \"\\u0441\\u0442\\u0440\\u0430\\u0448\\u043d\\u043e\", \"\\u0441\\u0442\\u0440\\u0430\\u0448\\u043d\\u044b\\u0439\", \"\\u0441\\u0442\\u0443\\u0434\\u0435\\u043d\\u0442\", \"\\u0441\\u0443\\u0434\", \"\\u0441\\u0443\\u0434\\u0438\\u0442\\u044c\", \"\\u0441\\u0443\\u0434\\u044c\\u044f\", \"\\u0441\\u0443\\u043f\", \"\\u0441\\u0443\\u043f\\u0440\\u0443\\u0433\", \"\\u0441\\u0445\\u043e\\u0434\\u0438\\u0442\\u044c\", \"\\u0441\\u0447\\u0430\\u0441\\u0442\\u0438\\u0435\", \"\\u0441\\u0447\\u0430\\u0441\\u0442\\u043b\\u0438\\u0432\\u044b\\u0439\", \"\\u0441\\u0447\\u0438\\u0442\\u0430\\u0442\\u044c\\u0441\\u044f\", \"\\u0441\\u0447\\u0451\\u0442\", \"\\u0441\\u0448\\u0430\", \"\\u0441\\u044a\\u0435\\u0441\\u0442\\u044c\", \"\\u0441\\u044b\\u043d\", \"\\u0441\\u044b\\u043d\\u043e\\u043a\", \"\\u0441\\u044b\\u043d\\u043e\\u043a\", \"\\u0441\\u044d\\u0440\", \"\\u0442\\u0430\\u0431\\u043b\\u0435\\u0442\\u043a\\u0430\", \"\\u0442\\u0430\\u043a\\u0438\", \"\\u0442\\u0430\\u043a\\u043e\\u0439\", \"\\u0442\\u0430\\u043a\\u043e\\u0439\", \"\\u0442\\u0430\\u043a\\u043e\\u0439\", \"\\u0442\\u0430\\u043a\\u043e\\u0439\", \"\\u0442\\u0430\\u043a\\u043e\\u0439\", \"\\u0442\\u0430\\u043a\\u043e\\u0439\", \"\\u0442\\u0430\\u043a\\u043e\\u0439\", \"\\u0442\\u0430\\u043a\\u043e\\u0439\", \"\\u0442\\u0430\\u043a\\u043e\\u0439\", \"\\u0442\\u0430\\u043a\\u043e\\u0439\", \"\\u0442\\u0432\\u043e\\u0439\", \"\\u0442\\u0432\\u043e\\u0439\", \"\\u0442\\u0432\\u043e\\u0439\", \"\\u0442\\u0435\\u043b\\u0435\\u0432\\u0438\\u0437\\u043e\\u0440\", \"\\u0442\\u0435\\u043b\\u043e\", \"\\u0442\\u0438\\u043f\", \"\\u0442\\u043e\\u0432\\u0430\\u0440\\u0438\\u0449\", \"\\u0442\\u043e\\u0447\\u043d\\u043e\", \"\\u0442\\u0440\\u0430\\u043c\\u0432\\u0430\\u0439\", \"\\u0442\\u0440\\u0430\\u043c\\u043f\", \"\\u0442\\u0440\\u0435\\u0431\\u043e\\u0432\\u0430\\u0442\\u044c\", \"\\u0442\\u0440\\u0435\\u0442\\u0438\\u0439\", \"\\u0442\\u0440\\u0438\", \"\\u0442\\u0440\\u043e\\u0435\", \"\\u0442\\u0440\\u0443\\u0434\\u043d\\u043e\", \"\\u0442\\u0440\\u0443\\u0441\", \"\\u0442\\u0443\\u0430\\u043b\\u0435\\u0442\", \"\\u0442\\u0443\\u0430\\u043b\\u0435\\u0442\", \"\\u0442\\u044b\\u0441\\u044f\\u0447\\u0430\", \"\\u0442\\u0451\\u043f\\u043b\\u044b\\u0439\", \"\\u0442\\u0451\\u0449\\u0430\", \"\\u0442\\u0451\\u0449\\u0430\", \"\\u0442\\u0451\\u0449\\u0430\", \"\\u0443\\u0431\\u0438\\u0432\\u0430\\u0442\\u044c\", \"\\u0443\\u0431\\u0438\\u0442\\u044c\", \"\\u0443\\u0431\\u0440\\u0430\\u0442\\u044c\", \"\\u0443\\u0432\\u0430\\u0436\\u0430\\u0435\\u043c\\u044b\\u0439\", \"\\u0443\\u0432\\u0438\\u0434\\u0435\\u0442\\u044c\", \"\\u0443\\u0432\\u0438\\u0434\\u0435\\u0442\\u044c\", \"\\u0443\\u0432\\u0438\\u0434\\u0435\\u0442\\u044c\", \"\\u0443\\u0433\\u043e\\u043b\", \"\\u0443\\u0434\\u0430\\u0442\\u044c\\u0441\\u044f\", \"\\u0443\\u0434\\u043e\\u0432\\u043e\\u043b\\u044c\\u0441\\u0442\\u0432\\u0438\\u0435\", \"\\u0443\\u0436\\u0430\\u0441\", \"\\u0443\\u0437\\u043d\\u0430\\u0442\\u044c\", \"\\u0443\\u0439\\u0442\\u0438\", \"\\u0443\\u043a\\u0440\\u0430\\u0438\\u043d\\u0430\", \"\\u0443\\u043a\\u0440\\u0430\\u0438\\u043d\\u0441\\u043a\\u0438\\u0439\", \"\\u0443\\u043a\\u0440\\u0430\\u0441\\u0442\\u044c\", \"\\u0443\\u043b\\u0438\\u0446\\u0430\", \"\\u0443\\u043b\\u0438\\u0446\\u0430\", \"\\u0443\\u043b\\u044b\\u0431\\u0430\\u0442\\u044c\\u0441\\u044f\", \"\\u0443\\u043c\", \"\\u0443\\u043c\\u0435\\u0440\\u0435\\u0442\\u044c\", \"\\u0443\\u043c\\u0435\\u0440\\u0435\\u0442\\u044c\", \"\\u0443\\u043c\\u0435\\u0442\\u044c\", \"\\u0443\\u043c\\u0438\\u0440\\u0430\\u0442\\u044c\", \"\\u0443\\u043c\\u043d\\u044b\\u0439\", \"\\u0443\\u043d\\u0438\\u0442\\u0430\\u0437\", \"\\u0443\\u043f\\u0430\\u0441\\u0442\\u044c\", \"\\u0443\\u0440\\u043e\\u0432\\u0435\\u043d\\u044c\", \"\\u0443\\u0441\\u043b\\u044b\\u0448\\u0430\\u0442\\u044c\", \"\\u0443\\u0441\\u043f\\u0435\\u0442\\u044c\", \"\\u0443\\u0441\\u0442\\u0430\\u0442\\u044c\", \"\\u0443\\u0442\\u0440\\u043e\", \"\\u0443\\u0442\\u0440\\u043e\", \"\\u0443\\u0442\\u0440\\u043e\\u043c\", \"\\u0443\\u0445\\u043e\", \"\\u0443\\u0445\\u043e\", \"\\u0443\\u0445\\u043e\\u0434\\u0438\\u0442\\u044c\", \"\\u0443\\u0447\\u0438\\u0442\\u0435\\u043b\\u044c\", \"\\u0443\\u0447\\u0438\\u0442\\u044c\", \"\\u0443\\u0447\\u0438\\u0442\\u044c\\u0441\\u044f\", \"\\u0444\\u0430\\u043c\\u0438\\u043b\\u0438\\u044f\", \"\\u0444\\u043e\\u0442\\u043e\\u0433\\u0440\\u0430\\u0444\\u0438\\u044f\", \"\\u0444\\u0440\\u0430\\u0437\\u0430\", \"\\u0444\\u0440\\u0430\\u0437\\u0430_``\", \"\\u0444\\u0443\\u0442\\u0431\\u043e\\u043b\", \"\\u0445\\u0432\\u0430\\u0442\\u0430\\u0442\\u044c\", \"\\u0445\\u0432\\u0430\\u0442\\u0438\\u0442\\u044c\", \"\\u0445\\u043e\\u0437\\u044f\\u0438\\u043d\", \"\\u0445\\u043e\\u043b\\u043e\\u0434\\u0438\\u043b\\u044c\\u043d\\u0438\\u043a\", \"\\u0445\\u043e\\u0440\\u043e\\u0448\\u0438\\u0439\", \"\\u0445\\u043e\\u0442\\u0435\\u0442\\u044c\", \"\\u0445\\u043e\\u0442\\u0435\\u0442\\u044c\", \"\\u0445\\u043e\\u0442\\u0435\\u0442\\u044c\", \"\\u0445\\u043e\\u0442\\u0435\\u0442\\u044c\", \"\\u0445\\u043e\\u0442\\u0435\\u0442\\u044c\", \"\\u0445\\u043e\\u0442\\u0435\\u0442\\u044c\", \"\\u0445\\u043e\\u0442\\u0435\\u0442\\u044c\", \"\\u0445\\u043e\\u0442\\u0435\\u0442\\u044c\", \"\\u0445\\u043e\\u0442\\u0435\\u0442\\u044c\", \"\\u0445\\u043e\\u0442\\u0435\\u0442\\u044c\", \"\\u0445\\u043e\\u0442\\u0435\\u0442\\u044c\", \"\\u0445\\u043e\\u0442\\u0435\\u0442\\u044c\", \"\\u0445\\u043e\\u0442\\u0435\\u0442\\u044c\", \"\\u0445\\u043e\\u0442\\u0435\\u0442\\u044c\\u0441\\u044f\", \"\\u0445\\u0440\\u0435\\u043d\", \"\\u0445\\u0440\\u0435\\u043d\\u043e\\u0432\\u044b\\u0439\", \"\\u0446\\u0432\\u0435\\u0442\", \"\\u0446\\u0435\\u043b\\u044c\", \"\\u0446\\u0435\\u043d\\u0430\", \"\\u0447\\u0430\\u0439\", \"\\u0447\\u0430\\u0441\\u0442\\u044c\", \"\\u0447\\u0430\\u0441\\u044b\", \"\\u0447\\u0435\", \"\\u0447\\u0435\\u043b\\u043e\\u0432\\u0435\\u043a\", \"\\u0447\\u0435\\u043b\\u043e\\u0432\\u0435\\u043a\", \"\\u0447\\u0435\\u043b\\u043e\\u0432\\u0435\\u043a\", \"\\u0447\\u0435\\u043b\\u043e\\u0432\\u0435\\u043a\", \"\\u0447\\u0435\\u043b\\u043e\\u0432\\u0435\\u043a\", \"\\u0447\\u0435\\u043b\\u043e\\u0432\\u0435\\u043a\", \"\\u0447\\u0435\\u043b\\u043e\\u0432\\u0435\\u043a\", \"\\u0447\\u0435\\u043b\\u043e\\u0432\\u0435\\u043a\", \"\\u0447\\u0435\\u043b\\u043e\\u0432\\u0435\\u043a\", \"\\u0447\\u0435\\u043b\\u043e\\u0432\\u0435\\u043a\", \"\\u0447\\u0435\\u043b\\u043e\\u0432\\u0435\\u043a\", \"\\u0447\\u0435\\u043b\\u043e\\u0432\\u0435\\u043a\", \"\\u0447\\u0435\\u043b\\u043e\\u0432\\u0435\\u043a\", \"\\u0447\\u0435\\u043b\\u043e\\u0432\\u0435\\u043a\", \"\\u0447\\u0438\\u043d\\u043e\\u0432\\u043d\\u0438\\u043a\", \"\\u0447\\u0438\\u0442\\u0430\\u0442\\u044c\", \"\\u0447\\u0438\\u0442\\u0430\\u0442\\u044c\", \"\\u0447\\u0438\\u0442\\u0430\\u0442\\u044c\", \"\\u0447\\u043b\\u0435\\u043d\", \"\\u0447\\u0442\\u043e\", \"\\u0447\\u0442\\u043e-\\u043d\\u0438\\u0431\\u0443\\u0434\\u044c\", \"\\u0447\\u0442\\u043e-\\u0442\\u043e\", \"\\u0447\\u0442\\u043e-\\u0442\\u043e\", \"\\u0447\\u0442\\u043e-\\u0442\\u043e\", \"\\u0447\\u0443\\u0432\\u0441\\u0442\\u0432\\u043e\", \"\\u0447\\u0443\\u0432\\u0441\\u0442\\u0432\\u043e\\u0432\\u0430\\u0442\\u044c\", \"\\u0447\\u0443\\u0436\\u043e\\u0439\", \"\\u0447\\u0451\\u0440\\u043d\\u044b\\u0439\", \"\\u0447\\u0451\\u0440\\u043d\\u044b\\u0439\", \"\\u0448\\u0435\\u0444\", \"\\u0448\\u043a\\u0430\\u0444\", \"\\u0448\\u0442\\u0438\\u0440\\u043b\\u0438\\u0446\", \"\\u044d\\u043a\\u0437\\u0430\\u043c\\u0435\\u043d\", \"\\u044d\\u0445\", \"\\u044f\\u0432\\u043b\\u044f\\u0442\\u044c\\u0441\\u044f\", \"\\u044f\\u0437\\u044b\\u043a\", \"\\u044f\\u0439\\u0446\\u043e\"]}, \"R\": 30, \"lambda.step\": 0.01, \"plot.opts\": {\"xlab\": \"PC1\", \"ylab\": \"PC2\"}, \"topic.order\": [8, 6, 11, 17, 12, 20, 7, 15, 19, 9, 2, 14, 5, 1, 18, 4, 16, 13, 10, 3]};\n",
              "\n",
              "function LDAvis_load_lib(url, callback){\n",
              "  var s = document.createElement('script');\n",
              "  s.src = url;\n",
              "  s.async = true;\n",
              "  s.onreadystatechange = s.onload = callback;\n",
              "  s.onerror = function(){console.warn(\"failed to load library \" + url);};\n",
              "  document.getElementsByTagName(\"head\")[0].appendChild(s);\n",
              "}\n",
              "\n",
              "if(typeof(LDAvis) !== \"undefined\"){\n",
              "   // already loaded: just create the visualization\n",
              "   !function(LDAvis){\n",
              "       new LDAvis(\"#\" + \"ldavis_el3741398542895274085161847390\", ldavis_el3741398542895274085161847390_data);\n",
              "   }(LDAvis);\n",
              "}else if(typeof define === \"function\" && define.amd){\n",
              "   // require.js is available: use it to load d3/LDAvis\n",
              "   require.config({paths: {d3: \"https://d3js.org/d3.v5\"}});\n",
              "   require([\"d3\"], function(d3){\n",
              "      window.d3 = d3;\n",
              "      LDAvis_load_lib(\"https://cdn.jsdelivr.net/gh/bmabey/pyLDAvis@3.4.0/pyLDAvis/js/ldavis.v3.0.0.js\", function(){\n",
              "        new LDAvis(\"#\" + \"ldavis_el3741398542895274085161847390\", ldavis_el3741398542895274085161847390_data);\n",
              "      });\n",
              "    });\n",
              "}else{\n",
              "    // require.js not available: dynamically load d3 & LDAvis\n",
              "    LDAvis_load_lib(\"https://d3js.org/d3.v5.js\", function(){\n",
              "         LDAvis_load_lib(\"https://cdn.jsdelivr.net/gh/bmabey/pyLDAvis@3.4.0/pyLDAvis/js/ldavis.v3.0.0.js\", function(){\n",
              "                 new LDAvis(\"#\" + \"ldavis_el3741398542895274085161847390\", ldavis_el3741398542895274085161847390_data);\n",
              "            })\n",
              "         });\n",
              "}\n",
              "</script>"
            ]
          },
          "metadata": {},
          "execution_count": 188
        }
      ]
    },
    {
      "cell_type": "markdown",
      "source": [
        "### преобразование сохраненных топиков в более удобный формат хранения и использования в дальнейшем"
      ],
      "metadata": {
        "id": "le7nmZ3BV-xA"
      }
    },
    {
      "cell_type": "code",
      "source": [
        "topics_gensim_base_np=topics_base.values\n",
        "topics_gensim_bi_np=topics_bi.values\n",
        "topic_gensim_base=topic_file(topics_gensim_base_np,'topic_base')\n",
        "topic_gensim_bi=topic_file(topics_gensim_bi_np,'topic_bi')"
      ],
      "metadata": {
        "id": "AfTiMTh2amM0"
      },
      "execution_count": null,
      "outputs": []
    },
    {
      "cell_type": "code",
      "source": [
        "topic_gensim_bi.head()"
      ],
      "metadata": {
        "colab": {
          "base_uri": "https://localhost:8080/",
          "height": 206
        },
        "id": "QDO2XX-Qj9Bv",
        "outputId": "5856434d-245c-4b80-b4b8-a52ca197426e"
      },
      "execution_count": null,
      "outputs": [
        {
          "output_type": "execute_result",
          "data": {
            "text/plain": [
              "   topic word_in topic  weght_topic\n",
              "0      0          мама     0.040519\n",
              "1      0          папа     0.031565\n",
              "2      0           сын     0.018772\n",
              "3      0          отец     0.016297\n",
              "4      0       бояться     0.015293"
            ],
            "text/html": [
              "\n",
              "  <div id=\"df-18141154-0f5e-4a27-93d4-bdf07b99eb56\">\n",
              "    <div class=\"colab-df-container\">\n",
              "      <div>\n",
              "<style scoped>\n",
              "    .dataframe tbody tr th:only-of-type {\n",
              "        vertical-align: middle;\n",
              "    }\n",
              "\n",
              "    .dataframe tbody tr th {\n",
              "        vertical-align: top;\n",
              "    }\n",
              "\n",
              "    .dataframe thead th {\n",
              "        text-align: right;\n",
              "    }\n",
              "</style>\n",
              "<table border=\"1\" class=\"dataframe\">\n",
              "  <thead>\n",
              "    <tr style=\"text-align: right;\">\n",
              "      <th></th>\n",
              "      <th>topic</th>\n",
              "      <th>word_in topic</th>\n",
              "      <th>weght_topic</th>\n",
              "    </tr>\n",
              "  </thead>\n",
              "  <tbody>\n",
              "    <tr>\n",
              "      <th>0</th>\n",
              "      <td>0</td>\n",
              "      <td>мама</td>\n",
              "      <td>0.040519</td>\n",
              "    </tr>\n",
              "    <tr>\n",
              "      <th>1</th>\n",
              "      <td>0</td>\n",
              "      <td>папа</td>\n",
              "      <td>0.031565</td>\n",
              "    </tr>\n",
              "    <tr>\n",
              "      <th>2</th>\n",
              "      <td>0</td>\n",
              "      <td>сын</td>\n",
              "      <td>0.018772</td>\n",
              "    </tr>\n",
              "    <tr>\n",
              "      <th>3</th>\n",
              "      <td>0</td>\n",
              "      <td>отец</td>\n",
              "      <td>0.016297</td>\n",
              "    </tr>\n",
              "    <tr>\n",
              "      <th>4</th>\n",
              "      <td>0</td>\n",
              "      <td>бояться</td>\n",
              "      <td>0.015293</td>\n",
              "    </tr>\n",
              "  </tbody>\n",
              "</table>\n",
              "</div>\n",
              "      <button class=\"colab-df-convert\" onclick=\"convertToInteractive('df-18141154-0f5e-4a27-93d4-bdf07b99eb56')\"\n",
              "              title=\"Convert this dataframe to an interactive table.\"\n",
              "              style=\"display:none;\">\n",
              "        \n",
              "  <svg xmlns=\"http://www.w3.org/2000/svg\" height=\"24px\"viewBox=\"0 0 24 24\"\n",
              "       width=\"24px\">\n",
              "    <path d=\"M0 0h24v24H0V0z\" fill=\"none\"/>\n",
              "    <path d=\"M18.56 5.44l.94 2.06.94-2.06 2.06-.94-2.06-.94-.94-2.06-.94 2.06-2.06.94zm-11 1L8.5 8.5l.94-2.06 2.06-.94-2.06-.94L8.5 2.5l-.94 2.06-2.06.94zm10 10l.94 2.06.94-2.06 2.06-.94-2.06-.94-.94-2.06-.94 2.06-2.06.94z\"/><path d=\"M17.41 7.96l-1.37-1.37c-.4-.4-.92-.59-1.43-.59-.52 0-1.04.2-1.43.59L10.3 9.45l-7.72 7.72c-.78.78-.78 2.05 0 2.83L4 21.41c.39.39.9.59 1.41.59.51 0 1.02-.2 1.41-.59l7.78-7.78 2.81-2.81c.8-.78.8-2.07 0-2.86zM5.41 20L4 18.59l7.72-7.72 1.47 1.35L5.41 20z\"/>\n",
              "  </svg>\n",
              "      </button>\n",
              "      \n",
              "  <style>\n",
              "    .colab-df-container {\n",
              "      display:flex;\n",
              "      flex-wrap:wrap;\n",
              "      gap: 12px;\n",
              "    }\n",
              "\n",
              "    .colab-df-convert {\n",
              "      background-color: #E8F0FE;\n",
              "      border: none;\n",
              "      border-radius: 50%;\n",
              "      cursor: pointer;\n",
              "      display: none;\n",
              "      fill: #1967D2;\n",
              "      height: 32px;\n",
              "      padding: 0 0 0 0;\n",
              "      width: 32px;\n",
              "    }\n",
              "\n",
              "    .colab-df-convert:hover {\n",
              "      background-color: #E2EBFA;\n",
              "      box-shadow: 0px 1px 2px rgba(60, 64, 67, 0.3), 0px 1px 3px 1px rgba(60, 64, 67, 0.15);\n",
              "      fill: #174EA6;\n",
              "    }\n",
              "\n",
              "    [theme=dark] .colab-df-convert {\n",
              "      background-color: #3B4455;\n",
              "      fill: #D2E3FC;\n",
              "    }\n",
              "\n",
              "    [theme=dark] .colab-df-convert:hover {\n",
              "      background-color: #434B5C;\n",
              "      box-shadow: 0px 1px 3px 1px rgba(0, 0, 0, 0.15);\n",
              "      filter: drop-shadow(0px 1px 2px rgba(0, 0, 0, 0.3));\n",
              "      fill: #FFFFFF;\n",
              "    }\n",
              "  </style>\n",
              "\n",
              "      <script>\n",
              "        const buttonEl =\n",
              "          document.querySelector('#df-18141154-0f5e-4a27-93d4-bdf07b99eb56 button.colab-df-convert');\n",
              "        buttonEl.style.display =\n",
              "          google.colab.kernel.accessAllowed ? 'block' : 'none';\n",
              "\n",
              "        async function convertToInteractive(key) {\n",
              "          const element = document.querySelector('#df-18141154-0f5e-4a27-93d4-bdf07b99eb56');\n",
              "          const dataTable =\n",
              "            await google.colab.kernel.invokeFunction('convertToInteractive',\n",
              "                                                     [key], {});\n",
              "          if (!dataTable) return;\n",
              "\n",
              "          const docLinkHtml = 'Like what you see? Visit the ' +\n",
              "            '<a target=\"_blank\" href=https://colab.research.google.com/notebooks/data_table.ipynb>data table notebook</a>'\n",
              "            + ' to learn more about interactive tables.';\n",
              "          element.innerHTML = '';\n",
              "          dataTable['output_type'] = 'display_data';\n",
              "          await google.colab.output.renderOutput(dataTable, element);\n",
              "          const docLink = document.createElement('div');\n",
              "          docLink.innerHTML = docLinkHtml;\n",
              "          element.appendChild(docLink);\n",
              "        }\n",
              "      </script>\n",
              "    </div>\n",
              "  </div>\n",
              "  "
            ]
          },
          "metadata": {},
          "execution_count": 59
        }
      ]
    },
    {
      "cell_type": "markdown",
      "source": [
        "### Посмотрим примеры визуализации полученных топиков"
      ],
      "metadata": {
        "id": "zCVl3oCqE-Ab"
      }
    },
    {
      "cell_type": "code",
      "source": [
        "with open('/content/topics_base_cloud', 'rb') as f:\n",
        "    lda_topics_base = pickle.load(f)\n",
        "with open('/content/topics_bi_cloud', 'rb') as f:\n",
        "    lda_topics_bi = pickle.load(f)\n",
        "for i in range(20):\n",
        "  #print(i)\n",
        "  plotWordCloud(topic_number=i, topics=lda_topics_base,head='Топики base ')\n",
        "  plotWordCloud(topic_number=i, topics=lda_topics_bi,head='Топики bi')    "
      ],
      "metadata": {
        "id": "otfhS4p0eD34"
      },
      "execution_count": null,
      "outputs": []
    },
    {
      "cell_type": "markdown",
      "source": [
        "## Проверим такую идею:\n",
        "\n",
        "Назначим каждому документу наиболее подходящий (наиболее вероятный) для него топик, для каждой из моделей(base и bi)."
      ],
      "metadata": {
        "id": "GsMxoFmJFJzq"
      }
    },
    {
      "cell_type": "code",
      "source": [
        "ds_line[\"lda_base\"] = ds_line[\"text_processed\"].apply(get_topic, lda=ldamodel_base)\n",
        "ds_line[\"lda_bi\"] = ds_line[\"text_processed\"].apply(get_topic, lda=ldamodel_bi)\n",
        "ds_line[\"topic_base\"] = ds_line[\"lda_base\"].str[0]\n",
        "ds_line[\"probability_base\"] = ds_line[\"lda_base\"].str[1]\n",
        "del ds_line[\"lda_base\"]\n",
        "ds_line[\"topic_bi\"] = ds_line[\"lda_bi\"].str[0]\n",
        "ds_line[\"probability_bi\"] = ds_line[\"lda_bi\"].str[1]\n",
        "del ds_line[\"lda_bi\"]\n",
        "del ds_line[\"text_processed_new\"]\n",
        "del ds_line[\"text_processed\"]"
      ],
      "metadata": {
        "id": "caEAvTLtnRbl"
      },
      "execution_count": null,
      "outputs": []
    },
    {
      "cell_type": "code",
      "source": [
        "ds_line[['topic_base','topic_bi']].head(10)"
      ],
      "metadata": {
        "id": "85aqgNKpUsEy"
      },
      "execution_count": null,
      "outputs": []
    },
    {
      "cell_type": "markdown",
      "source": [
        "Сохраним полученные присвоения для дальнейшего использования"
      ],
      "metadata": {
        "id": "2WDjMXKy7jYA"
      }
    },
    {
      "cell_type": "code",
      "source": [
        "ds_line.to_csv('anekdot_topics.csv',index=False, index_label=False)"
      ],
      "metadata": {
        "id": "QdUxuDMMUZHO"
      },
      "execution_count": null,
      "outputs": []
    },
    {
      "cell_type": "markdown",
      "source": [
        "## Небольшой разведочный анализ полученного результата"
      ],
      "metadata": {
        "id": "8bxiXRAocdU9"
      }
    },
    {
      "cell_type": "code",
      "source": [
        "ds_line=pd.read_csv('/content/anekdot_topics.csv')\n",
        "ds_line.groupby(['topic_base'])['text_base'].count()\n",
        "ds_line.groupby(['topic_bi'])['text_base'].count()\n",
        "ds_line.groupby(['topic_nmf'])['text_base'].count()\n",
        "ds_line.groupby(['topic_lda'])['text_base'].count()"
      ],
      "metadata": {
        "id": "tsQfNqN6WVtS"
      },
      "execution_count": null,
      "outputs": []
    },
    {
      "cell_type": "code",
      "source": [
        "ds_line.tail()"
      ],
      "metadata": {
        "colab": {
          "base_uri": "https://localhost:8080/",
          "height": 337
        },
        "id": "u7TdT5Gb_kNp",
        "outputId": "b352c161-aec9-4470-be64-b0e49c79f54e"
      },
      "execution_count": null,
      "outputs": [
        {
          "output_type": "execute_result",
          "data": {
            "text/plain": [
              "                                                text_base  topic_base  \\\n",
              "118169  - Кстати, если на Новый год напишешь письмо не...         7.0   \n",
              "118170  У рукколы есть нормальное русское название - \"...         5.0   \n",
              "118171  Хищения в особо крупных размерах продолжаются ...        17.0   \n",
              "118172  Конечно, на вечере встречи выпускников иногда ...        18.0   \n",
              "118173       - Женской дружбы нет. Это миф.- Дружбы между         NaN   \n",
              "\n",
              "        probability_base  topic_bi  probability_bi  topic_nmf  \\\n",
              "118169          0.324962      14.0        0.287116       14.0   \n",
              "118170          0.256250      10.0        0.381250       14.0   \n",
              "118171          0.203333      12.0        0.183623       19.0   \n",
              "118172          0.307837       1.0        0.221138       19.0   \n",
              "118173               NaN       NaN             NaN        NaN   \n",
              "\n",
              "        probability_nmf  topic_lda  probability_lda  \n",
              "118169         0.050001        4.0         0.395096  \n",
              "118170         0.019956       17.0         0.419386  \n",
              "118171         0.003331        7.0         0.215942  \n",
              "118172         0.005323        0.0         0.180571  \n",
              "118173              NaN        NaN              NaN  "
            ],
            "text/html": [
              "\n",
              "  <div id=\"df-386a40f6-51d5-48ef-ad5a-19b52da38ada\">\n",
              "    <div class=\"colab-df-container\">\n",
              "      <div>\n",
              "<style scoped>\n",
              "    .dataframe tbody tr th:only-of-type {\n",
              "        vertical-align: middle;\n",
              "    }\n",
              "\n",
              "    .dataframe tbody tr th {\n",
              "        vertical-align: top;\n",
              "    }\n",
              "\n",
              "    .dataframe thead th {\n",
              "        text-align: right;\n",
              "    }\n",
              "</style>\n",
              "<table border=\"1\" class=\"dataframe\">\n",
              "  <thead>\n",
              "    <tr style=\"text-align: right;\">\n",
              "      <th></th>\n",
              "      <th>text_base</th>\n",
              "      <th>topic_base</th>\n",
              "      <th>probability_base</th>\n",
              "      <th>topic_bi</th>\n",
              "      <th>probability_bi</th>\n",
              "      <th>topic_nmf</th>\n",
              "      <th>probability_nmf</th>\n",
              "      <th>topic_lda</th>\n",
              "      <th>probability_lda</th>\n",
              "    </tr>\n",
              "  </thead>\n",
              "  <tbody>\n",
              "    <tr>\n",
              "      <th>118169</th>\n",
              "      <td>- Кстати, если на Новый год напишешь письмо не...</td>\n",
              "      <td>7.0</td>\n",
              "      <td>0.324962</td>\n",
              "      <td>14.0</td>\n",
              "      <td>0.287116</td>\n",
              "      <td>14.0</td>\n",
              "      <td>0.050001</td>\n",
              "      <td>4.0</td>\n",
              "      <td>0.395096</td>\n",
              "    </tr>\n",
              "    <tr>\n",
              "      <th>118170</th>\n",
              "      <td>У рукколы есть нормальное русское название - \"...</td>\n",
              "      <td>5.0</td>\n",
              "      <td>0.256250</td>\n",
              "      <td>10.0</td>\n",
              "      <td>0.381250</td>\n",
              "      <td>14.0</td>\n",
              "      <td>0.019956</td>\n",
              "      <td>17.0</td>\n",
              "      <td>0.419386</td>\n",
              "    </tr>\n",
              "    <tr>\n",
              "      <th>118171</th>\n",
              "      <td>Хищения в особо крупных размерах продолжаются ...</td>\n",
              "      <td>17.0</td>\n",
              "      <td>0.203333</td>\n",
              "      <td>12.0</td>\n",
              "      <td>0.183623</td>\n",
              "      <td>19.0</td>\n",
              "      <td>0.003331</td>\n",
              "      <td>7.0</td>\n",
              "      <td>0.215942</td>\n",
              "    </tr>\n",
              "    <tr>\n",
              "      <th>118172</th>\n",
              "      <td>Конечно, на вечере встречи выпускников иногда ...</td>\n",
              "      <td>18.0</td>\n",
              "      <td>0.307837</td>\n",
              "      <td>1.0</td>\n",
              "      <td>0.221138</td>\n",
              "      <td>19.0</td>\n",
              "      <td>0.005323</td>\n",
              "      <td>0.0</td>\n",
              "      <td>0.180571</td>\n",
              "    </tr>\n",
              "    <tr>\n",
              "      <th>118173</th>\n",
              "      <td>- Женской дружбы нет. Это миф.- Дружбы между</td>\n",
              "      <td>NaN</td>\n",
              "      <td>NaN</td>\n",
              "      <td>NaN</td>\n",
              "      <td>NaN</td>\n",
              "      <td>NaN</td>\n",
              "      <td>NaN</td>\n",
              "      <td>NaN</td>\n",
              "      <td>NaN</td>\n",
              "    </tr>\n",
              "  </tbody>\n",
              "</table>\n",
              "</div>\n",
              "      <button class=\"colab-df-convert\" onclick=\"convertToInteractive('df-386a40f6-51d5-48ef-ad5a-19b52da38ada')\"\n",
              "              title=\"Convert this dataframe to an interactive table.\"\n",
              "              style=\"display:none;\">\n",
              "        \n",
              "  <svg xmlns=\"http://www.w3.org/2000/svg\" height=\"24px\"viewBox=\"0 0 24 24\"\n",
              "       width=\"24px\">\n",
              "    <path d=\"M0 0h24v24H0V0z\" fill=\"none\"/>\n",
              "    <path d=\"M18.56 5.44l.94 2.06.94-2.06 2.06-.94-2.06-.94-.94-2.06-.94 2.06-2.06.94zm-11 1L8.5 8.5l.94-2.06 2.06-.94-2.06-.94L8.5 2.5l-.94 2.06-2.06.94zm10 10l.94 2.06.94-2.06 2.06-.94-2.06-.94-.94-2.06-.94 2.06-2.06.94z\"/><path d=\"M17.41 7.96l-1.37-1.37c-.4-.4-.92-.59-1.43-.59-.52 0-1.04.2-1.43.59L10.3 9.45l-7.72 7.72c-.78.78-.78 2.05 0 2.83L4 21.41c.39.39.9.59 1.41.59.51 0 1.02-.2 1.41-.59l7.78-7.78 2.81-2.81c.8-.78.8-2.07 0-2.86zM5.41 20L4 18.59l7.72-7.72 1.47 1.35L5.41 20z\"/>\n",
              "  </svg>\n",
              "      </button>\n",
              "      \n",
              "  <style>\n",
              "    .colab-df-container {\n",
              "      display:flex;\n",
              "      flex-wrap:wrap;\n",
              "      gap: 12px;\n",
              "    }\n",
              "\n",
              "    .colab-df-convert {\n",
              "      background-color: #E8F0FE;\n",
              "      border: none;\n",
              "      border-radius: 50%;\n",
              "      cursor: pointer;\n",
              "      display: none;\n",
              "      fill: #1967D2;\n",
              "      height: 32px;\n",
              "      padding: 0 0 0 0;\n",
              "      width: 32px;\n",
              "    }\n",
              "\n",
              "    .colab-df-convert:hover {\n",
              "      background-color: #E2EBFA;\n",
              "      box-shadow: 0px 1px 2px rgba(60, 64, 67, 0.3), 0px 1px 3px 1px rgba(60, 64, 67, 0.15);\n",
              "      fill: #174EA6;\n",
              "    }\n",
              "\n",
              "    [theme=dark] .colab-df-convert {\n",
              "      background-color: #3B4455;\n",
              "      fill: #D2E3FC;\n",
              "    }\n",
              "\n",
              "    [theme=dark] .colab-df-convert:hover {\n",
              "      background-color: #434B5C;\n",
              "      box-shadow: 0px 1px 3px 1px rgba(0, 0, 0, 0.15);\n",
              "      filter: drop-shadow(0px 1px 2px rgba(0, 0, 0, 0.3));\n",
              "      fill: #FFFFFF;\n",
              "    }\n",
              "  </style>\n",
              "\n",
              "      <script>\n",
              "        const buttonEl =\n",
              "          document.querySelector('#df-386a40f6-51d5-48ef-ad5a-19b52da38ada button.colab-df-convert');\n",
              "        buttonEl.style.display =\n",
              "          google.colab.kernel.accessAllowed ? 'block' : 'none';\n",
              "\n",
              "        async function convertToInteractive(key) {\n",
              "          const element = document.querySelector('#df-386a40f6-51d5-48ef-ad5a-19b52da38ada');\n",
              "          const dataTable =\n",
              "            await google.colab.kernel.invokeFunction('convertToInteractive',\n",
              "                                                     [key], {});\n",
              "          if (!dataTable) return;\n",
              "\n",
              "          const docLinkHtml = 'Like what you see? Visit the ' +\n",
              "            '<a target=\"_blank\" href=https://colab.research.google.com/notebooks/data_table.ipynb>data table notebook</a>'\n",
              "            + ' to learn more about interactive tables.';\n",
              "          element.innerHTML = '';\n",
              "          dataTable['output_type'] = 'display_data';\n",
              "          await google.colab.output.renderOutput(dataTable, element);\n",
              "          const docLink = document.createElement('div');\n",
              "          docLink.innerHTML = docLinkHtml;\n",
              "          element.appendChild(docLink);\n",
              "        }\n",
              "      </script>\n",
              "    </div>\n",
              "  </div>\n",
              "  "
            ]
          },
          "metadata": {},
          "execution_count": 9
        }
      ]
    },
    {
      "cell_type": "code",
      "source": [
        "ds_line.groupby(['topic_base'])['text_base'].count()"
      ],
      "metadata": {
        "id": "Oic4bhW6_1Xd"
      },
      "execution_count": null,
      "outputs": []
    },
    {
      "cell_type": "code",
      "source": [
        "ds_line.groupby(['topic_bi'])['text_base'].count()"
      ],
      "metadata": {
        "id": "mHoB8p89AQRW"
      },
      "execution_count": null,
      "outputs": []
    },
    {
      "cell_type": "markdown",
      "source": [
        "Оценим степень совпадения топиков полученных по разным исходным данным в библиотеке Gensim.\n",
        "\n",
        "Определим \"устойчивые\" - наиболее популярные пары топиков, которые назначаются одному документу.\n",
        "\n",
        "Поскольку, как мы видим, значение для *probability* в некоторых случаях не высокая, ограничимся только теми записями у которых оно выше **0.5**"
      ],
      "metadata": {
        "id": "cJcOltnDlGNS"
      }
    },
    {
      "cell_type": "code",
      "source": [
        "ds_line_lite=ds_line[(ds_line['probability_base']>0.5)&(ds_line['probability_bi']>0.5)]\n",
        "ds_top=ds_line_lite.groupby(['topic_base','topic_bi'])['text_base'].count().reset_index()\n",
        "ds_top.columns=['topic_base',\t'topic_bi',\t'rec_counts']"
      ],
      "metadata": {
        "id": "I9Ac4icZZfHp"
      },
      "execution_count": null,
      "outputs": []
    },
    {
      "cell_type": "code",
      "source": [
        "ds_top=ds_line_lite.groupby(['topic_base','topic_bi'])['text_base'].count().reset_index()\n",
        "ds_top.columns=['topic_base',\t'topic_bi',\t'rec_counts']\n",
        "#ds_top.head()"
      ],
      "metadata": {
        "id": "4Hgh0LJcWsZ7"
      },
      "execution_count": null,
      "outputs": []
    },
    {
      "cell_type": "code",
      "source": [
        "ds_top['rec_counts'].describe()"
      ],
      "metadata": {
        "colab": {
          "base_uri": "https://localhost:8080/"
        },
        "id": "odHw-U-bm5kS",
        "outputId": "348d2cba-500d-428e-e8c9-9e7b9bff2172"
      },
      "execution_count": null,
      "outputs": [
        {
          "output_type": "execute_result",
          "data": {
            "text/plain": [
              "count    394.000000\n",
              "mean       9.527919\n",
              "std       15.307052\n",
              "min        1.000000\n",
              "25%        4.000000\n",
              "50%        6.000000\n",
              "75%       10.000000\n",
              "max      181.000000\n",
              "Name: rec_counts, dtype: float64"
            ]
          },
          "metadata": {},
          "execution_count": 30
        }
      ]
    },
    {
      "cell_type": "markdown",
      "source": [
        "Видно что разница между минимальным (1) и максимальным значением (181), для более наглядной визуализации полученного результата  воспользуемся функцией десятичного логарифмом от *rec_counts* \n",
        "\n"
      ],
      "metadata": {
        "id": "JQYEjhgbnLjK"
      }
    },
    {
      "cell_type": "code",
      "source": [
        "ds_top['log']=np.log10(ds_top['rec_counts'])\n",
        "topics_base_bi = pd.pivot_table(ds_top,\n",
        "               index='topic_base',\n",
        "               values='log',\n",
        "               columns='topic_bi',\n",
        "               fill_value=0)\n",
        "topics_base_bi_np=topics_base_bi.values\n",
        "#topics_base_bi.head()"
      ],
      "metadata": {
        "id": "vSAm71inZAPy"
      },
      "execution_count": null,
      "outputs": []
    },
    {
      "cell_type": "code",
      "source": [
        "fig = px.imshow(topics_base_bi,width=600, height=600, labels = dict(y = \"Топики Base\", x = \"Топики Bi\", color = \"Legend\"))\n",
        "#fig.update_xaxes(side = \"top\")\n",
        "fig.show()"
      ],
      "metadata": {
        "id": "puYvYH9XtSzJ"
      },
      "execution_count": null,
      "outputs": []
    },
    {
      "cell_type": "markdown",
      "source": [
        "Топики полученных для разных моделей, но имеющие высокую частотность"
      ],
      "metadata": {
        "id": "hgXlzj3Z9uh3"
      }
    },
    {
      "cell_type": "code",
      "source": [
        "plotWordCloud(topic_number=7, topics=lda_topics_base,head='Топики base ')\n",
        "plotWordCloud(topic_number=7, topics=lda_topics_bi,head='Топики bi ')"
      ],
      "metadata": {
        "id": "FTVbJlfQymt6"
      },
      "execution_count": null,
      "outputs": []
    },
    {
      "cell_type": "markdown",
      "source": [
        "Как видим они визуально походи и выделяют сходные токены."
      ],
      "metadata": {
        "id": "dyzF0duS-ICz"
      }
    },
    {
      "cell_type": "markdown",
      "source": [
        "Пример сравнения топиков полученных для разных моделей, но имеющие меньшую частоту"
      ],
      "metadata": {
        "id": "t00_pJyg-SqK"
      }
    },
    {
      "cell_type": "code",
      "source": [
        "plotWordCloud(topic_number=5, topics=lda_topics_base,head='Топики base ')\n",
        "plotWordCloud(topic_number=10, topics=lda_topics_bi,head='Топики bi ')"
      ],
      "metadata": {
        "id": "sJdXhzCJoiU7"
      },
      "execution_count": null,
      "outputs": []
    },
    {
      "cell_type": "markdown",
      "source": [
        "Видны сходные топики, но их популярность представлена по разному"
      ],
      "metadata": {
        "id": "dasFO9Z7-lVi"
      }
    },
    {
      "cell_type": "markdown",
      "source": [
        "Топики с низкой частотой"
      ],
      "metadata": {
        "id": "PAhllZp4-uyu"
      }
    },
    {
      "cell_type": "code",
      "source": [
        "plotWordCloud(topic_number=9, topics=lda_topics_base,head='Топики base ')\n",
        "plotWordCloud(topic_number=9, topics=lda_topics_bi,head='Топики bi ')"
      ],
      "metadata": {
        "id": "fDy7CWpoykl3"
      },
      "execution_count": null,
      "outputs": []
    },
    {
      "cell_type": "markdown",
      "source": [
        "Видно что между ними практически отсутсвуют общие токены"
      ],
      "metadata": {
        "id": "TP9cruDw-9Lk"
      }
    },
    {
      "cell_type": "markdown",
      "source": [
        "Другое представление связи между топиками, позволяющее видеть значений логарифма частоты совместной встречаемости"
      ],
      "metadata": {
        "id": "Bp57gSer_Ezf"
      }
    },
    {
      "cell_type": "code",
      "source": [
        "plt.rcParams['figure.figsize']=15,15\n",
        "sns.heatmap(topics_base_bi, annot=True, fmt=\".1f\") "
      ],
      "metadata": {
        "id": "2lRze1gE_89w"
      },
      "execution_count": null,
      "outputs": []
    },
    {
      "cell_type": "markdown",
      "source": [
        "Следует отметить, что полученные выше результат относится лишь к 3% от общего числа документов (9*394=3546).\n",
        "\n",
        "Снижение порога до уровня 0.4 или 0.3 - увеличило бы число учитываемых документов, но снижало бы достоверность отнесения документов к одному топику."
      ],
      "metadata": {
        "id": "cWFn4q2CvBGt"
      }
    },
    {
      "cell_type": "markdown",
      "source": [
        "# В библиотеке **sklearn** для векторизации на базе весов TF-IDF для токенов в предложениях текста, воспользуемся функцией Tfidfvectorizer.\n",
        "\n",
        "Модель Tfidfvectorizerсоздает представление исходного массива текстов разреженой матрицей размерности (N - количество тектов, M - мощность словаря), при этом словарь фильтруется отсекая токены имеющие малые значения величины (веса) TF-IDF."
      ],
      "metadata": {
        "id": "GG-WBjMUfKXH"
      }
    },
    {
      "cell_type": "markdown",
      "source": [
        "Импротируем созраненные данные, при этом пропустим этап токенизации и лемматизации воспользовавшись текстами подготовленными при работе с Gensim"
      ],
      "metadata": {
        "id": "XznKrIQlzyid"
      }
    },
    {
      "cell_type": "code",
      "source": [
        "ds_line = pd.read_csv('anekdot_pr.csv') #,converters={\"text_processed\": literal_eval})\n",
        "from sklearn.feature_extraction.text import TfidfVectorizer\n",
        "#no_features = 300\n",
        "\n",
        "#tfidf_vectorizer = TfidfVectorizer(max_df=0.95, min_df=2, max_features=no_features, stop_words=filter)\n",
        "tfidf_vectorizer = TfidfVectorizer(max_df=0.95, min_df=2,  stop_words=filter)\n",
        "tfidf = tfidf_vectorizer.fit_transform(ds_line[\"text_processed_new\"].values.astype('U'))\n",
        "\n",
        "tokens_sklearn = tfidf_vectorizer.get_feature_names_out()\n",
        "print('Длина словаря',len(tokens_sklearn))"
      ],
      "metadata": {
        "id": "gSiPBHKfklDY"
      },
      "execution_count": null,
      "outputs": []
    },
    {
      "cell_type": "markdown",
      "source": [
        "Модель TfidfVectorizer позволяет создавать словари с заранее ограниченной длинной и без такого ограничения. Для нашего исследования ограничение снято.\n",
        "\n",
        "Полученная мощность словаря сопоставима с той, что была полученно для мешка слов в Gensim"
      ],
      "metadata": {
        "id": "UFVXPwOX0JH9"
      }
    },
    {
      "cell_type": "code",
      "source": [
        "tokens_sklearn"
      ],
      "metadata": {
        "id": "kGz6dSgZFSL8"
      },
      "execution_count": null,
      "outputs": []
    },
    {
      "cell_type": "markdown",
      "source": [
        "## Модели получения тем"
      ],
      "metadata": {
        "id": "MDkuUJoTLvxs"
      }
    },
    {
      "cell_type": "code",
      "source": [
        "from sklearn.decomposition import NMF, LatentDirichletAllocation\n",
        "no_topics = 20\n",
        "no_top_words=10"
      ],
      "metadata": {
        "id": "EdWIH4Esk4pS"
      },
      "execution_count": null,
      "outputs": []
    },
    {
      "cell_type": "markdown",
      "source": [
        "### тренировка моделей получения числа топиков, для двух подходов выделения топиков."
      ],
      "metadata": {
        "id": "cDdT4_H9qGAy"
      }
    },
    {
      "cell_type": "code",
      "source": [
        "# Model lda_tfidf\n",
        "lda_tfidf = LatentDirichletAllocation(n_components=no_topics, max_iter=5, learning_method='online', learning_offset=50.,random_state=1024).fit(tfidf)\n",
        "# Model NMF\n",
        "nmf = NMF(n_components=no_topics, random_state=1024, l1_ratio=.5, init='nndsvd').fit(tfidf)"
      ],
      "metadata": {
        "id": "_01aRMM0Fj72",
        "colab": {
          "base_uri": "https://localhost:8080/"
        },
        "outputId": "38f9ae25-cd95-4e5a-b16f-58cf346abf0e"
      },
      "execution_count": null,
      "outputs": [
        {
          "output_type": "stream",
          "name": "stderr",
          "text": [
            "/usr/local/lib/python3.9/dist-packages/sklearn/decomposition/_nmf.py:1665: ConvergenceWarning:\n",
            "\n",
            "Maximum number of iterations 200 reached. Increase it to improve convergence.\n",
            "\n"
          ]
        }
      ]
    },
    {
      "cell_type": "markdown",
      "source": [
        "### получим распределение топиков для текстов и произведем присвоение полученных значений текстам наиболее популярных топиков, аналогично тому как это было сделано для моделей в Gensim"
      ],
      "metadata": {
        "id": "--WBeK2aqMsp"
      }
    },
    {
      "cell_type": "code",
      "source": [
        "top_lda=topics_max(tfidf,lda_tfidf)\n",
        "top_nmf=topics_max(tfidf,nmf)\n",
        "ds_topic=pd.read_csv('/content/anekdot_topics.csv')\n",
        "ds_topic['topic_nmf']=top_nmf[:,1]\n",
        "ds_topic['probability_nmf']=top_nmf[:,0]\n",
        "ds_topic['topic_lda']=top_lda[:,1]\n",
        "ds_topic['probability_lda']=top_lda[:,0]"
      ],
      "metadata": {
        "id": "DpfzcFpwQvBh"
      },
      "execution_count": null,
      "outputs": []
    },
    {
      "cell_type": "code",
      "source": [
        "top_nmf=topics_max(tfidf,nmf)"
      ],
      "metadata": {
        "id": "QKirLhfGYRGG"
      },
      "execution_count": null,
      "outputs": []
    },
    {
      "cell_type": "code",
      "source": [
        "ds_topic=pd.read_csv('/content/anekdot_topics.csv')"
      ],
      "metadata": {
        "id": "1xh9aArIP3zU"
      },
      "execution_count": null,
      "outputs": []
    },
    {
      "cell_type": "code",
      "source": [
        "ds_topic['topic_nmf']=top_nmf[:,1]\n",
        "ds_topic['probability_nmf']=top_nmf[:,0]\n",
        "\n",
        "ds_topic['topic_lda']=top_lda[:,1]\n",
        "ds_topic['probability_lda']=top_lda[:,0]"
      ],
      "metadata": {
        "id": "1cWb4x4PMbFD"
      },
      "execution_count": null,
      "outputs": []
    },
    {
      "cell_type": "code",
      "source": [
        "ds_topic.head(50)"
      ],
      "metadata": {
        "id": "ceBLXlkXYTVK"
      },
      "execution_count": null,
      "outputs": []
    },
    {
      "cell_type": "markdown",
      "source": [
        "Сохраним для дальнейшего анализа файл содержащий ссылки на топики к которым отнесены анекдоты разными моделями."
      ],
      "metadata": {
        "id": "oE4s0sNs5Eh8"
      }
    },
    {
      "cell_type": "code",
      "source": [
        "ds_topic.to_csv('anekdot_topics.csv',index=False, index_label=False)"
      ],
      "metadata": {
        "id": "gzFAV0UHSh2P"
      },
      "execution_count": null,
      "outputs": []
    },
    {
      "cell_type": "markdown",
      "source": [
        "### Визуализация топиков полученный по моделям nmf и lda_tf-idf"
      ],
      "metadata": {
        "id": "-jNtocspqmRw"
      }
    },
    {
      "cell_type": "code",
      "source": [
        "no_top_words=10\n",
        "topic_lda=display_topics(lda_tfidf, tokens_sklearn, no_top_words)"
      ],
      "metadata": {
        "id": "hsJqO9CkhcLe"
      },
      "execution_count": null,
      "outputs": []
    },
    {
      "cell_type": "code",
      "source": [
        "topic_nmf=display_topics(nmf, tokens_sklearn, no_top_words)"
      ],
      "metadata": {
        "id": "s2EIVO0UL_zH"
      },
      "execution_count": null,
      "outputs": []
    },
    {
      "cell_type": "code",
      "source": [
        "topic_nmf.to_csv('topic_nmf.csv',index=False, index_label=False)\n",
        "topic_lda.to_csv('topic_lda.csv',index=False, index_label=False)"
      ],
      "metadata": {
        "id": "fUBVesNCOFPO"
      },
      "execution_count": null,
      "outputs": []
    },
    {
      "cell_type": "markdown",
      "source": [
        "Облака для топиков моделей sklearn"
      ],
      "metadata": {
        "id": "gFUHuvMLrt3n"
      }
    },
    {
      "cell_type": "code",
      "source": [
        "for i in range(20):\n",
        "    plotWordCloud_2(topic_number=i, topics=topic_lda)    "
      ],
      "metadata": {
        "id": "BxLNk69PjExe"
      },
      "execution_count": null,
      "outputs": []
    },
    {
      "cell_type": "code",
      "source": [
        "for i in range(20):\n",
        "    plotWordCloud_2(topic_number=i, topics=topic_nmf)    "
      ],
      "metadata": {
        "id": "HsHd9D1jqVrx"
      },
      "execution_count": null,
      "outputs": []
    },
    {
      "cell_type": "markdown",
      "source": [
        "## По аналогии с предыдущим случаем, интересно сравнить топики формируемые разными подходами и особенностями библиотек gensim и sklearn.\n",
        "\n",
        "Импортируем сохраненные ранее сохраненые топики"
      ],
      "metadata": {
        "id": "giHx1z7vqzHd"
      }
    },
    {
      "cell_type": "code",
      "source": [
        "topic_base=pd.read_csv('/content/topic_base.csv')\n",
        "topic_bi=pd.read_csv('/content/topic_bi.csv')\n",
        "topic_nmf=pd.read_csv('/content/topic_nmf.csv')\n",
        "topic_lda=pd.read_csv('/content/topic_lda.csv')\n",
        "#topic_gemsim_np=topic_gemsim.values\n",
        "#topic_nmf_np=topic_nmf.values\n"
      ],
      "metadata": {
        "id": "DWr48a8ILKsl"
      },
      "execution_count": null,
      "outputs": []
    },
    {
      "cell_type": "markdown",
      "source": [
        "### для получения эмбеддингов используем модель \"маленький BERT\" описанную в  https://habr.com/ru/post/562064/ .\n",
        "\n",
        "Из нее получим модели токенизации получения эбеддингов"
      ],
      "metadata": {
        "id": "9-1VDPB-rJ_D"
      }
    },
    {
      "cell_type": "code",
      "source": [
        "import torch\n",
        "from transformers import AutoTokenizer, AutoModel\n",
        "tokenizer = AutoTokenizer.from_pretrained(\"cointegrated/rubert-tiny\")\n",
        "model = AutoModel.from_pretrained(\"cointegrated/rubert-tiny\")\n",
        "# model.cuda()  # uncomment it if you have a GPU"
      ],
      "metadata": {
        "id": "wxQuEtk8zuuy"
      },
      "execution_count": null,
      "outputs": []
    },
    {
      "cell_type": "markdown",
      "source": [
        "## Для примера сравним топики из моделей topic_base (Gensim) и topic_nmf (Sklearn). \n",
        "\n",
        "И ограничимся 15 первыми словами каждого из топиков (иначе ресурсов бесплатного colab может не хватить). \n",
        "\n",
        "Сравнение векторов полученных из эмбеддингов, осуществим на основании косинусного расстояния."
      ],
      "metadata": {
        "id": "PdU0bPnuSPb8"
      }
    },
    {
      "cell_type": "code",
      "source": [
        "plt.rcParams['figure.figsize']=15,15\n",
        "topic_sim=[]\n",
        "for i in range(20):\n",
        "  v1 = ' '.join(topic_base[topic_base['topic']==i]['topic_word'].values[:15])\n",
        "  v1_emb=embed_bert_cls(v1, model, tokenizer)\n",
        "#  print(v1)\n",
        "  for m in range(20):\n",
        "    sim_work=[]\n",
        "    v2 = ' '.join(topic_nmf[topic_nmf['topic']==m]['topic_word'].values[:15])\n",
        "    v2_emb=embed_bert_cls(v2, model, tokenizer)\n",
        "    sim=similarity(v1_emb, v2_emb)\n",
        "    sim_work.append(i)\n",
        "    sim_work.append(m)\n",
        "    sim_work.append(sim)\n",
        "    topic_sim.append(sim_work)\n",
        "#topic_sim\n",
        "topic_sim_ds=pd.DataFrame(topic_sim,columns=['base','nmf','cos_sim'])\n",
        "glue = topic_sim_ds.pivot('base', 'nmf', 'cos_sim')\n",
        "sns.heatmap(glue, annot=True, fmt=\".1f\")        "
      ],
      "metadata": {
        "id": "-bBQDdmUWIDy"
      },
      "execution_count": null,
      "outputs": []
    },
    {
      "cell_type": "code",
      "source": [
        "fig = px.imshow(glue,width=600, height=600)\n",
        "fig.show()"
      ],
      "metadata": {
        "id": "SH2DYrPlBAfS"
      },
      "execution_count": null,
      "outputs": []
    },
    {
      "cell_type": "code",
      "source": [
        "ds_line=pd.read_csv('/content/anekdot_topics.csv')\n",
        "topic=pd.read_csv('/content/topic_nmf.csv')"
      ],
      "metadata": {
        "id": "Z0i0WAyc1xED"
      },
      "execution_count": null,
      "outputs": []
    },
    {
      "cell_type": "code",
      "source": [
        "ds_line.head()"
      ],
      "metadata": {
        "id": "-ZbTvTzU78_I"
      },
      "execution_count": null,
      "outputs": []
    },
    {
      "cell_type": "code",
      "source": [
        "topic_nmf=pd.read_csv('/content/topic_nmf.csv')\n",
        "topic_lda=pd.read_csv('/content/topic_lda.csv')\n",
        "topic_base=pd.read_csv('/content/topic_base.csv')\n",
        "topic_bi=pd.read_csv('/content/topic_bi.csv')"
      ],
      "metadata": {
        "id": "jSz9CYvT6rrm"
      },
      "execution_count": null,
      "outputs": []
    },
    {
      "cell_type": "code",
      "source": [
        "topic_bi.head()"
      ],
      "metadata": {
        "id": "zhhhpQK7_lxH"
      },
      "execution_count": null,
      "outputs": []
    },
    {
      "cell_type": "code",
      "source": [
        "topic[topic['topic']==].head()"
      ],
      "metadata": {
        "id": "-z9HAIFA6ufG"
      },
      "execution_count": null,
      "outputs": []
    },
    {
      "cell_type": "code",
      "source": [
        "topic_nnmf_0=ds_line[ds_line['topic_nmf']==0]['text_base']"
      ],
      "metadata": {
        "id": "Q44tTNAI16HX"
      },
      "execution_count": null,
      "outputs": []
    },
    {
      "cell_type": "code",
      "source": [
        "joke_generator(ds_line,9,10,'topic_nmf')"
      ],
      "metadata": {
        "id": "FlPJL0D4-GII"
      },
      "execution_count": null,
      "outputs": []
    },
    {
      "cell_type": "code",
      "source": [
        "def joke_generator(data,topic_id,num,topic_model='topic_lda',):\n",
        "  if topic_model=='topic_base': \n",
        "    data_topic=topic_base\n",
        "  if topic_model=='topic_bi': \n",
        "    data_topic=topic_bi\n",
        "  if topic_model=='topic_nmf': \n",
        "    data_topic=topic_nmf\n",
        "  if topic_model=='topic_lda': \n",
        "    data_topic=topic_lda\n",
        "  word_in_topic=data_topic[data_topic['topic']==topic_id]['topic_word'].values[:10]\n",
        "  print('токены топика:',\", \".join(word_in_topic) )\n",
        "  print()\n",
        "\n",
        "#  plotWordCloud_2(topic_number=topic_id, topics=data_topic)\n",
        "  jokes=data[data[topic_model]==topic_id]['text_base'].values  \n",
        "  for i, joke in enumerate(jokes[:num]):\n",
        "    print('анекдот',i,joke)"
      ],
      "metadata": {
        "id": "r6tlvU232fui"
      },
      "execution_count": null,
      "outputs": []
    },
    {
      "cell_type": "code",
      "source": [
        "print(ds_line.groupby(['topic_base'])['text_base'].count())\n",
        "print(ds_line.groupby(['topic_bi'])['text_base'].count())\n",
        "print(ds_line.groupby(['topic_nmf'])['text_base'].count())\n",
        "print(ds_line.groupby(['topic_lda'])['text_base'].count())"
      ],
      "metadata": {
        "id": "UKRi3MQQ1IaB"
      },
      "execution_count": null,
      "outputs": []
    },
    {
      "cell_type": "markdown",
      "source": [
        "Покажим в сравнении топики для высокого значения косинусного расстояния"
      ],
      "metadata": {
        "id": "N0IetKl-6jBe"
      }
    },
    {
      "cell_type": "code",
      "source": [
        "plotWordCloud_2(topic_number=0, topics=topic_nmf)\n",
        "plotWordCloud(topic_number=16, topics=lda_topics_base,head='Топики base ')"
      ],
      "metadata": {
        "id": "ZExSFisBc8bI"
      },
      "execution_count": null,
      "outputs": []
    },
    {
      "cell_type": "code",
      "source": [
        "plotWordCloud_2(topic_number=2, topics=topic_nmf)\n",
        "plotWordCloud(topic_number=3, topics=lda_topics_base,head='Топики base ')"
      ],
      "metadata": {
        "id": "vToRXJsCctF1"
      },
      "execution_count": null,
      "outputs": []
    },
    {
      "cell_type": "code",
      "source": [
        "plotWordCloud_2(topic_number=6, topics=topic_nmf)\n",
        "plotWordCloud(topic_number=7, topics=lda_topics_base,head='Топики base ')"
      ],
      "metadata": {
        "id": "LccLcNZBMAeO"
      },
      "execution_count": null,
      "outputs": []
    }
  ]
}