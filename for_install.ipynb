{
  "nbformat": 4,
  "nbformat_minor": 0,
  "metadata": {
    "colab": {
      "provenance": [],
      "authorship_tag": "ABX9TyO7R2xH/r0wH8vP5ya+is6t",
      "include_colab_link": true
    },
    "kernelspec": {
      "name": "python3",
      "display_name": "Python 3"
    },
    "language_info": {
      "name": "python"
    }
  },
  "cells": [
    {
      "cell_type": "markdown",
      "metadata": {
        "id": "view-in-github",
        "colab_type": "text"
      },
      "source": [
        "<a href=\"https://colab.research.google.com/github/Vl-Leschinskii/jokes_topics/blob/main/for_install.ipynb\" target=\"_parent\"><img src=\"https://colab.research.google.com/assets/colab-badge.svg\" alt=\"Open In Colab\"/></a>"
      ]
    },
    {
      "cell_type": "markdown",
      "source": [
        "## Прошу прощения у тех кто хотел бы увидеть полный код \"как есть\", у меня же скорее конструктор, каждый может увидеть и использовать по назначению соответвующие функции и установиьт библиотеки.\n",
        "\n",
        "### Нужные установки"
      ],
      "metadata": {
        "id": "ifOZnyHUMxTR"
      }
    },
    {
      "cell_type": "markdown",
      "source": [
        "### библитека для морфологического разбора токенов"
      ],
      "metadata": {
        "id": "nB0qs0jCJu4a"
      }
    },
    {
      "cell_type": "code",
      "source": [
        "!pip install pymorphy2\n",
        "from pymorphy2 import MorphAnalyzer\n",
        "\n",
        "parser = MorphAnalyzer()"
      ],
      "metadata": {
        "id": "56dj8TTfLZRI"
      },
      "execution_count": null,
      "outputs": []
    },
    {
      "cell_type": "markdown",
      "source": [
        "### Трансформер предложений, используется для модели BERT через torch"
      ],
      "metadata": {
        "id": "x8wBSS-RJ4L1"
      }
    },
    {
      "cell_type": "code",
      "source": [
        "!pip install transformers sentencepiece\n",
        "import torch\n",
        "from transformers import AutoTokenizer, AutoModel"
      ],
      "metadata": {
        "id": "7AfNV1Px9i_v"
      },
      "execution_count": null,
      "outputs": []
    },
    {
      "cell_type": "markdown",
      "source": [
        "### Разбор регулярный выражений"
      ],
      "metadata": {
        "id": "wyUNpI54KJkF"
      }
    },
    {
      "cell_type": "code",
      "source": [
        "import re"
      ],
      "metadata": {
        "id": "g55WGgnLUgFE"
      },
      "execution_count": null,
      "outputs": []
    },
    {
      "cell_type": "markdown",
      "source": [
        "### Джентельменский набор библитек для работы с данными разных форматов"
      ],
      "metadata": {
        "id": "QMByrppEKnQj"
      }
    },
    {
      "cell_type": "code",
      "source": [
        "import pandas as pd             \n",
        "import numpy as np               \n",
        "import matplotlib.pyplot as plt  \n",
        "import seaborn as sns\n",
        "import plotly.express as px                          \n",
        "import pickle\n",
        "from wordcloud import WordCloud  # Пакет для построения облаков слов\n",
        "\n",
        "plt.style.use('ggplot')\n",
        "%matplotlib inline\n",
        "import gensim\n",
        "from gensim import corpora, models\n",
        "from ast import literal_eval\n",
        "\n",
        "import os\n",
        "import requests\n",
        "from pathlib import Path\n",
        "import nltk\n",
        "from nltk import sent_tokenize, word_tokenize, regexp_tokenize\n",
        "from collections import Counter\n",
        "from nltk.corpus import stopwords as nltk_stopwords\n",
        "from nltk.tokenize import word_tokenize \n",
        "from nltk import download as nltk_download "
      ],
      "metadata": {
        "id": "XbWJXj9Lep1C"
      },
      "execution_count": null,
      "outputs": []
    }
  ]
}